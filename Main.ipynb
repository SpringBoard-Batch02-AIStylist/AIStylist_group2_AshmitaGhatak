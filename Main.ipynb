{
 "cells": [
  {
   "cell_type": "code",
   "execution_count": 2,
   "id": "474490df",
   "metadata": {},
   "outputs": [],
   "source": [
    "#Dataset: https://www.kaggle.com/datasets/paramaggarwal/fashion-product-images-small"
   ]
  },
  {
   "cell_type": "code",
   "execution_count": 3,
   "id": "8853a1e6",
   "metadata": {},
   "outputs": [
    {
     "name": "stderr",
     "output_type": "stream",
     "text": [
      "C:\\Users\\ASHMITA\\AppData\\Local\\Packages\\PythonSoftwareFoundation.Python.3.10_qbz5n2kfra8p0\\LocalCache\\local-packages\\Python310\\site-packages\\scipy\\__init__.py:146: UserWarning: A NumPy version >=1.17.3 and <1.25.0 is required for this version of SciPy (detected version 1.26.4\n",
      "  warnings.warn(f\"A NumPy version >={np_minversion} and <{np_maxversion}\"\n"
     ]
    }
   ],
   "source": [
    "import numpy as np\n",
    "import pandas as pd\n",
    "import matplotlib.pyplot as plt\n",
    "import seaborn as sns\n",
    "%matplotlib inline\n"
   ]
  },
  {
   "cell_type": "code",
   "execution_count": 6,
   "id": "f142d89d",
   "metadata": {},
   "outputs": [
    {
     "data": {
      "text/html": [
       "<div>\n",
       "<style scoped>\n",
       "    .dataframe tbody tr th:only-of-type {\n",
       "        vertical-align: middle;\n",
       "    }\n",
       "\n",
       "    .dataframe tbody tr th {\n",
       "        vertical-align: top;\n",
       "    }\n",
       "\n",
       "    .dataframe thead th {\n",
       "        text-align: right;\n",
       "    }\n",
       "</style>\n",
       "<table border=\"1\" class=\"dataframe\">\n",
       "  <thead>\n",
       "    <tr style=\"text-align: right;\">\n",
       "      <th></th>\n",
       "      <th>id</th>\n",
       "      <th>gender</th>\n",
       "      <th>masterCategory</th>\n",
       "      <th>subCategory</th>\n",
       "      <th>articleType</th>\n",
       "      <th>baseColour</th>\n",
       "      <th>season</th>\n",
       "      <th>usage</th>\n",
       "      <th>productDisplayName</th>\n",
       "      <th>colorgroup</th>\n",
       "    </tr>\n",
       "  </thead>\n",
       "  <tbody>\n",
       "    <tr>\n",
       "      <th>0</th>\n",
       "      <td>15970</td>\n",
       "      <td>Men</td>\n",
       "      <td>Apparel</td>\n",
       "      <td>Topwear</td>\n",
       "      <td>Shirts</td>\n",
       "      <td>Navy Blue</td>\n",
       "      <td>Fall</td>\n",
       "      <td>Casual</td>\n",
       "      <td>Turtle Check Men Navy Blue Shirt</td>\n",
       "      <td>Blue</td>\n",
       "    </tr>\n",
       "    <tr>\n",
       "      <th>1</th>\n",
       "      <td>39386</td>\n",
       "      <td>Men</td>\n",
       "      <td>Apparel</td>\n",
       "      <td>Bottomwear</td>\n",
       "      <td>Jeans</td>\n",
       "      <td>Blue</td>\n",
       "      <td>Summer</td>\n",
       "      <td>Casual</td>\n",
       "      <td>Peter England Men Party Blue Jeans</td>\n",
       "      <td>Blue</td>\n",
       "    </tr>\n",
       "    <tr>\n",
       "      <th>2</th>\n",
       "      <td>59263</td>\n",
       "      <td>Women</td>\n",
       "      <td>Accessories</td>\n",
       "      <td>Watches</td>\n",
       "      <td>Watches</td>\n",
       "      <td>Silver</td>\n",
       "      <td>Winter</td>\n",
       "      <td>Casual</td>\n",
       "      <td>Titan Women Silver Watch</td>\n",
       "      <td>Grey</td>\n",
       "    </tr>\n",
       "    <tr>\n",
       "      <th>3</th>\n",
       "      <td>21379</td>\n",
       "      <td>Men</td>\n",
       "      <td>Apparel</td>\n",
       "      <td>Bottomwear</td>\n",
       "      <td>Track Pants</td>\n",
       "      <td>Black</td>\n",
       "      <td>Fall</td>\n",
       "      <td>Casual</td>\n",
       "      <td>Manchester United Men Solid Black Track Pants</td>\n",
       "      <td>Black</td>\n",
       "    </tr>\n",
       "    <tr>\n",
       "      <th>4</th>\n",
       "      <td>53759</td>\n",
       "      <td>Men</td>\n",
       "      <td>Apparel</td>\n",
       "      <td>Topwear</td>\n",
       "      <td>Tshirts</td>\n",
       "      <td>Grey</td>\n",
       "      <td>Summer</td>\n",
       "      <td>Casual</td>\n",
       "      <td>Puma Men Grey T-shirt</td>\n",
       "      <td>Grey</td>\n",
       "    </tr>\n",
       "  </tbody>\n",
       "</table>\n",
       "</div>"
      ],
      "text/plain": [
       "      id gender masterCategory subCategory  articleType baseColour  season  \\\n",
       "0  15970    Men        Apparel     Topwear       Shirts  Navy Blue    Fall   \n",
       "1  39386    Men        Apparel  Bottomwear        Jeans       Blue  Summer   \n",
       "2  59263  Women    Accessories     Watches      Watches     Silver  Winter   \n",
       "3  21379    Men        Apparel  Bottomwear  Track Pants      Black    Fall   \n",
       "4  53759    Men        Apparel     Topwear      Tshirts       Grey  Summer   \n",
       "\n",
       "    usage                             productDisplayName colorgroup  \n",
       "0  Casual               Turtle Check Men Navy Blue Shirt       Blue  \n",
       "1  Casual             Peter England Men Party Blue Jeans       Blue  \n",
       "2  Casual                       Titan Women Silver Watch       Grey  \n",
       "3  Casual  Manchester United Men Solid Black Track Pants      Black  \n",
       "4  Casual                          Puma Men Grey T-shirt       Grey  "
      ]
     },
     "execution_count": 6,
     "metadata": {},
     "output_type": "execute_result"
    }
   ],
   "source": [
    "df= pd.read_csv(\"styles.csv\")\n",
    "custom_palette = \"viridis\"\n",
    "df.head()"
   ]
  },
  {
   "cell_type": "code",
   "execution_count": 59,
   "id": "b28d94ea",
   "metadata": {
    "scrolled": true
   },
   "outputs": [
    {
     "data": {
      "text/plain": [
       "Index(['id', 'gender', 'masterCategory', 'subCategory', 'articleType',\n",
       "       'baseColour', 'season', 'usage', 'productDisplayName'],\n",
       "      dtype='object')"
      ]
     },
     "execution_count": 59,
     "metadata": {},
     "output_type": "execute_result"
    }
   ],
   "source": [
    "df.columns"
   ]
  },
  {
   "cell_type": "code",
   "execution_count": 60,
   "id": "abbbd4f1",
   "metadata": {},
   "outputs": [
    {
     "name": "stdout",
     "output_type": "stream",
     "text": [
      "Original Data:\n",
      "      id gender masterCategory subCategory  articleType baseColour  season  \\\n",
      "0  15970    Men        Apparel     Topwear       Shirts  Navy Blue    Fall   \n",
      "1  39386    Men        Apparel  Bottomwear        Jeans       Blue  Summer   \n",
      "2  59263  Women    Accessories     Watches      Watches     Silver  Winter   \n",
      "3  21379    Men        Apparel  Bottomwear  Track Pants      Black    Fall   \n",
      "4  53759    Men        Apparel     Topwear      Tshirts       Grey  Summer   \n",
      "\n",
      "    usage                             productDisplayName colorgroup  \n",
      "0  Casual               Turtle Check Men Navy Blue Shirt       Blue  \n",
      "1  Casual             Peter England Men Party Blue Jeans       Blue  \n",
      "2  Casual                       Titan Women Silver Watch       Grey  \n",
      "3  Casual  Manchester United Men Solid Black Track Pants      Black  \n",
      "4  Casual                          Puma Men Grey T-shirt       Grey  \n"
     ]
    }
   ],
   "source": [
    "data = pd.read_csv('styles.csv')\n",
    "print(\"Original Data:\")\n",
    "print(data.head())"
   ]
  },
  {
   "cell_type": "markdown",
   "id": "0555c46a",
   "metadata": {},
   "source": [
    "## Data preprocessing"
   ]
  },
  {
   "cell_type": "code",
   "execution_count": 124,
   "id": "b36733f1",
   "metadata": {},
   "outputs": [
    {
     "name": "stdout",
     "output_type": "stream",
     "text": [
      "Filtered Data (masterCategory):\n",
      "Apparel           19122\n",
      "Accessories       11248\n",
      "Footwear           9222\n",
      "Sporting Goods        4\n",
      "Name: masterCategory, dtype: int64\n",
      "\n",
      "Filtered Data (subCategory):\n",
      "Topwear        15405\n",
      "Shoes           7344\n",
      "Bags            3055\n",
      "Bottomwear      2694\n",
      "Watches         2542\n",
      "Jewellery       1080\n",
      "Eyewear         1073\n",
      "Sandal           963\n",
      "Wallets          933\n",
      "Flip Flops       915\n",
      "Belts            811\n",
      "Socks            698\n",
      "Dress            478\n",
      "Saree            427\n",
      "Headwear         293\n",
      "Ties             258\n",
      "Accessories      143\n",
      "Scarves          118\n",
      "Cufflinks        108\n",
      "Apparel Set      106\n",
      "Stoles            90\n",
      "Mufflers          38\n",
      "Gloves            20\n",
      "Wristbands         4\n",
      "Name: subCategory, dtype: int64\n",
      "\n",
      "Reloaded Data (masterCategory):\n",
      "Apparel           19122\n",
      "Accessories       11248\n",
      "Footwear           9222\n",
      "Sporting Goods        4\n",
      "Name: masterCategory, dtype: int64\n",
      "\n",
      "Reloaded Data (subCategory):\n",
      "Topwear        15405\n",
      "Shoes           7344\n",
      "Bags            3055\n",
      "Bottomwear      2694\n",
      "Watches         2542\n",
      "Jewellery       1080\n",
      "Eyewear         1073\n",
      "Sandal           963\n",
      "Wallets          933\n",
      "Flip Flops       915\n",
      "Belts            811\n",
      "Socks            698\n",
      "Dress            478\n",
      "Saree            427\n",
      "Headwear         293\n",
      "Ties             258\n",
      "Accessories      143\n",
      "Scarves          118\n",
      "Cufflinks        108\n",
      "Apparel Set      106\n",
      "Stoles            90\n",
      "Mufflers          38\n",
      "Gloves            20\n",
      "Wristbands         4\n",
      "Name: subCategory, dtype: int64\n"
     ]
    }
   ],
   "source": [
    "#filtering out unwanted unique values from the masterCategory and subCategory column:\n",
    "master_categories_to_remove = ['Personal Care', 'Free Items', 'Home']\n",
    "sub_categories_to_remove = ['Innerwear', 'Fragrance', 'Lips', 'Loungewear and Nightwear', 'Nails', 'Makeup',\n",
    "                            'Free Gifts', 'Skin Care', 'Bath and Body', 'Water Bottle', 'Perfumes', 'Umbrellas', \n",
    "                            'Home Furnishing', 'Vouchers', 'Sports Equipment', 'Shoe Accessories', 'Sports Accessories']\n",
    "\n",
    "cleaned_df = data[\n",
    "    (~data['masterCategory'].isin(master_categories_to_remove)) &\n",
    "    (~data['subCategory'].isin(sub_categories_to_remove))\n",
    "]\n",
    "print(\"Filtered Data (masterCategory):\")\n",
    "print(cleaned_df['masterCategory'].value_counts())\n",
    "print(\"\\nFiltered Data (subCategory):\")\n",
    "print(cleaned_df['subCategory'].value_counts())\n",
    "\n",
    "cleaned_df.to_csv('styles.csv', index=False)\n",
    "\n",
    "#verify\n",
    "reloaded_df = pd.read_csv('styles.csv')\n",
    "print(\"\\nReloaded Data (masterCategory):\")\n",
    "print(reloaded_df['masterCategory'].value_counts())\n",
    "print(\"\\nReloaded Data (subCategory):\")\n",
    "print(reloaded_df['subCategory'].value_counts())"
   ]
  },
  {
   "cell_type": "code",
   "execution_count": 125,
   "id": "3270a103",
   "metadata": {},
   "outputs": [
    {
     "data": {
      "text/plain": [
       "(39569, 9)"
      ]
     },
     "execution_count": 125,
     "metadata": {},
     "output_type": "execute_result"
    }
   ],
   "source": [
    "df.shape"
   ]
  },
  {
   "cell_type": "code",
   "execution_count": 126,
   "id": "b49abea1",
   "metadata": {},
   "outputs": [
    {
     "data": {
      "text/plain": [
       "<bound method DataFrame.info of           id  gender masterCategory subCategory articleType baseColour  \\\n",
       "11524   1163     Men        Apparel     Topwear     Tshirts       Blue   \n",
       "11266   1164     Men        Apparel     Topwear     Tshirts       Blue   \n",
       "14636   1165     Men        Apparel     Topwear     Tshirts       Blue   \n",
       "8208    1525  Unisex    Accessories        Bags   Backpacks  Navy Blue   \n",
       "29630   1526  Unisex    Accessories        Bags   Backpacks      Black   \n",
       "...      ...     ...            ...         ...         ...        ...   \n",
       "14791  59995   Women        Apparel       Dress     Dresses      Black   \n",
       "33029  59996   Women        Apparel       Dress     Dresses     Purple   \n",
       "32449  59998   Women       Footwear       Shoes       Heels      Multi   \n",
       "30968  59999   Women       Footwear       Shoes       Heels     Bronze   \n",
       "5769   60000   Women        Apparel     Topwear      Kurtas       Blue   \n",
       "\n",
       "       season   usage                                productDisplayName  \n",
       "11524  Summer  Sports  Nike Sahara Team India Fanwear Round Neck Jersey  \n",
       "11266  Winter  Sports           Nike Men Blue T20 Indian Cricket Jersey  \n",
       "14636  Summer  Sports               Nike Mean Team India Cricket Jersey  \n",
       "8208     Fall  Casual                      Puma Deck Navy Blue Backpack  \n",
       "29630    Fall  Sports                       Puma Big Cat Backpack Black  \n",
       "...       ...     ...                                               ...  \n",
       "14791    Fall   Party                               Avirate Black Dress  \n",
       "33029  Summer  Casual                      Avirate Black & Purple Dress  \n",
       "32449  Winter  Casual                Catwalk Women Multi Coloured Heels  \n",
       "30968  Winter  Casual                       Catwalk Women Bronze Wedges  \n",
       "5769     Fall  Ethnic                             Alma Women Blue Kurta  \n",
       "\n",
       "[39569 rows x 9 columns]>"
      ]
     },
     "execution_count": 126,
     "metadata": {},
     "output_type": "execute_result"
    }
   ],
   "source": [
    "df.info"
   ]
  },
  {
   "cell_type": "code",
   "execution_count": 127,
   "id": "e700098d",
   "metadata": {},
   "outputs": [
    {
     "data": {
      "text/plain": [
       "id                     int64\n",
       "gender                object\n",
       "masterCategory        object\n",
       "subCategory           object\n",
       "articleType           object\n",
       "baseColour            object\n",
       "season                object\n",
       "usage                 object\n",
       "productDisplayName    object\n",
       "dtype: object"
      ]
     },
     "execution_count": 127,
     "metadata": {},
     "output_type": "execute_result"
    }
   ],
   "source": [
    "df.dtypes"
   ]
  },
  {
   "cell_type": "markdown",
   "id": "07ebcc49",
   "metadata": {},
   "source": [
    "Observation: Only id is numerical feature rest categorical data features."
   ]
  },
  {
   "cell_type": "code",
   "execution_count": 128,
   "id": "972920b7",
   "metadata": {},
   "outputs": [
    {
     "data": {
      "text/plain": [
       "id                    0\n",
       "gender                0\n",
       "masterCategory        0\n",
       "subCategory           0\n",
       "articleType           0\n",
       "baseColour            0\n",
       "season                0\n",
       "usage                 0\n",
       "productDisplayName    0\n",
       "dtype: int64"
      ]
     },
     "execution_count": 128,
     "metadata": {},
     "output_type": "execute_result"
    }
   ],
   "source": [
    "df.isnull().sum()"
   ]
  },
  {
   "cell_type": "code",
   "execution_count": 129,
   "id": "846971ce",
   "metadata": {},
   "outputs": [
    {
     "data": {
      "text/plain": [
       "[]"
      ]
     },
     "execution_count": 129,
     "metadata": {},
     "output_type": "execute_result"
    }
   ],
   "source": [
    "[features for features in df.columns if df[features].isnull().sum()>0]"
   ]
  },
  {
   "cell_type": "code",
   "execution_count": 130,
   "id": "e4805ec9",
   "metadata": {},
   "outputs": [],
   "source": [
    "features_null=[features for features in df.columns if df[features].isnull().sum()>1]\n",
    "\n",
    "for feature in features_null:\n",
    "    print(feature, np.round(df[feature].isnull().mean(), 4),  ' % missing values')"
   ]
  },
  {
   "cell_type": "code",
   "execution_count": 131,
   "id": "dd523fff",
   "metadata": {},
   "outputs": [
    {
     "data": {
      "text/plain": [
       "(array([0.5, 1.5, 2.5, 3.5, 4.5, 5.5, 6.5, 7.5, 8.5]),\n",
       " [Text(0.5, 0, 'id'),\n",
       "  Text(1.5, 0, 'gender'),\n",
       "  Text(2.5, 0, 'masterCategory'),\n",
       "  Text(3.5, 0, 'subCategory'),\n",
       "  Text(4.5, 0, 'articleType'),\n",
       "  Text(5.5, 0, 'baseColour'),\n",
       "  Text(6.5, 0, 'season'),\n",
       "  Text(7.5, 0, 'usage'),\n",
       "  Text(8.5, 0, 'productDisplayName')])"
      ]
     },
     "execution_count": 131,
     "metadata": {},
     "output_type": "execute_result"
    },
    {
     "data": {
      "image/png": "[encoded data removed]",
      "text/plain": [
       "<Figure size 576x432 with 1 Axes>"
      ]
     },
     "metadata": {
      "needs_background": "light"
     },
     "output_type": "display_data"
    }
   ],
   "source": [
    "plt.figure(figsize=(8,6))\n",
    "sns.heatmap(df.isnull(),yticklabels=False,cbar=False,cmap='viridis')\n",
    "plt.xticks(rotation=45)"
   ]
  },
  {
   "cell_type": "code",
   "execution_count": 132,
   "id": "e07604e9",
   "metadata": {},
   "outputs": [],
   "source": [
    "df.dropna(inplace=True)"
   ]
  },
  {
   "cell_type": "code",
   "execution_count": 133,
   "id": "42fce893",
   "metadata": {},
   "outputs": [
    {
     "data": {
      "text/plain": [
       "id                    0\n",
       "gender                0\n",
       "masterCategory        0\n",
       "subCategory           0\n",
       "articleType           0\n",
       "baseColour            0\n",
       "season                0\n",
       "usage                 0\n",
       "productDisplayName    0\n",
       "dtype: int64"
      ]
     },
     "execution_count": 133,
     "metadata": {},
     "output_type": "execute_result"
    }
   ],
   "source": [
    "df.isnull().sum()"
   ]
  },
  {
   "cell_type": "code",
   "execution_count": 134,
   "id": "8161fc33",
   "metadata": {},
   "outputs": [],
   "source": [
    "df.sort_values('id', inplace=True)"
   ]
  },
  {
   "cell_type": "code",
   "execution_count": 135,
   "id": "9fa24227",
   "metadata": {},
   "outputs": [
    {
     "data": {
      "text/html": [
       "<div>\n",
       "<style scoped>\n",
       "    .dataframe tbody tr th:only-of-type {\n",
       "        vertical-align: middle;\n",
       "    }\n",
       "\n",
       "    .dataframe tbody tr th {\n",
       "        vertical-align: top;\n",
       "    }\n",
       "\n",
       "    .dataframe thead th {\n",
       "        text-align: right;\n",
       "    }\n",
       "</style>\n",
       "<table border=\"1\" class=\"dataframe\">\n",
       "  <thead>\n",
       "    <tr style=\"text-align: right;\">\n",
       "      <th></th>\n",
       "      <th>id</th>\n",
       "      <th>gender</th>\n",
       "      <th>masterCategory</th>\n",
       "      <th>subCategory</th>\n",
       "      <th>articleType</th>\n",
       "      <th>baseColour</th>\n",
       "      <th>season</th>\n",
       "      <th>usage</th>\n",
       "      <th>productDisplayName</th>\n",
       "    </tr>\n",
       "  </thead>\n",
       "  <tbody>\n",
       "    <tr>\n",
       "      <th>11524</th>\n",
       "      <td>1163</td>\n",
       "      <td>Men</td>\n",
       "      <td>Apparel</td>\n",
       "      <td>Topwear</td>\n",
       "      <td>Tshirts</td>\n",
       "      <td>Blue</td>\n",
       "      <td>Summer</td>\n",
       "      <td>Sports</td>\n",
       "      <td>Nike Sahara Team India Fanwear Round Neck Jersey</td>\n",
       "    </tr>\n",
       "    <tr>\n",
       "      <th>11266</th>\n",
       "      <td>1164</td>\n",
       "      <td>Men</td>\n",
       "      <td>Apparel</td>\n",
       "      <td>Topwear</td>\n",
       "      <td>Tshirts</td>\n",
       "      <td>Blue</td>\n",
       "      <td>Winter</td>\n",
       "      <td>Sports</td>\n",
       "      <td>Nike Men Blue T20 Indian Cricket Jersey</td>\n",
       "    </tr>\n",
       "    <tr>\n",
       "      <th>14636</th>\n",
       "      <td>1165</td>\n",
       "      <td>Men</td>\n",
       "      <td>Apparel</td>\n",
       "      <td>Topwear</td>\n",
       "      <td>Tshirts</td>\n",
       "      <td>Blue</td>\n",
       "      <td>Summer</td>\n",
       "      <td>Sports</td>\n",
       "      <td>Nike Mean Team India Cricket Jersey</td>\n",
       "    </tr>\n",
       "    <tr>\n",
       "      <th>8208</th>\n",
       "      <td>1525</td>\n",
       "      <td>Unisex</td>\n",
       "      <td>Accessories</td>\n",
       "      <td>Bags</td>\n",
       "      <td>Backpacks</td>\n",
       "      <td>Navy Blue</td>\n",
       "      <td>Fall</td>\n",
       "      <td>Casual</td>\n",
       "      <td>Puma Deck Navy Blue Backpack</td>\n",
       "    </tr>\n",
       "    <tr>\n",
       "      <th>29630</th>\n",
       "      <td>1526</td>\n",
       "      <td>Unisex</td>\n",
       "      <td>Accessories</td>\n",
       "      <td>Bags</td>\n",
       "      <td>Backpacks</td>\n",
       "      <td>Black</td>\n",
       "      <td>Fall</td>\n",
       "      <td>Sports</td>\n",
       "      <td>Puma Big Cat Backpack Black</td>\n",
       "    </tr>\n",
       "  </tbody>\n",
       "</table>\n",
       "</div>"
      ],
      "text/plain": [
       "         id  gender masterCategory subCategory articleType baseColour  season  \\\n",
       "11524  1163     Men        Apparel     Topwear     Tshirts       Blue  Summer   \n",
       "11266  1164     Men        Apparel     Topwear     Tshirts       Blue  Winter   \n",
       "14636  1165     Men        Apparel     Topwear     Tshirts       Blue  Summer   \n",
       "8208   1525  Unisex    Accessories        Bags   Backpacks  Navy Blue    Fall   \n",
       "29630  1526  Unisex    Accessories        Bags   Backpacks      Black    Fall   \n",
       "\n",
       "        usage                                productDisplayName  \n",
       "11524  Sports  Nike Sahara Team India Fanwear Round Neck Jersey  \n",
       "11266  Sports           Nike Men Blue T20 Indian Cricket Jersey  \n",
       "14636  Sports               Nike Mean Team India Cricket Jersey  \n",
       "8208   Casual                      Puma Deck Navy Blue Backpack  \n",
       "29630  Sports                       Puma Big Cat Backpack Black  "
      ]
     },
     "execution_count": 135,
     "metadata": {},
     "output_type": "execute_result"
    }
   ],
   "source": [
    "df.head()"
   ]
  },
  {
   "cell_type": "code",
   "execution_count": 136,
   "id": "dbe9f8b8",
   "metadata": {},
   "outputs": [
    {
     "data": {
      "text/plain": [
       "Men       20390\n",
       "Women     15605\n",
       "Unisex     2098\n",
       "Boys        826\n",
       "Girls       650\n",
       "Name: gender, dtype: int64"
      ]
     },
     "execution_count": 136,
     "metadata": {},
     "output_type": "execute_result"
    }
   ],
   "source": [
    "df.gender.value_counts()"
   ]
  },
  {
   "cell_type": "code",
   "execution_count": 137,
   "id": "1e86cab7",
   "metadata": {},
   "outputs": [
    {
     "data": {
      "text/plain": [
       "<AxesSubplot:xlabel='gender', ylabel='count'>"
      ]
     },
     "execution_count": 137,
     "metadata": {},
     "output_type": "execute_result"
    },
    {
     "data": {
      "image/png": "[encoded data removed]",
      "text/plain": [
       "<Figure size 432x288 with 1 Axes>"
      ]
     },
     "metadata": {
      "needs_background": "light"
     },
     "output_type": "display_data"
    }
   ],
   "source": [
    "sns.countplot(x=\"gender\", data=df,palette=custom_palette)"
   ]
  },
  {
   "cell_type": "markdown",
   "id": "a1179b05",
   "metadata": {},
   "source": [
    "Observation: Mostly Men and Women followed by Unisex, Boys and Girls."
   ]
  },
  {
   "cell_type": "code",
   "execution_count": 138,
   "id": "5903e92b",
   "metadata": {},
   "outputs": [
    {
     "data": {
      "text/plain": [
       "Apparel           19099\n",
       "Accessories       11245\n",
       "Footwear           9200\n",
       "Sporting Goods       25\n",
       "Name: masterCategory, dtype: int64"
      ]
     },
     "execution_count": 138,
     "metadata": {},
     "output_type": "execute_result"
    }
   ],
   "source": [
    "df.masterCategory.value_counts()"
   ]
  },
  {
   "cell_type": "code",
   "execution_count": 139,
   "id": "c4db04da",
   "metadata": {},
   "outputs": [
    {
     "data": {
      "text/plain": [
       "<AxesSubplot:xlabel='masterCategory', ylabel='count'>"
      ]
     },
     "execution_count": 139,
     "metadata": {},
     "output_type": "execute_result"
    },
    {
     "data": {
      "image/png": "[encoded data removed]",
      "text/plain": [
       "<Figure size 432x288 with 1 Axes>"
      ]
     },
     "metadata": {
      "needs_background": "light"
     },
     "output_type": "display_data"
    }
   ],
   "source": [
    "sns.countplot(x=\"masterCategory\", data=df,palette=custom_palette)"
   ]
  },
  {
   "cell_type": "markdown",
   "id": "ddb4ce68",
   "metadata": {},
   "source": [
    "Observation: Mostly Apparel followed by Accesories and Footwear."
   ]
  },
  {
   "cell_type": "code",
   "execution_count": 140,
   "id": "79f150fd",
   "metadata": {},
   "outputs": [
    {
     "data": {
      "text/plain": [
       "Topwear               15390\n",
       "Shoes                  7324\n",
       "Bags                   3053\n",
       "Bottomwear             2686\n",
       "Watches                2542\n",
       "Jewellery              1080\n",
       "Eyewear                1073\n",
       "Sandal                  961\n",
       "Wallets                 925\n",
       "Flip Flops              915\n",
       "Belts                   811\n",
       "Socks                   698\n",
       "Dress                   478\n",
       "Saree                   427\n",
       "Headwear                293\n",
       "Ties                    258\n",
       "Accessories             143\n",
       "Scarves                 118\n",
       "Cufflinks               108\n",
       "Apparel Set             106\n",
       "Stoles                   90\n",
       "Mufflers                 38\n",
       "Sports Equipment         21\n",
       "Gloves                   20\n",
       "Wristbands                4\n",
       "Shoe Accessories          4\n",
       "Sports Accessories        3\n",
       "Name: subCategory, dtype: int64"
      ]
     },
     "execution_count": 140,
     "metadata": {},
     "output_type": "execute_result"
    }
   ],
   "source": [
    "df.subCategory.value_counts()"
   ]
  },
  {
   "cell_type": "code",
   "execution_count": 141,
   "id": "5c29caa7",
   "metadata": {},
   "outputs": [
    {
     "data": {
      "text/plain": [
       "<AxesSubplot:xlabel='subCategory', ylabel='count'>"
      ]
     },
     "execution_count": 141,
     "metadata": {},
     "output_type": "execute_result"
    },
    {
     "data": {
      "image/png": "[encoded data removed]",
      "text/plain": [
       "<Figure size 1080x504 with 1 Axes>"
      ]
     },
     "metadata": {
      "needs_background": "light"
     },
     "output_type": "display_data"
    }
   ],
   "source": [
    "plt.figure(figsize=(15, 7))\n",
    "plt.xticks(rotation=70)\n",
    "sns.countplot(x=\"subCategory\", data=df,palette=custom_palette)"
   ]
  },
  {
   "cell_type": "markdown",
   "id": "928d8581",
   "metadata": {},
   "source": [
    "Observation: Top-3 subCategory are: \n",
    "1. Topwear\n",
    "2. Shoes\n",
    "3. Bags"
   ]
  },
  {
   "cell_type": "code",
   "execution_count": 78,
   "id": "e396aa52",
   "metadata": {},
   "outputs": [
    {
     "data": {
      "text/plain": [
       "Tshirts               7069\n",
       "Shirts                3214\n",
       "Casual Shoes          2846\n",
       "Watches               2542\n",
       "Sports Shoes          2016\n",
       "                      ... \n",
       "Ties and Cufflinks       2\n",
       "Key chain                2\n",
       "Suits                    1\n",
       "Shoe Laces               1\n",
       "Hair Accessory           1\n",
       "Name: articleType, Length: 92, dtype: int64"
      ]
     },
     "execution_count": 78,
     "metadata": {},
     "output_type": "execute_result"
    }
   ],
   "source": [
    "df.articleType.value_counts()"
   ]
  },
  {
   "cell_type": "code",
   "execution_count": 79,
   "id": "11050309",
   "metadata": {},
   "outputs": [
    {
     "data": {
      "text/plain": [
       "<AxesSubplot:xlabel='articleType', ylabel='count'>"
      ]
     },
     "execution_count": 79,
     "metadata": {},
     "output_type": "execute_result"
    },
    {
     "data": {
      "image/png": "[encoded data removed]",
      "text/plain": [
       "<Figure size 432x288 with 1 Axes>"
      ]
     },
     "metadata": {
      "needs_background": "light"
     },
     "output_type": "display_data"
    }
   ],
   "source": [
    "sns.countplot(x=\"articleType\", data=df,palette=custom_palette)"
   ]
  },
  {
   "cell_type": "markdown",
   "id": "549d63a6",
   "metadata": {},
   "source": [
    "Observation: There are about 92 unique articleType present in our dataset."
   ]
  },
  {
   "cell_type": "code",
   "execution_count": 80,
   "id": "8a9b3937",
   "metadata": {},
   "outputs": [],
   "source": [
    "#top_10_articletype\n",
    "aType_10= df['articleType'].value_counts().head(10).index\n",
    "aType_df_10 = df[df['articleType'].isin(aType_10)]"
   ]
  },
  {
   "cell_type": "code",
   "execution_count": 81,
   "id": "2cc7bb1b",
   "metadata": {},
   "outputs": [
    {
     "data": {
      "text/plain": [
       "<AxesSubplot:xlabel='articleType', ylabel='count'>"
      ]
     },
     "execution_count": 81,
     "metadata": {},
     "output_type": "execute_result"
    },
    {
     "data": {
      "image/png": "[encoded data removed]",
      "text/plain": [
       "<Figure size 720x432 with 1 Axes>"
      ]
     },
     "metadata": {
      "needs_background": "light"
     },
     "output_type": "display_data"
    }
   ],
   "source": [
    "plt.figure(figsize=(10,6))\n",
    "sns.countplot(x=\"articleType\", data=aType_df_10, order=aType_10,palette=custom_palette)"
   ]
  },
  {
   "cell_type": "markdown",
   "id": "0dd9550d",
   "metadata": {},
   "source": [
    "Observation: Top-3 articleType are:\n",
    "1. Tshirts\n",
    "2. Shirts\n",
    "3. Casual Shoes"
   ]
  },
  {
   "cell_type": "code",
   "execution_count": 182,
   "id": "95fe251a",
   "metadata": {},
   "outputs": [
    {
     "data": {
      "text/plain": [
       "array(['Navy Blue', 'Blue', 'Silver', 'Black', 'Grey', 'Green', 'Purple',\n",
       "       'White', 'Brown', 'Bronze', 'Teal', 'Copper', 'Pink', 'Off White',\n",
       "       'Beige', 'Red', 'Khaki', 'Orange', 'Coffee Brown', 'Yellow',\n",
       "       'Charcoal', 'Steel', 'Gold', 'Tan', 'Magenta', 'Lavender',\n",
       "       'Sea Green', 'Cream', 'Peach', 'Olive', 'Burgundy', 'Rust',\n",
       "       'Multi', 'Maroon', 'Grey Melange', 'Turquoise Blue', 'Metallic',\n",
       "       'Mustard', 'Taupe', 'Mushroom Brown', 'Mauve', nan, 'Nude',\n",
       "       'Fluorescent Green', 'Lime Green', 'Rose', 'Skin'], dtype=object)"
      ]
     },
     "execution_count": 182,
     "metadata": {},
     "output_type": "execute_result"
    }
   ],
   "source": [
    "df.baseColour.unique()"
   ]
  },
  {
   "cell_type": "code",
   "execution_count": 183,
   "id": "99b967b0",
   "metadata": {},
   "outputs": [
    {
     "data": {
      "text/plain": [
       "<AxesSubplot:xlabel='baseColour', ylabel='count'>"
      ]
     },
     "execution_count": 183,
     "metadata": {},
     "output_type": "execute_result"
    },
    {
     "data": {
      "image/png": "[encoded data removed]",
      "text/plain": [
       "<Figure size 720x432 with 1 Axes>"
      ]
     },
     "metadata": {
      "needs_background": "light"
     },
     "output_type": "display_data"
    }
   ],
   "source": [
    "bcol_10= df['baseColour'].value_counts().head(10).index\n",
    "bcol_df_10 = df[df['baseColour'].isin(bcol_10)]\n",
    "plt.figure(figsize=(10, 6))\n",
    "sns.countplot(x=\"baseColour\", data=bcol_df_10, order=bcol_10, palette=custom_palette)"
   ]
  },
  {
   "cell_type": "code",
   "execution_count": 184,
   "id": "4b1f915b",
   "metadata": {},
   "outputs": [
    {
     "name": "stdout",
     "output_type": "stream",
     "text": [
      "      id gender masterCategory subCategory  articleType baseColour  season  \\\n",
      "0  15970    Men        Apparel     Topwear       Shirts  Navy Blue    Fall   \n",
      "1  39386    Men        Apparel  Bottomwear        Jeans       Blue  Summer   \n",
      "2  59263  Women    Accessories     Watches      Watches     Silver  Winter   \n",
      "3  21379    Men        Apparel  Bottomwear  Track Pants      Black    Fall   \n",
      "4  53759    Men        Apparel     Topwear      Tshirts       Grey  Summer   \n",
      "\n",
      "    usage                             productDisplayName colorgroup  \n",
      "0  Casual               Turtle Check Men Navy Blue Shirt       Blue  \n",
      "1  Casual             Peter England Men Party Blue Jeans       Blue  \n",
      "2  Casual                       Titan Women Silver Watch       Grey  \n",
      "3  Casual  Manchester United Men Solid Black Track Pants      Black  \n",
      "4  Casual                          Puma Men Grey T-shirt       Grey  \n"
     ]
    }
   ],
   "source": [
    "# Color grouping\n",
    "df = pd.read_csv('styles.csv')\n",
    "\n",
    "# Color grouping mapping dictionary\n",
    "color_mapping = {\n",
    "    'Navy Blue': 'Blue', \n",
    "    'Blue': 'Blue', \n",
    "    'Teal': 'Blue', \n",
    "    'Turquoise Blue': 'Blue',\n",
    "\n",
    "    'Silver': 'Grey', \n",
    "    'Grey': 'Grey', \n",
    "    'Grey Melange': 'Grey', \n",
    "    'Steel': 'Grey',\n",
    "\n",
    "    'Black': 'Black', \n",
    "    'Charcoal': 'Black',\n",
    "\n",
    "    'Green': 'Green', \n",
    "    'Olive': 'Green', \n",
    "    'Lime Green': 'Green', \n",
    "    'Fluorescent Green': 'Green', \n",
    "    'Sea Green': 'Green',\n",
    "\n",
    "    'Purple': 'Purple', \n",
    "    'Magenta': 'Purple', \n",
    "    'Lavender': 'Purple', \n",
    "    'Mauve': 'Purple',\n",
    "\n",
    "    'White': 'White', \n",
    "    'Off White': 'White', \n",
    "    'Cream': 'White', \n",
    "    'Skin': 'White',\n",
    "\n",
    "    'Beige': 'Brown', \n",
    "    'Brown': 'Brown', \n",
    "    'Coffee Brown': 'Brown', \n",
    "    'Tan': 'Brown', \n",
    "    'Khaki': 'Brown', \n",
    "    'Mushroom Brown': 'Brown', \n",
    "    'Nude': 'Brown',\n",
    "\n",
    "    'Gold': 'Metallic', \n",
    "    'Bronze': 'Metallic', \n",
    "    'Copper': 'Metallic', \n",
    "    'Metallic': 'Metallic',\n",
    "\n",
    "    'Red': 'Red', \n",
    "    'Burgundy': 'Red', \n",
    "    'Rose': 'Red',\n",
    "\n",
    "    'Pink': 'Pink', \n",
    "    'Peach': 'Pink',\n",
    "\n",
    "    'Yellow': 'Yellow', \n",
    "    'Mustard': 'Yellow', \n",
    "    'Taupe': 'Yellow',\n",
    "\n",
    "    'Orange': 'Orange',\n",
    "\n",
    "    'Maroon': 'Red', \n",
    "    'Rust': 'Brown', \n",
    "    'Multi': 'Multi', \n",
    "}\n",
    "\n",
    "df['colorgroup'] = df['baseColour'].map(color_mapping)\n",
    "\n",
    "#verify\n",
    "print(df.head())\n",
    "df.to_csv('styles.csv', index=False)"
   ]
  },
  {
   "cell_type": "code",
   "execution_count": 5,
   "id": "3b340cdd",
   "metadata": {},
   "outputs": [
    {
     "data": {
      "text/html": [
       "<div>\n",
       "<style scoped>\n",
       "    .dataframe tbody tr th:only-of-type {\n",
       "        vertical-align: middle;\n",
       "    }\n",
       "\n",
       "    .dataframe tbody tr th {\n",
       "        vertical-align: top;\n",
       "    }\n",
       "\n",
       "    .dataframe thead th {\n",
       "        text-align: right;\n",
       "    }\n",
       "</style>\n",
       "<table border=\"1\" class=\"dataframe\">\n",
       "  <thead>\n",
       "    <tr style=\"text-align: right;\">\n",
       "      <th></th>\n",
       "      <th>id</th>\n",
       "      <th>gender</th>\n",
       "      <th>masterCategory</th>\n",
       "      <th>subCategory</th>\n",
       "      <th>articleType</th>\n",
       "      <th>baseColour</th>\n",
       "      <th>colorgroup</th>\n",
       "      <th>season</th>\n",
       "      <th>usage</th>\n",
       "      <th>productDisplayName</th>\n",
       "    </tr>\n",
       "  </thead>\n",
       "  <tbody>\n",
       "    <tr>\n",
       "      <th>0</th>\n",
       "      <td>15970</td>\n",
       "      <td>Men</td>\n",
       "      <td>Apparel</td>\n",
       "      <td>Topwear</td>\n",
       "      <td>Shirts</td>\n",
       "      <td>Navy Blue</td>\n",
       "      <td>Blue</td>\n",
       "      <td>Fall</td>\n",
       "      <td>Casual</td>\n",
       "      <td>Turtle Check Men Navy Blue Shirt</td>\n",
       "    </tr>\n",
       "    <tr>\n",
       "      <th>1</th>\n",
       "      <td>39386</td>\n",
       "      <td>Men</td>\n",
       "      <td>Apparel</td>\n",
       "      <td>Bottomwear</td>\n",
       "      <td>Jeans</td>\n",
       "      <td>Blue</td>\n",
       "      <td>Blue</td>\n",
       "      <td>Summer</td>\n",
       "      <td>Casual</td>\n",
       "      <td>Peter England Men Party Blue Jeans</td>\n",
       "    </tr>\n",
       "    <tr>\n",
       "      <th>2</th>\n",
       "      <td>59263</td>\n",
       "      <td>Women</td>\n",
       "      <td>Accessories</td>\n",
       "      <td>Watches</td>\n",
       "      <td>Watches</td>\n",
       "      <td>Silver</td>\n",
       "      <td>Grey</td>\n",
       "      <td>Winter</td>\n",
       "      <td>Casual</td>\n",
       "      <td>Titan Women Silver Watch</td>\n",
       "    </tr>\n",
       "    <tr>\n",
       "      <th>3</th>\n",
       "      <td>21379</td>\n",
       "      <td>Men</td>\n",
       "      <td>Apparel</td>\n",
       "      <td>Bottomwear</td>\n",
       "      <td>Track Pants</td>\n",
       "      <td>Black</td>\n",
       "      <td>Black</td>\n",
       "      <td>Fall</td>\n",
       "      <td>Casual</td>\n",
       "      <td>Manchester United Men Solid Black Track Pants</td>\n",
       "    </tr>\n",
       "    <tr>\n",
       "      <th>4</th>\n",
       "      <td>53759</td>\n",
       "      <td>Men</td>\n",
       "      <td>Apparel</td>\n",
       "      <td>Topwear</td>\n",
       "      <td>Tshirts</td>\n",
       "      <td>Grey</td>\n",
       "      <td>Grey</td>\n",
       "      <td>Summer</td>\n",
       "      <td>Casual</td>\n",
       "      <td>Puma Men Grey T-shirt</td>\n",
       "    </tr>\n",
       "  </tbody>\n",
       "</table>\n",
       "</div>"
      ],
      "text/plain": [
       "      id gender masterCategory subCategory  articleType baseColour colorgroup  \\\n",
       "0  15970    Men        Apparel     Topwear       Shirts  Navy Blue       Blue   \n",
       "1  39386    Men        Apparel  Bottomwear        Jeans       Blue       Blue   \n",
       "2  59263  Women    Accessories     Watches      Watches     Silver       Grey   \n",
       "3  21379    Men        Apparel  Bottomwear  Track Pants      Black      Black   \n",
       "4  53759    Men        Apparel     Topwear      Tshirts       Grey       Grey   \n",
       "\n",
       "   season   usage                             productDisplayName  \n",
       "0    Fall  Casual               Turtle Check Men Navy Blue Shirt  \n",
       "1  Summer  Casual             Peter England Men Party Blue Jeans  \n",
       "2  Winter  Casual                       Titan Women Silver Watch  \n",
       "3    Fall  Casual  Manchester United Men Solid Black Track Pants  \n",
       "4  Summer  Casual                          Puma Men Grey T-shirt  "
      ]
     },
     "execution_count": 5,
     "metadata": {},
     "output_type": "execute_result"
    }
   ],
   "source": [
    "df = df[['id', 'gender', 'masterCategory','subCategory', 'articleType', 'baseColour', 'colorgroup', 'season', 'usage', 'productDisplayName']]\n",
    "df.head()"
   ]
  },
  {
   "cell_type": "code",
   "execution_count": 186,
   "id": "fa241544",
   "metadata": {},
   "outputs": [
    {
     "data": {
      "text/plain": [
       "Black       9173\n",
       "Blue        6312\n",
       "White       5443\n",
       "Brown       4215\n",
       "Grey        3872\n",
       "Red         2642\n",
       "Green       2354\n",
       "Purple      1663\n",
       "Pink        1535\n",
       "Yellow       830\n",
       "Metallic     732\n",
       "Orange       456\n",
       "Multi        363\n",
       "Name: colorgroup, dtype: int64"
      ]
     },
     "execution_count": 186,
     "metadata": {},
     "output_type": "execute_result"
    }
   ],
   "source": [
    "df.colorgroup.value_counts()"
   ]
  },
  {
   "cell_type": "code",
   "execution_count": 187,
   "id": "69590e37",
   "metadata": {},
   "outputs": [
    {
     "data": {
      "text/plain": [
       "<AxesSubplot:xlabel='colorgroup', ylabel='count'>"
      ]
     },
     "execution_count": 187,
     "metadata": {},
     "output_type": "execute_result"
    },
    {
     "data": {
      "image/png": "[encoded data removed]",
      "text/plain": [
       "<Figure size 720x432 with 1 Axes>"
      ]
     },
     "metadata": {
      "needs_background": "light"
     },
     "output_type": "display_data"
    }
   ],
   "source": [
    "plt.figure(figsize=(10, 6))\n",
    "sns.countplot(x='colorgroup', data=df, palette='viridis')"
   ]
  },
  {
   "cell_type": "code",
   "execution_count": 188,
   "id": "6e5932a4",
   "metadata": {},
   "outputs": [],
   "source": [
    "season_counts = df['season'].value_counts()"
   ]
  },
  {
   "cell_type": "code",
   "execution_count": 189,
   "id": "c0f627aa",
   "metadata": {},
   "outputs": [
    {
     "data": {
      "image/png": "[encoded data removed]",
      "text/plain": [
       "<Figure size 432x288 with 1 Axes>"
      ]
     },
     "metadata": {},
     "output_type": "display_data"
    }
   ],
   "source": [
    "cmap = plt.get_cmap(custom_palette)\n",
    "num_categories = len(season_counts)\n",
    "colors = [cmap(i / num_categories) for i in range(num_categories)]\n",
    "plt.pie(season_counts, labels=season_counts.index, autopct='%1.1f%%', colors=colors)\n",
    "plt.title('Distribution of Seasons')\n",
    "plt.show()"
   ]
  },
  {
   "cell_type": "code",
   "execution_count": 190,
   "id": "116a68ad",
   "metadata": {},
   "outputs": [],
   "source": [
    "usage_counts = df['usage'].value_counts()"
   ]
  },
  {
   "cell_type": "code",
   "execution_count": 191,
   "id": "fc0c8010",
   "metadata": {},
   "outputs": [
    {
     "data": {
      "text/plain": [
       "<AxesSubplot:xlabel='usage', ylabel='count'>"
      ]
     },
     "execution_count": 191,
     "metadata": {},
     "output_type": "execute_result"
    },
    {
     "data": {
      "image/png": "[encoded data removed]",
      "text/plain": [
       "<Figure size 576x360 with 1 Axes>"
      ]
     },
     "metadata": {
      "needs_background": "light"
     },
     "output_type": "display_data"
    }
   ],
   "source": [
    "plt.figure(figsize=(8,5))\n",
    "sns.countplot(x='usage', data=df, palette='viridis')"
   ]
  },
  {
   "cell_type": "code",
   "execution_count": 192,
   "id": "c0bc6594",
   "metadata": {},
   "outputs": [
    {
     "data": {
      "text/plain": [
       "Lucera Women Silver Earrings                       82\n",
       "Lucera Women Silver Pendant                        56\n",
       "Lucera Women Silver Ring                           50\n",
       "Catwalk Women Black Heels                          48\n",
       "Q&Q Men Black Dial Watch                           42\n",
       "                                                   ..\n",
       "Sepia Women Oxygen Blue Top                         1\n",
       "Fila Men Black Speed Lite Shoes                     1\n",
       "Angry Birds Women Coral T-shirt                     1\n",
       "Esprit Men Axis Black Steel Watches                 1\n",
       "Fossil Women Pink Dial Chronograph Watch ES3050     1\n",
       "Name: productDisplayName, Length: 27076, dtype: int64"
      ]
     },
     "execution_count": 192,
     "metadata": {},
     "output_type": "execute_result"
    }
   ],
   "source": [
    "df.productDisplayName.value_counts()"
   ]
  },
  {
   "cell_type": "code",
   "execution_count": 193,
   "id": "b9c1df8e",
   "metadata": {},
   "outputs": [],
   "source": [
    "pname_10= df['productDisplayName'].value_counts().head(10).index\n",
    "pname_df_10 = df[df['productDisplayName'].isin(pname_10)]"
   ]
  },
  {
   "cell_type": "code",
   "execution_count": 194,
   "id": "e404368a",
   "metadata": {},
   "outputs": [
    {
     "data": {
      "text/plain": [
       "(array([0, 1, 2, 3, 4, 5, 6, 7, 8, 9]),\n",
       " [Text(0, 0, 'Lucera Women Silver Earrings'),\n",
       "  Text(1, 0, 'Lucera Women Silver Pendant'),\n",
       "  Text(2, 0, 'Lucera Women Silver Ring'),\n",
       "  Text(3, 0, 'Catwalk Women Black Heels'),\n",
       "  Text(4, 0, 'Q&Q Men Black Dial Watch'),\n",
       "  Text(5, 0, 'Fastrack Men Black Dial Watch'),\n",
       "  Text(6, 0, 'Fabindia Women Anusuya Silver Earrings'),\n",
       "  Text(7, 0, 'Maxima Men White Dial Watch'),\n",
       "  Text(8, 0, 'FNF Multi Coloured Printed Sari'),\n",
       "  Text(9, 0, 'Coolers Men Black Sandals')])"
      ]
     },
     "execution_count": 194,
     "metadata": {},
     "output_type": "execute_result"
    },
    {
     "data": {
      "image/png": "[encoded data removed]",
      "text/plain": [
       "<Figure size 1080x720 with 1 Axes>"
      ]
     },
     "metadata": {
      "needs_background": "light"
     },
     "output_type": "display_data"
    }
   ],
   "source": [
    "plt.figure(figsize=(15,10))\n",
    "sns.countplot(x=\"productDisplayName\", data=pname_df_10, order=pname_10,palette='viridis')\n",
    "plt.xticks(rotation=45)"
   ]
  },
  {
   "cell_type": "markdown",
   "id": "11452aee",
   "metadata": {},
   "source": [
    "## Image Processing"
   ]
  },
  {
   "cell_type": "code",
   "execution_count": 8,
   "id": "92f994f5",
   "metadata": {},
   "outputs": [
    {
     "name": "stdout",
     "output_type": "stream",
     "text": [
      "Rows with missing images:\n",
      "          id gender masterCategory subCategory articleType baseColour  season  \\\n",
      "5941   39403    Men        Apparel     Topwear      Shirts      Black  Summer   \n",
      "14484  39410    Men        Apparel     Topwear      Shirts      Cream  Summer   \n",
      "28782  39401    Men        Apparel  Bottomwear       Jeans       Blue  Winter   \n",
      "32464  39425    Men        Apparel     Topwear     Tshirts        Red  Spring   \n",
      "35694  12347    Men        Apparel     Topwear       Suits        Red  Winter   \n",
      "\n",
      "        usage                                 productDisplayName colorgroup  \\\n",
      "5941   Casual  U.S. Polo Assn. Men Black Tailored Fit Casual ...      Black   \n",
      "14484  Casual  U.S. Polo Assn. Men Cream-Coloured Tailored Fi...      White   \n",
      "28782  Casual  U.S. Polo Assn. Denim Co. Men Blue Slim Straig...       Blue   \n",
      "32464  Casual               U.S. Polo Assn. Men Red Polo T-Shirt        Red   \n",
      "35694  Casual  Fastrack Men Red Manhattan Regular Fit Solid F...        Red   \n",
      "\n",
      "                imagePath  image_exists  \n",
      "5941   ./images/39403.jpg         False  \n",
      "14484  ./images/39410.jpg         False  \n",
      "28782  ./images/39401.jpg         False  \n",
      "32464  ./images/39425.jpg         False  \n",
      "35694  ./images/12347.jpg         False  \n",
      "Number of missing images: 5\n"
     ]
    }
   ],
   "source": [
    "import pandas as pd\n",
    "import os\n",
    "df = pd.read_csv('styles.csv', delimiter=',', on_bad_lines='skip')\n",
    "df['imagePath'] = './images/' + df['id'].astype(str) + '.jpg'\n",
    "def image_exists(image_path):\n",
    "    return os.path.exists(image_path)\n",
    "df['image_exists'] = df['imagePath'].apply(image_exists)\n",
    "missing_images = df[df['image_exists'] == False]\n",
    "print(\"Rows with missing images:\")\n",
    "print(missing_images)\n",
    "print(f\"Number of missing images: {missing_images.shape[0]}\")"
   ]
  },
  {
   "cell_type": "code",
   "execution_count": 9,
   "id": "69588c20",
   "metadata": {},
   "outputs": [
    {
     "name": "stdout",
     "output_type": "stream",
     "text": [
      "Cleaned DataFrame:\n",
      "          id gender masterCategory subCategory   articleType baseColour  \\\n",
      "0      15970    Men        Apparel     Topwear        Shirts  Navy Blue   \n",
      "1      39386    Men        Apparel  Bottomwear         Jeans       Blue   \n",
      "2      59263  Women    Accessories     Watches       Watches     Silver   \n",
      "3      21379    Men        Apparel  Bottomwear   Track Pants      Black   \n",
      "4      53759    Men        Apparel     Topwear       Tshirts       Grey   \n",
      "...      ...    ...            ...         ...           ...        ...   \n",
      "39586  42234  Women        Apparel     Topwear          Tops       Blue   \n",
      "39587  17036    Men       Footwear       Shoes  Casual Shoes      White   \n",
      "39588   6461    Men       Footwear  Flip Flops    Flip Flops        Red   \n",
      "39589  18842    Men        Apparel     Topwear       Tshirts       Blue   \n",
      "39590  51623  Women    Accessories     Watches       Watches       Pink   \n",
      "\n",
      "       season   usage                               productDisplayName  \\\n",
      "0        Fall  Casual                 Turtle Check Men Navy Blue Shirt   \n",
      "1      Summer  Casual               Peter England Men Party Blue Jeans   \n",
      "2      Winter  Casual                         Titan Women Silver Watch   \n",
      "3        Fall  Casual    Manchester United Men Solid Black Track Pants   \n",
      "4      Summer  Casual                            Puma Men Grey T-shirt   \n",
      "...       ...     ...                                              ...   \n",
      "39586  Summer  Casual                     Sepia Women Blue Printed Top   \n",
      "39587  Summer  Casual                        Gas Men Caddy Casual Shoe   \n",
      "39588  Summer  Casual               Lotto Men's Soccer Track Flip Flop   \n",
      "39589    Fall  Casual             Puma Men Graphic Stellar Blue Tshirt   \n",
      "39590  Winter  Casual  Fossil Women Pink Dial Chronograph Watch ES3050   \n",
      "\n",
      "      colorgroup           imagePath  image_exists  \n",
      "0           Blue  ./images/15970.jpg          True  \n",
      "1           Blue  ./images/39386.jpg          True  \n",
      "2           Grey  ./images/59263.jpg          True  \n",
      "3          Black  ./images/21379.jpg          True  \n",
      "4           Grey  ./images/53759.jpg          True  \n",
      "...          ...                 ...           ...  \n",
      "39586       Blue  ./images/42234.jpg          True  \n",
      "39587      White  ./images/17036.jpg          True  \n",
      "39588        Red   ./images/6461.jpg          True  \n",
      "39589       Blue  ./images/18842.jpg          True  \n",
      "39590       Pink  ./images/51623.jpg          True  \n",
      "\n",
      "[39591 rows x 12 columns]\n"
     ]
    }
   ],
   "source": [
    "df_with_images = df[df['image_exists']]\n",
    "df_with_images.reset_index(drop=True, inplace=True)\n",
    "print(\"Cleaned DataFrame:\")\n",
    "print(df_with_images)\n",
    "df_with_images.to_csv('styles.csv', index=False)"
   ]
  },
  {
   "cell_type": "markdown",
   "id": "7528d48e",
   "metadata": {},
   "source": [
    "## EDA"
   ]
  },
  {
   "cell_type": "code",
   "execution_count": 195,
   "id": "73efffc1",
   "metadata": {},
   "outputs": [
    {
     "data": {
      "text/html": [
       "<div>\n",
       "<style scoped>\n",
       "    .dataframe tbody tr th:only-of-type {\n",
       "        vertical-align: middle;\n",
       "    }\n",
       "\n",
       "    .dataframe tbody tr th {\n",
       "        vertical-align: top;\n",
       "    }\n",
       "\n",
       "    .dataframe thead th {\n",
       "        text-align: right;\n",
       "    }\n",
       "</style>\n",
       "<table border=\"1\" class=\"dataframe\">\n",
       "  <thead>\n",
       "    <tr style=\"text-align: right;\">\n",
       "      <th></th>\n",
       "      <th>season</th>\n",
       "      <th>gender</th>\n",
       "      <th>Count</th>\n",
       "    </tr>\n",
       "  </thead>\n",
       "  <tbody>\n",
       "    <tr>\n",
       "      <th>0</th>\n",
       "      <td>Fall</td>\n",
       "      <td>Boys</td>\n",
       "      <td>113</td>\n",
       "    </tr>\n",
       "    <tr>\n",
       "      <th>1</th>\n",
       "      <td>Fall</td>\n",
       "      <td>Girls</td>\n",
       "      <td>81</td>\n",
       "    </tr>\n",
       "    <tr>\n",
       "      <th>2</th>\n",
       "      <td>Fall</td>\n",
       "      <td>Men</td>\n",
       "      <td>7073</td>\n",
       "    </tr>\n",
       "    <tr>\n",
       "      <th>3</th>\n",
       "      <td>Fall</td>\n",
       "      <td>Unisex</td>\n",
       "      <td>476</td>\n",
       "    </tr>\n",
       "    <tr>\n",
       "      <th>4</th>\n",
       "      <td>Fall</td>\n",
       "      <td>Women</td>\n",
       "      <td>3632</td>\n",
       "    </tr>\n",
       "    <tr>\n",
       "      <th>5</th>\n",
       "      <td>Spring</td>\n",
       "      <td>Boys</td>\n",
       "      <td>6</td>\n",
       "    </tr>\n",
       "    <tr>\n",
       "      <th>6</th>\n",
       "      <td>Spring</td>\n",
       "      <td>Girls</td>\n",
       "      <td>3</td>\n",
       "    </tr>\n",
       "    <tr>\n",
       "      <th>7</th>\n",
       "      <td>Spring</td>\n",
       "      <td>Men</td>\n",
       "      <td>386</td>\n",
       "    </tr>\n",
       "    <tr>\n",
       "      <th>8</th>\n",
       "      <td>Spring</td>\n",
       "      <td>Unisex</td>\n",
       "      <td>84</td>\n",
       "    </tr>\n",
       "    <tr>\n",
       "      <th>9</th>\n",
       "      <td>Spring</td>\n",
       "      <td>Women</td>\n",
       "      <td>130</td>\n",
       "    </tr>\n",
       "    <tr>\n",
       "      <th>10</th>\n",
       "      <td>Summer</td>\n",
       "      <td>Boys</td>\n",
       "      <td>687</td>\n",
       "    </tr>\n",
       "    <tr>\n",
       "      <th>11</th>\n",
       "      <td>Summer</td>\n",
       "      <td>Girls</td>\n",
       "      <td>531</td>\n",
       "    </tr>\n",
       "    <tr>\n",
       "      <th>12</th>\n",
       "      <td>Summer</td>\n",
       "      <td>Men</td>\n",
       "      <td>9865</td>\n",
       "    </tr>\n",
       "    <tr>\n",
       "      <th>13</th>\n",
       "      <td>Summer</td>\n",
       "      <td>Unisex</td>\n",
       "      <td>914</td>\n",
       "    </tr>\n",
       "    <tr>\n",
       "      <th>14</th>\n",
       "      <td>Summer</td>\n",
       "      <td>Women</td>\n",
       "      <td>7679</td>\n",
       "    </tr>\n",
       "    <tr>\n",
       "      <th>15</th>\n",
       "      <td>Winter</td>\n",
       "      <td>Boys</td>\n",
       "      <td>20</td>\n",
       "    </tr>\n",
       "    <tr>\n",
       "      <th>16</th>\n",
       "      <td>Winter</td>\n",
       "      <td>Girls</td>\n",
       "      <td>35</td>\n",
       "    </tr>\n",
       "    <tr>\n",
       "      <th>17</th>\n",
       "      <td>Winter</td>\n",
       "      <td>Men</td>\n",
       "      <td>3084</td>\n",
       "    </tr>\n",
       "    <tr>\n",
       "      <th>18</th>\n",
       "      <td>Winter</td>\n",
       "      <td>Unisex</td>\n",
       "      <td>607</td>\n",
       "    </tr>\n",
       "    <tr>\n",
       "      <th>19</th>\n",
       "      <td>Winter</td>\n",
       "      <td>Women</td>\n",
       "      <td>4169</td>\n",
       "    </tr>\n",
       "  </tbody>\n",
       "</table>\n",
       "</div>"
      ],
      "text/plain": [
       "    season  gender  Count\n",
       "0     Fall    Boys    113\n",
       "1     Fall   Girls     81\n",
       "2     Fall     Men   7073\n",
       "3     Fall  Unisex    476\n",
       "4     Fall   Women   3632\n",
       "5   Spring    Boys      6\n",
       "6   Spring   Girls      3\n",
       "7   Spring     Men    386\n",
       "8   Spring  Unisex     84\n",
       "9   Spring   Women    130\n",
       "10  Summer    Boys    687\n",
       "11  Summer   Girls    531\n",
       "12  Summer     Men   9865\n",
       "13  Summer  Unisex    914\n",
       "14  Summer   Women   7679\n",
       "15  Winter    Boys     20\n",
       "16  Winter   Girls     35\n",
       "17  Winter     Men   3084\n",
       "18  Winter  Unisex    607\n",
       "19  Winter   Women   4169"
      ]
     },
     "execution_count": 195,
     "metadata": {},
     "output_type": "execute_result"
    }
   ],
   "source": [
    "#for apparels:\n",
    "#apparel with season, gender count.\n",
    "apparel_df = df[df['masterCategory'] == 'Apparel']\n",
    "df.groupby(['season', \"gender\"]).size().reset_index(name='Count')"
   ]
  },
  {
   "cell_type": "code",
   "execution_count": 196,
   "id": "39688b6e",
   "metadata": {},
   "outputs": [
    {
     "data": {
      "text/plain": [
       "<AxesSubplot:xlabel='season', ylabel='Count'>"
      ]
     },
     "execution_count": 196,
     "metadata": {},
     "output_type": "execute_result"
    },
    {
     "data": {
      "image/png": "[encoded data removed]",
      "text/plain": [
       "<Figure size 720x432 with 1 Axes>"
      ]
     },
     "metadata": {
      "needs_background": "light"
     },
     "output_type": "display_data"
    }
   ],
   "source": [
    "grp_df=df.groupby(['season', \"gender\"]).size().reset_index(name='Count')\n",
    "plt.figure(figsize=(10, 6))\n",
    "sns.barplot(data=grp_df, x='season', y='Count', hue='gender', palette=\"viridis\")"
   ]
  },
  {
   "cell_type": "markdown",
   "id": "503abc48",
   "metadata": {},
   "source": [
    "Observation: Mostly men apparel in more count for every season."
   ]
  },
  {
   "cell_type": "code",
   "execution_count": 5,
   "id": "9a8fbd2f",
   "metadata": {},
   "outputs": [
    {
     "data": {
      "text/html": [
       "<div>\n",
       "<style scoped>\n",
       "    .dataframe tbody tr th:only-of-type {\n",
       "        vertical-align: middle;\n",
       "    }\n",
       "\n",
       "    .dataframe tbody tr th {\n",
       "        vertical-align: top;\n",
       "    }\n",
       "\n",
       "    .dataframe thead th {\n",
       "        text-align: right;\n",
       "    }\n",
       "</style>\n",
       "<table border=\"1\" class=\"dataframe\">\n",
       "  <thead>\n",
       "    <tr style=\"text-align: right;\">\n",
       "      <th></th>\n",
       "      <th>articleType</th>\n",
       "      <th>usage</th>\n",
       "      <th>season</th>\n",
       "      <th>Count</th>\n",
       "    </tr>\n",
       "  </thead>\n",
       "  <tbody>\n",
       "    <tr>\n",
       "      <th>0</th>\n",
       "      <td>Accessory Gift Set</td>\n",
       "      <td>Casual</td>\n",
       "      <td>Summer</td>\n",
       "      <td>21</td>\n",
       "    </tr>\n",
       "    <tr>\n",
       "      <th>1</th>\n",
       "      <td>Accessory Gift Set</td>\n",
       "      <td>Formal</td>\n",
       "      <td>Fall</td>\n",
       "      <td>49</td>\n",
       "    </tr>\n",
       "    <tr>\n",
       "      <th>2</th>\n",
       "      <td>Accessory Gift Set</td>\n",
       "      <td>Formal</td>\n",
       "      <td>Winter</td>\n",
       "      <td>41</td>\n",
       "    </tr>\n",
       "    <tr>\n",
       "      <th>3</th>\n",
       "      <td>Backpacks</td>\n",
       "      <td>Casual</td>\n",
       "      <td>Fall</td>\n",
       "      <td>118</td>\n",
       "    </tr>\n",
       "    <tr>\n",
       "      <th>4</th>\n",
       "      <td>Backpacks</td>\n",
       "      <td>Casual</td>\n",
       "      <td>Spring</td>\n",
       "      <td>41</td>\n",
       "    </tr>\n",
       "    <tr>\n",
       "      <th>...</th>\n",
       "      <td>...</td>\n",
       "      <td>...</td>\n",
       "      <td>...</td>\n",
       "      <td>...</td>\n",
       "    </tr>\n",
       "    <tr>\n",
       "      <th>430</th>\n",
       "      <td>Water Bottle</td>\n",
       "      <td>Casual</td>\n",
       "      <td>Fall</td>\n",
       "      <td>2</td>\n",
       "    </tr>\n",
       "    <tr>\n",
       "      <th>431</th>\n",
       "      <td>Water Bottle</td>\n",
       "      <td>Casual</td>\n",
       "      <td>Summer</td>\n",
       "      <td>1</td>\n",
       "    </tr>\n",
       "    <tr>\n",
       "      <th>432</th>\n",
       "      <td>Water Bottle</td>\n",
       "      <td>Sports</td>\n",
       "      <td>Fall</td>\n",
       "      <td>1</td>\n",
       "    </tr>\n",
       "    <tr>\n",
       "      <th>433</th>\n",
       "      <td>Wristbands</td>\n",
       "      <td>Casual</td>\n",
       "      <td>Fall</td>\n",
       "      <td>1</td>\n",
       "    </tr>\n",
       "    <tr>\n",
       "      <th>434</th>\n",
       "      <td>Wristbands</td>\n",
       "      <td>Sports</td>\n",
       "      <td>Summer</td>\n",
       "      <td>3</td>\n",
       "    </tr>\n",
       "  </tbody>\n",
       "</table>\n",
       "<p>435 rows × 4 columns</p>\n",
       "</div>"
      ],
      "text/plain": [
       "            articleType   usage  season  Count\n",
       "0    Accessory Gift Set  Casual  Summer     21\n",
       "1    Accessory Gift Set  Formal    Fall     49\n",
       "2    Accessory Gift Set  Formal  Winter     41\n",
       "3             Backpacks  Casual    Fall    118\n",
       "4             Backpacks  Casual  Spring     41\n",
       "..                  ...     ...     ...    ...\n",
       "430        Water Bottle  Casual    Fall      2\n",
       "431        Water Bottle  Casual  Summer      1\n",
       "432        Water Bottle  Sports    Fall      1\n",
       "433          Wristbands  Casual    Fall      1\n",
       "434          Wristbands  Sports  Summer      3\n",
       "\n",
       "[435 rows x 4 columns]"
      ]
     },
     "execution_count": 5,
     "metadata": {},
     "output_type": "execute_result"
    }
   ],
   "source": [
    "#articletype with usage & season\n",
    "df.groupby(['articleType','usage','season']).size().reset_index().rename(columns={0:'Count'})"
   ]
  },
  {
   "cell_type": "code",
   "execution_count": 7,
   "id": "f20e239e",
   "metadata": {},
   "outputs": [
    {
     "data": {
      "text/plain": [
       "Tshirts         7070\n",
       "Shirts          3217\n",
       "Casual Shoes    2846\n",
       "Watches         2542\n",
       "Sports Shoes    2036\n",
       "Name: articleType, dtype: int64"
      ]
     },
     "execution_count": 7,
     "metadata": {},
     "output_type": "execute_result"
    }
   ],
   "source": [
    "g_df = df.groupby(['articleType', 'usage', 'season']).size().reset_index(name='Count')\n",
    "articletype_counts = df['articleType'].value_counts()\n",
    "top_articletypes = articletype_counts.head(5).index\n",
    "articletype_counts.head(5)\n"
   ]
  },
  {
   "cell_type": "code",
   "execution_count": 8,
   "id": "f2627222",
   "metadata": {},
   "outputs": [
    {
     "data": {
      "text/plain": [
       "<AxesSubplot:xlabel='Count', ylabel='usage'>"
      ]
     },
     "execution_count": 8,
     "metadata": {},
     "output_type": "execute_result"
    },
    {
     "data": {
      "image/png": "[encoded data removed]",
      "text/plain": [
       "<Figure size 720x432 with 1 Axes>"
      ]
     },
     "metadata": {
      "needs_background": "light"
     },
     "output_type": "display_data"
    }
   ],
   "source": [
    "plt.figure(figsize=(10,6))\n",
    "sns.barplot(data=g_df, x='Count', y='usage', hue='season', palette='viridis')"
   ]
  },
  {
   "cell_type": "markdown",
   "id": "58955555",
   "metadata": {},
   "source": [
    "Observation: Tshirts lead the articleType."
   ]
  },
  {
   "cell_type": "code",
   "execution_count": 219,
   "id": "ac7b2190",
   "metadata": {},
   "outputs": [
    {
     "name": "stdout",
     "output_type": "stream",
     "text": [
      "\n",
      "Pivot Table:\n",
      "colorgroup   Black    Blue  Green   Pink    Red   White\n",
      "gender                                                 \n",
      "Boys           0.0   188.0    0.0    0.0  104.0   156.0\n",
      "Girls          0.0   119.0    0.0  147.0    0.0   105.0\n",
      "Men         1735.0  2784.0    0.0    0.0    0.0  1482.0\n",
      "Unisex        15.0    26.0   14.0    0.0    0.0     0.0\n",
      "Women       1037.0  1344.0    0.0    0.0    0.0  1056.0\n"
     ]
    },
    {
     "data": {
      "text/plain": [
       "<Figure size 720x432 with 0 Axes>"
      ]
     },
     "metadata": {},
     "output_type": "display_data"
    },
    {
     "data": {
      "image/png": "[encoded data removed]",
      "text/plain": [
       "<Figure size 432x288 with 1 Axes>"
      ]
     },
     "metadata": {
      "needs_background": "light"
     },
     "output_type": "display_data"
    }
   ],
   "source": [
    "grp_df = apparel_df.groupby(['colorgroup', 'gender']).size().reset_index(name='Count')\n",
    "grp_df['Rank'] = grp_df.groupby('gender')['Count'].rank(ascending=False, method='dense')\n",
    "\n",
    "# Filter for the top 3\n",
    "top_3 = grp_df[grp_df['Rank'] <= 3]\n",
    "pivot_table = top_3.pivot(index='gender', columns='colorgroup', values='Count').fillna(0)\n",
    "print(\"\\nPivot Table:\")\n",
    "print(pivot_table)\n",
    "\n",
    "# Plotting\n",
    "plt.figure(figsize=(10, 6))\n",
    "pivot_table.plot(kind='bar', stacked=True, colormap='viridis')\n",
    "plt.title('Top 3 Color Groups by Gender for Apparel')\n",
    "plt.xlabel('Gender')\n",
    "plt.ylabel('Count')\n",
    "plt.xticks(rotation=0)\n",
    "plt.legend(title='colorgroup')\n",
    "plt.show()"
   ]
  },
  {
   "cell_type": "markdown",
   "id": "7806f645",
   "metadata": {},
   "source": [
    "Observation: Top-3 colour of Colorgroup are:\n",
    "1. Blue\n",
    "2. Black\n",
    "3. White"
   ]
  },
  {
   "cell_type": "code",
   "execution_count": 209,
   "id": "525ef999",
   "metadata": {},
   "outputs": [
    {
     "name": "stdout",
     "output_type": "stream",
     "text": [
      "\n",
      "Pivot Table:\n",
      "baseColour   Black    Blue  Green   Pink   Red   White\n",
      "gender                                                \n",
      "Boys           0.0   139.0    0.0    0.0  96.0   153.0\n",
      "Girls          0.0    91.0    0.0  135.0   0.0    99.0\n",
      "Men         1642.0  1954.0    0.0    0.0   0.0  1358.0\n",
      "Unisex        15.0    24.0   13.0    0.0   0.0     0.0\n",
      "Women       1014.0  1055.0    0.0    0.0   0.0   815.0\n"
     ]
    },
    {
     "data": {
      "image/png": "[encoded data removed]",
      "text/plain": [
       "<Figure size 432x288 with 1 Axes>"
      ]
     },
     "metadata": {
      "needs_background": "light"
     },
     "output_type": "display_data"
    }
   ],
   "source": [
    "#apparel with baseColour and gender\n",
    "apparel_df = df[df['masterCategory'] == 'Apparel']\n",
    "grp_df = apparel_df.groupby(['baseColour', 'gender']).size().reset_index(name='Count')\n",
    "grp_df['Rank'] = grp_df.groupby('gender')['Count'].rank(ascending=False, method='dense')\n",
    "\n",
    "# Filter for the top 3\n",
    "top_3 = grp_df[grp_df['Rank'] <= 3]\n",
    "pivot_table = top_3.pivot(index='gender', columns='baseColour', values='Count').fillna(0)\n",
    "print(\"\\nPivot Table:\")\n",
    "print(pivot_table)\n",
    "\n",
    "# Plotting\n",
    "pivot_table.plot(kind='bar', stacked=True, colormap='viridis')\n",
    "plt.title('Top 3 Base Colors by Gender for Apparel')\n",
    "plt.xlabel('Gender')\n",
    "plt.ylabel('Count')\n",
    "plt.xticks(rotation=0)\n",
    "plt.legend(title='baseColour')\n",
    "plt.show()"
   ]
  },
  {
   "cell_type": "markdown",
   "id": "d63127e1",
   "metadata": {},
   "source": [
    "Observation: Top-3 colour of BaseColor are:\n",
    "\n",
    "1. Blue\n",
    "2. Black\n",
    "3. White"
   ]
  },
  {
   "cell_type": "code",
   "execution_count": 147,
   "id": "c6288d4c",
   "metadata": {},
   "outputs": [
    {
     "data": {
      "text/html": [
       "<div>\n",
       "<style scoped>\n",
       "    .dataframe tbody tr th:only-of-type {\n",
       "        vertical-align: middle;\n",
       "    }\n",
       "\n",
       "    .dataframe tbody tr th {\n",
       "        vertical-align: top;\n",
       "    }\n",
       "\n",
       "    .dataframe thead th {\n",
       "        text-align: right;\n",
       "    }\n",
       "</style>\n",
       "<table border=\"1\" class=\"dataframe\">\n",
       "  <thead>\n",
       "    <tr style=\"text-align: right;\">\n",
       "      <th></th>\n",
       "      <th>gender</th>\n",
       "      <th>Count</th>\n",
       "    </tr>\n",
       "  </thead>\n",
       "  <tbody>\n",
       "    <tr>\n",
       "      <th>0</th>\n",
       "      <td>Boys</td>\n",
       "      <td>16</td>\n",
       "    </tr>\n",
       "    <tr>\n",
       "      <th>1</th>\n",
       "      <td>Girls</td>\n",
       "      <td>25</td>\n",
       "    </tr>\n",
       "    <tr>\n",
       "      <th>2</th>\n",
       "      <td>Men</td>\n",
       "      <td>3729</td>\n",
       "    </tr>\n",
       "    <tr>\n",
       "      <th>3</th>\n",
       "      <td>Unisex</td>\n",
       "      <td>1254</td>\n",
       "    </tr>\n",
       "    <tr>\n",
       "      <th>4</th>\n",
       "      <td>Women</td>\n",
       "      <td>5061</td>\n",
       "    </tr>\n",
       "  </tbody>\n",
       "</table>\n",
       "</div>"
      ],
      "text/plain": [
       "   gender  Count\n",
       "0    Boys     16\n",
       "1   Girls     25\n",
       "2     Men   3729\n",
       "3  Unisex   1254\n",
       "4   Women   5061"
      ]
     },
     "execution_count": 147,
     "metadata": {},
     "output_type": "execute_result"
    }
   ],
   "source": [
    "#accessories, usage-casual in respect to gender.\n",
    "accessories_df = df[df['masterCategory'] == 'Accessories']\n",
    "casual_accessories_df = accessories_df[accessories_df['usage'] == 'Casual']\n",
    "casual_accessories_df.groupby(['gender']).size().reset_index(name='Count')"
   ]
  },
  {
   "cell_type": "code",
   "execution_count": 148,
   "id": "294ceea9",
   "metadata": {},
   "outputs": [
    {
     "data": {
      "text/plain": [
       "10085"
      ]
     },
     "execution_count": 148,
     "metadata": {},
     "output_type": "execute_result"
    }
   ],
   "source": [
    "casual_accessories_df.shape[0]"
   ]
  },
  {
   "cell_type": "code",
   "execution_count": 149,
   "id": "5f34f6db",
   "metadata": {},
   "outputs": [
    {
     "data": {
      "text/plain": [
       "<AxesSubplot:xlabel='gender', ylabel='Count'>"
      ]
     },
     "execution_count": 149,
     "metadata": {},
     "output_type": "execute_result"
    },
    {
     "data": {
      "image/png": "[encoded data removed]",
      "text/plain": [
       "<Figure size 576x432 with 1 Axes>"
      ]
     },
     "metadata": {
      "needs_background": "light"
     },
     "output_type": "display_data"
    }
   ],
   "source": [
    "grp_df=casual_accessories_df.groupby(['gender']).size().reset_index(name='Count')\n",
    "plt.figure(figsize=(8, 6))\n",
    "sns.barplot(data=grp_df, x='gender', y='Count', palette=\"viridis\")"
   ]
  },
  {
   "cell_type": "markdown",
   "id": "6dc243c0",
   "metadata": {},
   "source": [
    "Observation: Mostly casual accessories in women followed by men."
   ]
  },
  {
   "cell_type": "code",
   "execution_count": 150,
   "id": "8ab6f4f9",
   "metadata": {},
   "outputs": [
    {
     "data": {
      "text/plain": [
       "<AxesSubplot:xlabel='season', ylabel='Count'>"
      ]
     },
     "execution_count": 150,
     "metadata": {},
     "output_type": "execute_result"
    },
    {
     "data": {
      "image/png": "[encoded data removed]",
      "text/plain": [
       "<Figure size 864x576 with 1 Axes>"
      ]
     },
     "metadata": {
      "needs_background": "light"
     },
     "output_type": "display_data"
    }
   ],
   "source": [
    "#unisex-accessories,gender,season\n",
    "unisex_accessories_df = accessories_df[accessories_df['gender'] == 'Unisex']\n",
    "grp_df=unisex_accessories_df.groupby(['season']).size().reset_index(name='Count')\n",
    "plt.figure(figsize=(12, 8))\n",
    "sns.barplot(data=grp_df, x='season', y='Count', palette=\"viridis\")"
   ]
  },
  {
   "cell_type": "markdown",
   "id": "4fcff572",
   "metadata": {},
   "source": [
    "Observation: Mostly unisex-accessories in summer followed by winter."
   ]
  },
  {
   "cell_type": "code",
   "execution_count": 153,
   "id": "4a2f646b",
   "metadata": {},
   "outputs": [
    {
     "data": {
      "text/html": [
       "<div>\n",
       "<style scoped>\n",
       "    .dataframe tbody tr th:only-of-type {\n",
       "        vertical-align: middle;\n",
       "    }\n",
       "\n",
       "    .dataframe tbody tr th {\n",
       "        vertical-align: top;\n",
       "    }\n",
       "\n",
       "    .dataframe thead th {\n",
       "        text-align: right;\n",
       "    }\n",
       "</style>\n",
       "<table border=\"1\" class=\"dataframe\">\n",
       "  <thead>\n",
       "    <tr style=\"text-align: right;\">\n",
       "      <th></th>\n",
       "      <th>gender</th>\n",
       "      <th>Count</th>\n",
       "    </tr>\n",
       "  </thead>\n",
       "  <tbody>\n",
       "    <tr>\n",
       "      <th>0</th>\n",
       "      <td>Men</td>\n",
       "      <td>521</td>\n",
       "    </tr>\n",
       "    <tr>\n",
       "      <th>1</th>\n",
       "      <td>Unisex</td>\n",
       "      <td>1</td>\n",
       "    </tr>\n",
       "    <tr>\n",
       "      <th>2</th>\n",
       "      <td>Women</td>\n",
       "      <td>5</td>\n",
       "    </tr>\n",
       "  </tbody>\n",
       "</table>\n",
       "</div>"
      ],
      "text/plain": [
       "   gender  Count\n",
       "0     Men    521\n",
       "1  Unisex      1\n",
       "2   Women      5"
      ]
     },
     "execution_count": 153,
     "metadata": {},
     "output_type": "execute_result"
    }
   ],
   "source": [
    "#accessories, usage-formal in respect to gender.\n",
    "accessories_df = df[df['masterCategory'] == 'Accessories']\n",
    "formal_accessories_df = accessories_df[accessories_df['usage'] == 'Formal']\n",
    "formal_accessories_df.groupby(['gender']).size().reset_index(name='Count')"
   ]
  },
  {
   "cell_type": "code",
   "execution_count": 154,
   "id": "c75be310",
   "metadata": {},
   "outputs": [
    {
     "data": {
      "text/plain": [
       "527"
      ]
     },
     "execution_count": 154,
     "metadata": {},
     "output_type": "execute_result"
    }
   ],
   "source": [
    "formal_accessories_df.shape[0]"
   ]
  },
  {
   "cell_type": "code",
   "execution_count": 155,
   "id": "43337f26",
   "metadata": {},
   "outputs": [
    {
     "data": {
      "text/plain": [
       "<AxesSubplot:xlabel='gender', ylabel='Count'>"
      ]
     },
     "execution_count": 155,
     "metadata": {},
     "output_type": "execute_result"
    },
    {
     "data": {
      "image/png": "[encoded data removed]",
      "text/plain": [
       "<Figure size 576x432 with 1 Axes>"
      ]
     },
     "metadata": {
      "needs_background": "light"
     },
     "output_type": "display_data"
    }
   ],
   "source": [
    "grp_df=formal_accessories_df.groupby(['gender']).size().reset_index(name='Count')\n",
    "plt.figure(figsize=(8, 6))\n",
    "sns.barplot(data=grp_df, x='gender', y='Count', palette=\"viridis\")"
   ]
  },
  {
   "cell_type": "markdown",
   "id": "9102a4d3",
   "metadata": {},
   "source": [
    "Observation: Mostly formal-accessories worn by men."
   ]
  },
  {
   "cell_type": "code",
   "execution_count": 220,
   "id": "94f4b549",
   "metadata": {},
   "outputs": [
    {
     "data": {
      "text/html": [
       "<div>\n",
       "<style scoped>\n",
       "    .dataframe tbody tr th:only-of-type {\n",
       "        vertical-align: middle;\n",
       "    }\n",
       "\n",
       "    .dataframe tbody tr th {\n",
       "        vertical-align: top;\n",
       "    }\n",
       "\n",
       "    .dataframe thead th {\n",
       "        text-align: right;\n",
       "    }\n",
       "</style>\n",
       "<table border=\"1\" class=\"dataframe\">\n",
       "  <thead>\n",
       "    <tr style=\"text-align: right;\">\n",
       "      <th></th>\n",
       "      <th>subCategory</th>\n",
       "      <th>Count</th>\n",
       "    </tr>\n",
       "  </thead>\n",
       "  <tbody>\n",
       "    <tr>\n",
       "      <th>0</th>\n",
       "      <td>Accessories</td>\n",
       "      <td>22</td>\n",
       "    </tr>\n",
       "    <tr>\n",
       "      <th>1</th>\n",
       "      <td>Bags</td>\n",
       "      <td>891</td>\n",
       "    </tr>\n",
       "    <tr>\n",
       "      <th>2</th>\n",
       "      <td>Belts</td>\n",
       "      <td>9</td>\n",
       "    </tr>\n",
       "    <tr>\n",
       "      <th>3</th>\n",
       "      <td>Eyewear</td>\n",
       "      <td>150</td>\n",
       "    </tr>\n",
       "    <tr>\n",
       "      <th>4</th>\n",
       "      <td>Gloves</td>\n",
       "      <td>1</td>\n",
       "    </tr>\n",
       "    <tr>\n",
       "      <th>5</th>\n",
       "      <td>Headwear</td>\n",
       "      <td>152</td>\n",
       "    </tr>\n",
       "    <tr>\n",
       "      <th>6</th>\n",
       "      <td>Mufflers</td>\n",
       "      <td>1</td>\n",
       "    </tr>\n",
       "    <tr>\n",
       "      <th>7</th>\n",
       "      <td>Scarves</td>\n",
       "      <td>5</td>\n",
       "    </tr>\n",
       "    <tr>\n",
       "      <th>8</th>\n",
       "      <td>Shoe Accessories</td>\n",
       "      <td>4</td>\n",
       "    </tr>\n",
       "    <tr>\n",
       "      <th>9</th>\n",
       "      <td>Socks</td>\n",
       "      <td>71</td>\n",
       "    </tr>\n",
       "    <tr>\n",
       "      <th>10</th>\n",
       "      <td>Sports Accessories</td>\n",
       "      <td>3</td>\n",
       "    </tr>\n",
       "    <tr>\n",
       "      <th>11</th>\n",
       "      <td>Wallets</td>\n",
       "      <td>21</td>\n",
       "    </tr>\n",
       "    <tr>\n",
       "      <th>12</th>\n",
       "      <td>Watches</td>\n",
       "      <td>143</td>\n",
       "    </tr>\n",
       "  </tbody>\n",
       "</table>\n",
       "</div>"
      ],
      "text/plain": [
       "           subCategory  Count\n",
       "0          Accessories     22\n",
       "1                 Bags    891\n",
       "2                Belts      9\n",
       "3              Eyewear    150\n",
       "4               Gloves      1\n",
       "5             Headwear    152\n",
       "6             Mufflers      1\n",
       "7              Scarves      5\n",
       "8     Shoe Accessories      4\n",
       "9                Socks     71\n",
       "10  Sports Accessories      3\n",
       "11             Wallets     21\n",
       "12             Watches    143"
      ]
     },
     "execution_count": 220,
     "metadata": {},
     "output_type": "execute_result"
    }
   ],
   "source": [
    "#unisex-accessories with subcategory\n",
    "unisex_accessories_df.groupby(['subCategory']).size().reset_index(name='Count')"
   ]
  },
  {
   "cell_type": "code",
   "execution_count": 221,
   "id": "009d3221",
   "metadata": {},
   "outputs": [
    {
     "data": {
      "text/plain": [
       "(array([ 0,  1,  2,  3,  4,  5,  6,  7,  8,  9, 10, 11, 12]),\n",
       " [Text(0, 0, 'Accessories'),\n",
       "  Text(1, 0, 'Bags'),\n",
       "  Text(2, 0, 'Belts'),\n",
       "  Text(3, 0, 'Eyewear'),\n",
       "  Text(4, 0, 'Gloves'),\n",
       "  Text(5, 0, 'Headwear'),\n",
       "  Text(6, 0, 'Mufflers'),\n",
       "  Text(7, 0, 'Scarves'),\n",
       "  Text(8, 0, 'Shoe Accessories'),\n",
       "  Text(9, 0, 'Socks'),\n",
       "  Text(10, 0, 'Sports Accessories'),\n",
       "  Text(11, 0, 'Wallets'),\n",
       "  Text(12, 0, 'Watches')])"
      ]
     },
     "execution_count": 221,
     "metadata": {},
     "output_type": "execute_result"
    },
    {
     "data": {
      "image/png": "[encoded data removed]",
      "text/plain": [
       "<Figure size 720x432 with 1 Axes>"
      ]
     },
     "metadata": {
      "needs_background": "light"
     },
     "output_type": "display_data"
    }
   ],
   "source": [
    "df_group=unisex_accessories_df.groupby(['subCategory']).size().reset_index(name='Count')\n",
    "plt.figure(figsize=(10, 6))\n",
    "sns.barplot(data=df_group, x='subCategory', y='Count', palette=\"viridis\")\n",
    "plt.xlabel('SubCategory')\n",
    "plt.ylabel('Count')\n",
    "plt.title('Count of Unisex Accessories by SubCategory')\n",
    "plt.xticks(rotation=45)"
   ]
  },
  {
   "cell_type": "markdown",
   "id": "f81fa4d9",
   "metadata": {},
   "source": [
    "Observation: Most unisex-accessories by subCategory are:\n",
    "1. Bags\n",
    "2. Eyewear\n",
    "3. Headwear"
   ]
  },
  {
   "cell_type": "code",
   "execution_count": 224,
   "id": "b33346dd",
   "metadata": {},
   "outputs": [
    {
     "data": {
      "image/png": "[encoded data removed]",
      "text/plain": [
       "<Figure size 1008x576 with 1 Axes>"
      ]
     },
     "metadata": {
      "needs_background": "light"
     },
     "output_type": "display_data"
    }
   ],
   "source": [
    "#footwear with subcategory and gender\n",
    "footwear_df = df[df['masterCategory'] == 'Footwear']\n",
    "grp_df = footwear_df.groupby(['subCategory', 'gender']).size().reset_index(name='Count')\n",
    "pivot_table = grp_df.pivot(index='subCategory', columns='gender', values='Count').fillna(0)\n",
    "\n",
    "plt.figure(figsize=(14, 8))\n",
    "for gender in pivot_table.columns:\n",
    "    plt.plot(pivot_table.index, pivot_table[gender], marker='o', label=gender)\n",
    "plt.title('Footwear Subcategories by Gender')\n",
    "plt.xlabel('Subcategory')\n",
    "plt.ylabel('Count')\n",
    "plt.xticks(rotation=45)\n",
    "plt.legend(title='Gender')\n",
    "plt.grid(True)\n",
    "plt.show()"
   ]
  },
  {
   "cell_type": "markdown",
   "id": "9e9e9693",
   "metadata": {},
   "source": [
    "Observation:Shoes are most worn footwear in almost every gender."
   ]
  },
  {
   "cell_type": "code",
   "execution_count": 168,
   "id": "f7347a95",
   "metadata": {},
   "outputs": [
    {
     "data": {
      "text/html": [
       "<div>\n",
       "<style scoped>\n",
       "    .dataframe tbody tr th:only-of-type {\n",
       "        vertical-align: middle;\n",
       "    }\n",
       "\n",
       "    .dataframe tbody tr th {\n",
       "        vertical-align: top;\n",
       "    }\n",
       "\n",
       "    .dataframe thead th {\n",
       "        text-align: right;\n",
       "    }\n",
       "</style>\n",
       "<table border=\"1\" class=\"dataframe\">\n",
       "  <thead>\n",
       "    <tr style=\"text-align: right;\">\n",
       "      <th></th>\n",
       "      <th>articleType</th>\n",
       "      <th>gender</th>\n",
       "      <th>Count</th>\n",
       "    </tr>\n",
       "  </thead>\n",
       "  <tbody>\n",
       "    <tr>\n",
       "      <th>0</th>\n",
       "      <td>Accessory Gift Set</td>\n",
       "      <td>Men</td>\n",
       "      <td>90</td>\n",
       "    </tr>\n",
       "    <tr>\n",
       "      <th>1</th>\n",
       "      <td>Belts</td>\n",
       "      <td>Men</td>\n",
       "      <td>137</td>\n",
       "    </tr>\n",
       "    <tr>\n",
       "      <th>2</th>\n",
       "      <td>Blazers</td>\n",
       "      <td>Men</td>\n",
       "      <td>5</td>\n",
       "    </tr>\n",
       "    <tr>\n",
       "      <th>3</th>\n",
       "      <td>Blazers</td>\n",
       "      <td>Women</td>\n",
       "      <td>2</td>\n",
       "    </tr>\n",
       "    <tr>\n",
       "      <th>4</th>\n",
       "      <td>Casual Shoes</td>\n",
       "      <td>Men</td>\n",
       "      <td>13</td>\n",
       "    </tr>\n",
       "    <tr>\n",
       "      <th>5</th>\n",
       "      <td>Casual Shoes</td>\n",
       "      <td>Women</td>\n",
       "      <td>1</td>\n",
       "    </tr>\n",
       "    <tr>\n",
       "      <th>6</th>\n",
       "      <td>Cufflinks</td>\n",
       "      <td>Men</td>\n",
       "      <td>43</td>\n",
       "    </tr>\n",
       "    <tr>\n",
       "      <th>7</th>\n",
       "      <td>Dresses</td>\n",
       "      <td>Women</td>\n",
       "      <td>2</td>\n",
       "    </tr>\n",
       "    <tr>\n",
       "      <th>8</th>\n",
       "      <td>Flats</td>\n",
       "      <td>Women</td>\n",
       "      <td>1</td>\n",
       "    </tr>\n",
       "    <tr>\n",
       "      <th>9</th>\n",
       "      <td>Formal Shoes</td>\n",
       "      <td>Men</td>\n",
       "      <td>607</td>\n",
       "    </tr>\n",
       "    <tr>\n",
       "      <th>10</th>\n",
       "      <td>Handbags</td>\n",
       "      <td>Women</td>\n",
       "      <td>1</td>\n",
       "    </tr>\n",
       "    <tr>\n",
       "      <th>11</th>\n",
       "      <td>Heels</td>\n",
       "      <td>Women</td>\n",
       "      <td>23</td>\n",
       "    </tr>\n",
       "    <tr>\n",
       "      <th>12</th>\n",
       "      <td>Laptop Bag</td>\n",
       "      <td>Unisex</td>\n",
       "      <td>1</td>\n",
       "    </tr>\n",
       "    <tr>\n",
       "      <th>13</th>\n",
       "      <td>Sandals</td>\n",
       "      <td>Men</td>\n",
       "      <td>9</td>\n",
       "    </tr>\n",
       "    <tr>\n",
       "      <th>14</th>\n",
       "      <td>Shirts</td>\n",
       "      <td>Men</td>\n",
       "      <td>836</td>\n",
       "    </tr>\n",
       "    <tr>\n",
       "      <th>15</th>\n",
       "      <td>Shirts</td>\n",
       "      <td>Women</td>\n",
       "      <td>30</td>\n",
       "    </tr>\n",
       "    <tr>\n",
       "      <th>16</th>\n",
       "      <td>Skirts</td>\n",
       "      <td>Women</td>\n",
       "      <td>13</td>\n",
       "    </tr>\n",
       "    <tr>\n",
       "      <th>17</th>\n",
       "      <td>Socks</td>\n",
       "      <td>Men</td>\n",
       "      <td>43</td>\n",
       "    </tr>\n",
       "    <tr>\n",
       "      <th>18</th>\n",
       "      <td>Suspenders</td>\n",
       "      <td>Men</td>\n",
       "      <td>40</td>\n",
       "    </tr>\n",
       "    <tr>\n",
       "      <th>19</th>\n",
       "      <td>Ties</td>\n",
       "      <td>Men</td>\n",
       "      <td>166</td>\n",
       "    </tr>\n",
       "    <tr>\n",
       "      <th>20</th>\n",
       "      <td>Tops</td>\n",
       "      <td>Women</td>\n",
       "      <td>3</td>\n",
       "    </tr>\n",
       "    <tr>\n",
       "      <th>21</th>\n",
       "      <td>Trousers</td>\n",
       "      <td>Men</td>\n",
       "      <td>208</td>\n",
       "    </tr>\n",
       "    <tr>\n",
       "      <th>22</th>\n",
       "      <td>Trousers</td>\n",
       "      <td>Women</td>\n",
       "      <td>28</td>\n",
       "    </tr>\n",
       "    <tr>\n",
       "      <th>23</th>\n",
       "      <td>Tshirts</td>\n",
       "      <td>Men</td>\n",
       "      <td>1</td>\n",
       "    </tr>\n",
       "    <tr>\n",
       "      <th>24</th>\n",
       "      <td>Tshirts</td>\n",
       "      <td>Women</td>\n",
       "      <td>1</td>\n",
       "    </tr>\n",
       "    <tr>\n",
       "      <th>25</th>\n",
       "      <td>Wallets</td>\n",
       "      <td>Men</td>\n",
       "      <td>30</td>\n",
       "    </tr>\n",
       "    <tr>\n",
       "      <th>26</th>\n",
       "      <td>Watches</td>\n",
       "      <td>Men</td>\n",
       "      <td>15</td>\n",
       "    </tr>\n",
       "    <tr>\n",
       "      <th>27</th>\n",
       "      <td>Watches</td>\n",
       "      <td>Women</td>\n",
       "      <td>4</td>\n",
       "    </tr>\n",
       "  </tbody>\n",
       "</table>\n",
       "</div>"
      ],
      "text/plain": [
       "           articleType  gender  Count\n",
       "0   Accessory Gift Set     Men     90\n",
       "1                Belts     Men    137\n",
       "2              Blazers     Men      5\n",
       "3              Blazers   Women      2\n",
       "4         Casual Shoes     Men     13\n",
       "5         Casual Shoes   Women      1\n",
       "6            Cufflinks     Men     43\n",
       "7              Dresses   Women      2\n",
       "8                Flats   Women      1\n",
       "9         Formal Shoes     Men    607\n",
       "10            Handbags   Women      1\n",
       "11               Heels   Women     23\n",
       "12          Laptop Bag  Unisex      1\n",
       "13             Sandals     Men      9\n",
       "14              Shirts     Men    836\n",
       "15              Shirts   Women     30\n",
       "16              Skirts   Women     13\n",
       "17               Socks     Men     43\n",
       "18          Suspenders     Men     40\n",
       "19                Ties     Men    166\n",
       "20                Tops   Women      3\n",
       "21            Trousers     Men    208\n",
       "22            Trousers   Women     28\n",
       "23             Tshirts     Men      1\n",
       "24             Tshirts   Women      1\n",
       "25             Wallets     Men     30\n",
       "26             Watches     Men     15\n",
       "27             Watches   Women      4"
      ]
     },
     "execution_count": 168,
     "metadata": {},
     "output_type": "execute_result"
    }
   ],
   "source": [
    "#articleType with usage-formal and gender\n",
    "formal_df = df[df['usage'] == 'Formal']\n",
    "formal_df.groupby(['articleType', 'gender']).size().reset_index(name='Count')"
   ]
  },
  {
   "cell_type": "code",
   "execution_count": 169,
   "id": "78cf276d",
   "metadata": {},
   "outputs": [],
   "source": [
    "grouped = formal_df.groupby(['articleType', 'gender']).size().unstack(fill_value=0)\n",
    "top_10_article_types = grouped.sum(axis=1).sort_values(ascending=False).head(10).index\n",
    "top_10_grouped = grouped.loc[top_10_article_types]"
   ]
  },
  {
   "cell_type": "code",
   "execution_count": 170,
   "id": "bfc70b7d",
   "metadata": {},
   "outputs": [
    {
     "data": {
      "image/png": "[encoded data removed]",
      "text/plain": [
       "<Figure size 864x432 with 1 Axes>"
      ]
     },
     "metadata": {
      "needs_background": "light"
     },
     "output_type": "display_data"
    }
   ],
   "source": [
    "plt.figure(figsize=(12, 6))\n",
    "for gender in top_10_grouped.columns:\n",
    "    plt.plot(top_10_grouped.index, top_10_grouped[gender], marker='o', label=gender)\n",
    "plt.xlabel('Article Type')\n",
    "plt.ylabel('Count')\n",
    "plt.title('Top 10 Article Types with Formal Usage for Both Genders')\n",
    "plt.legend(title='Gender')\n",
    "plt.grid(True)\n",
    "plt.show()"
   ]
  },
  {
   "cell_type": "markdown",
   "id": "703dba2d",
   "metadata": {},
   "source": [
    "Observation:Shirts are most worn in every gender followed by trousers."
   ]
  },
  {
   "cell_type": "code",
   "execution_count": 233,
   "id": "70d52342",
   "metadata": {},
   "outputs": [
    {
     "data": {
      "image/png": "[encoded data removed]",
      "text/plain": [
       "<Figure size 1008x576 with 1 Axes>"
      ]
     },
     "metadata": {
      "needs_background": "light"
     },
     "output_type": "display_data"
    }
   ],
   "source": [
    "#ethinic-usage with top10 articleType and gender\n",
    "ethnic_df = df[df['usage'] == 'Ethnic']\n",
    "grp_df = ethnic_df.groupby(['articleType', 'gender']).size().reset_index(name='Count')\n",
    "\n",
    "#top 10 article types \n",
    "top_10_article_types = grp_df.groupby('articleType')['Count'].sum().nlargest(10).index\n",
    "top_10_grp_df = grp_df[grp_df['articleType'].isin(top_10_article_types)]\n",
    "pivot_table = top_10_grp_df.pivot(index='articleType', columns='gender', values='Count').fillna(0)\n",
    "\n",
    "# Plotting\n",
    "plt.figure(figsize=(14, 8))\n",
    "for gender in pivot_table.columns:\n",
    "    plt.plot(pivot_table.index, pivot_table[gender], marker='o', label=gender)\n",
    "plt.title('Top 10 Ethnic Article Types by Gender (Line Chart)')\n",
    "plt.xlabel('Article Type')\n",
    "plt.ylabel('Count')\n",
    "plt.legend(title='Gender')\n",
    "plt.grid(True)\n",
    "plt.show()"
   ]
  },
  {
   "cell_type": "markdown",
   "id": "185d431a",
   "metadata": {},
   "source": [
    "Observation: Kurtas are most worn in almost every gender."
   ]
  },
  {
   "cell_type": "code",
   "execution_count": 234,
   "id": "f4608ad4",
   "metadata": {},
   "outputs": [
    {
     "data": {
      "image/png": "[encoded data removed]",
      "text/plain": [
       "<Figure size 1008x576 with 1 Axes>"
      ]
     },
     "metadata": {
      "needs_background": "light"
     },
     "output_type": "display_data"
    }
   ],
   "source": [
    "grp_df = ethnic_df.groupby(['articleType', 'season']).size().reset_index(name='Count')\n",
    "\n",
    "# Identify the top 10 article types by total count\n",
    "top_10_article_types = grp_df.groupby('articleType')['Count'].sum().nlargest(10).index\n",
    "\n",
    "# Filter the grouped data to include only the top 10 article types\n",
    "top_10_grp_df = grp_df[grp_df['articleType'].isin(top_10_article_types)]\n",
    "\n",
    "# Create a pivot table with 'articleType' as index, 'season' as columns, and 'Count' as values\n",
    "pivot_table = top_10_grp_df.pivot(index='articleType', columns='season', values='Count').fillna(0)\n",
    "\n",
    "# Plot the pivot table as a line chart\n",
    "plt.figure(figsize=(14, 8))\n",
    "for season in pivot_table.columns:\n",
    "    plt.plot(pivot_table.index, pivot_table[season], marker='o', label=season)\n",
    "\n",
    "# Add labels and title\n",
    "plt.title('Top 10 Ethnic Article Types by Season (Line Chart)')\n",
    "plt.xlabel('Article Type')\n",
    "plt.ylabel('Count')\n",
    "plt.xticks(rotation=45)\n",
    "plt.legend(title='Season')\n",
    "plt.grid(True)\n",
    "plt.show()"
   ]
  },
  {
   "cell_type": "markdown",
   "id": "11556e52",
   "metadata": {},
   "source": [
    "Observation:Kurtas are most worn in almost every season."
   ]
  },
  {
   "cell_type": "code",
   "execution_count": 9,
   "id": "6860ebcb",
   "metadata": {},
   "outputs": [
    {
     "name": "stdout",
     "output_type": "stream",
     "text": [
      "Rows with missing images:\n",
      "          id gender masterCategory subCategory articleType baseColour  season  \\\n",
      "5941   39403    Men        Apparel     Topwear      Shirts      Black  Summer   \n",
      "14484  39410    Men        Apparel     Topwear      Shirts      Cream  Summer   \n",
      "28782  39401    Men        Apparel  Bottomwear       Jeans       Blue  Winter   \n",
      "32464  39425    Men        Apparel     Topwear     Tshirts        Red  Spring   \n",
      "35694  12347    Men        Apparel     Topwear       Suits        Red  Winter   \n",
      "\n",
      "        usage                                 productDisplayName colorgroup  \\\n",
      "5941   Casual  U.S. Polo Assn. Men Black Tailored Fit Casual ...      Black   \n",
      "14484  Casual  U.S. Polo Assn. Men Cream-Coloured Tailored Fi...      White   \n",
      "28782  Casual  U.S. Polo Assn. Denim Co. Men Blue Slim Straig...       Blue   \n",
      "32464  Casual               U.S. Polo Assn. Men Red Polo T-Shirt        Red   \n",
      "35694  Casual  Fastrack Men Red Manhattan Regular Fit Solid F...        Red   \n",
      "\n",
      "                imagePath  image_exists  \n",
      "5941   ./images/39403.jpg         False  \n",
      "14484  ./images/39410.jpg         False  \n",
      "28782  ./images/39401.jpg         False  \n",
      "32464  ./images/39425.jpg         False  \n",
      "35694  ./images/12347.jpg         False  \n",
      "Number of missing images: 5\n"
     ]
    }
   ],
   "source": []
  },
  {
   "cell_type": "code",
   "execution_count": null,
   "id": "07ae246a",
   "metadata": {},
   "outputs": [],
   "source": []
  }
 ],
 "metadata": {
  "kernelspec": {
   "display_name": "Python 3 (ipykernel)",
   "language": "python",
   "name": "python3"
  },
  "language_info": {
   "codemirror_mode": {
    "name": "ipython",
    "version": 3
   },
   "file_extension": ".py",
   "mimetype": "text/x-python",
   "name": "python",
   "nbconvert_exporter": "python",
   "pygments_lexer": "ipython3",
   "version": "3.10.11"
  }
 },
 "nbformat": 4,
 "nbformat_minor": 5
}
