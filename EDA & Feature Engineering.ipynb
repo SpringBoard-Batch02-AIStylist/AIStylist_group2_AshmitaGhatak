{
 "cells": [
  {
   "cell_type": "code",
   "execution_count": 2,
   "id": "474490df",
   "metadata": {},
   "outputs": [],
   "source": [
    "#Dataset: https://www.kaggle.com/datasets/paramaggarwal/fashion-product-images-small"
   ]
  },
  {
   "cell_type": "code",
   "execution_count": 3,
   "id": "8853a1e6",
   "metadata": {},
   "outputs": [
    {
     "name": "stderr",
     "output_type": "stream",
     "text": [
      "C:\\Users\\ASHMITA\\AppData\\Local\\Packages\\PythonSoftwareFoundation.Python.3.10_qbz5n2kfra8p0\\LocalCache\\local-packages\\Python310\\site-packages\\scipy\\__init__.py:146: UserWarning: A NumPy version >=1.17.3 and <1.25.0 is required for this version of SciPy (detected version 1.26.4\n",
      "  warnings.warn(f\"A NumPy version >={np_minversion} and <{np_maxversion}\"\n"
     ]
    }
   ],
   "source": [
    "import numpy as np\n",
    "import pandas as pd\n",
    "import matplotlib.pyplot as plt\n",
    "import seaborn as sns\n",
    "%matplotlib inline\n"
   ]
  },
  {
   "cell_type": "code",
   "execution_count": 4,
   "id": "f142d89d",
   "metadata": {},
   "outputs": [
    {
     "data": {
      "text/html": [
       "<div>\n",
       "<style scoped>\n",
       "    .dataframe tbody tr th:only-of-type {\n",
       "        vertical-align: middle;\n",
       "    }\n",
       "\n",
       "    .dataframe tbody tr th {\n",
       "        vertical-align: top;\n",
       "    }\n",
       "\n",
       "    .dataframe thead th {\n",
       "        text-align: right;\n",
       "    }\n",
       "</style>\n",
       "<table border=\"1\" class=\"dataframe\">\n",
       "  <thead>\n",
       "    <tr style=\"text-align: right;\">\n",
       "      <th></th>\n",
       "      <th>id</th>\n",
       "      <th>gender</th>\n",
       "      <th>masterCategory</th>\n",
       "      <th>subCategory</th>\n",
       "      <th>articleType</th>\n",
       "      <th>baseColour</th>\n",
       "      <th>season</th>\n",
       "      <th>usage</th>\n",
       "      <th>productDisplayName</th>\n",
       "      <th>colorgroup</th>\n",
       "      <th>imagePath</th>\n",
       "      <th>image_exists</th>\n",
       "    </tr>\n",
       "  </thead>\n",
       "  <tbody>\n",
       "    <tr>\n",
       "      <th>0</th>\n",
       "      <td>1163</td>\n",
       "      <td>Men</td>\n",
       "      <td>Apparel</td>\n",
       "      <td>Topwear</td>\n",
       "      <td>Tshirts</td>\n",
       "      <td>Blue</td>\n",
       "      <td>Summer</td>\n",
       "      <td>Sports</td>\n",
       "      <td>Nike Sahara Team India Fanwear Round Neck Jersey</td>\n",
       "      <td>Blue</td>\n",
       "      <td>./images/1163.jpg</td>\n",
       "      <td>True</td>\n",
       "    </tr>\n",
       "    <tr>\n",
       "      <th>1</th>\n",
       "      <td>1164</td>\n",
       "      <td>Men</td>\n",
       "      <td>Apparel</td>\n",
       "      <td>Topwear</td>\n",
       "      <td>Tshirts</td>\n",
       "      <td>Blue</td>\n",
       "      <td>Winter</td>\n",
       "      <td>Sports</td>\n",
       "      <td>Nike Men Blue T20 Indian Cricket Jersey</td>\n",
       "      <td>Blue</td>\n",
       "      <td>./images/1164.jpg</td>\n",
       "      <td>True</td>\n",
       "    </tr>\n",
       "    <tr>\n",
       "      <th>2</th>\n",
       "      <td>1165</td>\n",
       "      <td>Men</td>\n",
       "      <td>Apparel</td>\n",
       "      <td>Topwear</td>\n",
       "      <td>Tshirts</td>\n",
       "      <td>Blue</td>\n",
       "      <td>Summer</td>\n",
       "      <td>Sports</td>\n",
       "      <td>Nike Mean Team India Cricket Jersey</td>\n",
       "      <td>Blue</td>\n",
       "      <td>./images/1165.jpg</td>\n",
       "      <td>True</td>\n",
       "    </tr>\n",
       "    <tr>\n",
       "      <th>3</th>\n",
       "      <td>1525</td>\n",
       "      <td>Unisex</td>\n",
       "      <td>Accessories</td>\n",
       "      <td>Bags</td>\n",
       "      <td>Backpacks</td>\n",
       "      <td>Navy Blue</td>\n",
       "      <td>Fall</td>\n",
       "      <td>Casual</td>\n",
       "      <td>Puma Deck Navy Blue Backpack</td>\n",
       "      <td>Blue</td>\n",
       "      <td>./images/1525.jpg</td>\n",
       "      <td>True</td>\n",
       "    </tr>\n",
       "    <tr>\n",
       "      <th>4</th>\n",
       "      <td>1526</td>\n",
       "      <td>Unisex</td>\n",
       "      <td>Accessories</td>\n",
       "      <td>Bags</td>\n",
       "      <td>Backpacks</td>\n",
       "      <td>Black</td>\n",
       "      <td>Fall</td>\n",
       "      <td>Sports</td>\n",
       "      <td>Puma Big Cat Backpack Black</td>\n",
       "      <td>Black</td>\n",
       "      <td>./images/1526.jpg</td>\n",
       "      <td>True</td>\n",
       "    </tr>\n",
       "  </tbody>\n",
       "</table>\n",
       "</div>"
      ],
      "text/plain": [
       "     id  gender masterCategory subCategory articleType baseColour  season  \\\n",
       "0  1163     Men        Apparel     Topwear     Tshirts       Blue  Summer   \n",
       "1  1164     Men        Apparel     Topwear     Tshirts       Blue  Winter   \n",
       "2  1165     Men        Apparel     Topwear     Tshirts       Blue  Summer   \n",
       "3  1525  Unisex    Accessories        Bags   Backpacks  Navy Blue    Fall   \n",
       "4  1526  Unisex    Accessories        Bags   Backpacks      Black    Fall   \n",
       "\n",
       "    usage                                productDisplayName colorgroup  \\\n",
       "0  Sports  Nike Sahara Team India Fanwear Round Neck Jersey       Blue   \n",
       "1  Sports           Nike Men Blue T20 Indian Cricket Jersey       Blue   \n",
       "2  Sports               Nike Mean Team India Cricket Jersey       Blue   \n",
       "3  Casual                      Puma Deck Navy Blue Backpack       Blue   \n",
       "4  Sports                       Puma Big Cat Backpack Black      Black   \n",
       "\n",
       "           imagePath  image_exists  \n",
       "0  ./images/1163.jpg          True  \n",
       "1  ./images/1164.jpg          True  \n",
       "2  ./images/1165.jpg          True  \n",
       "3  ./images/1525.jpg          True  \n",
       "4  ./images/1526.jpg          True  "
      ]
     },
     "execution_count": 4,
     "metadata": {},
     "output_type": "execute_result"
    }
   ],
   "source": [
    "df= pd.read_csv(\"styles.csv\")\n",
    "custom_palette = \"viridis\"\n",
    "df.head()"
   ]
  },
  {
   "cell_type": "code",
   "execution_count": 5,
   "id": "b28d94ea",
   "metadata": {
    "scrolled": true
   },
   "outputs": [
    {
     "data": {
      "text/plain": [
       "Index(['id', 'gender', 'masterCategory', 'subCategory', 'articleType',\n",
       "       'baseColour', 'season', 'usage', 'productDisplayName', 'colorgroup',\n",
       "       'imagePath', 'image_exists'],\n",
       "      dtype='object')"
      ]
     },
     "execution_count": 5,
     "metadata": {},
     "output_type": "execute_result"
    }
   ],
   "source": [
    "df.columns"
   ]
  },
  {
   "cell_type": "code",
   "execution_count": 6,
   "id": "abbbd4f1",
   "metadata": {},
   "outputs": [
    {
     "name": "stdout",
     "output_type": "stream",
     "text": [
      "Original Data:\n",
      "     id  gender masterCategory subCategory articleType baseColour  season  \\\n",
      "0  1163     Men        Apparel     Topwear     Tshirts       Blue  Summer   \n",
      "1  1164     Men        Apparel     Topwear     Tshirts       Blue  Winter   \n",
      "2  1165     Men        Apparel     Topwear     Tshirts       Blue  Summer   \n",
      "3  1525  Unisex    Accessories        Bags   Backpacks  Navy Blue    Fall   \n",
      "4  1526  Unisex    Accessories        Bags   Backpacks      Black    Fall   \n",
      "\n",
      "    usage                                productDisplayName colorgroup  \\\n",
      "0  Sports  Nike Sahara Team India Fanwear Round Neck Jersey       Blue   \n",
      "1  Sports           Nike Men Blue T20 Indian Cricket Jersey       Blue   \n",
      "2  Sports               Nike Mean Team India Cricket Jersey       Blue   \n",
      "3  Casual                      Puma Deck Navy Blue Backpack       Blue   \n",
      "4  Sports                       Puma Big Cat Backpack Black      Black   \n",
      "\n",
      "           imagePath  image_exists  \n",
      "0  ./images/1163.jpg          True  \n",
      "1  ./images/1164.jpg          True  \n",
      "2  ./images/1165.jpg          True  \n",
      "3  ./images/1525.jpg          True  \n",
      "4  ./images/1526.jpg          True  \n"
     ]
    }
   ],
   "source": [
    "data = pd.read_csv('styles.csv')\n",
    "print(\"Original Data:\")\n",
    "print(data.head())"
   ]
  },
  {
   "cell_type": "markdown",
   "id": "0555c46a",
   "metadata": {},
   "source": [
    "## Data preprocessing"
   ]
  },
  {
   "cell_type": "code",
   "execution_count": 7,
   "id": "b36733f1",
   "metadata": {},
   "outputs": [
    {
     "name": "stdout",
     "output_type": "stream",
     "text": [
      "Filtered Data (masterCategory):\n",
      "Apparel           19117\n",
      "Accessories       11248\n",
      "Footwear           9222\n",
      "Sporting Goods        4\n",
      "Name: masterCategory, dtype: int64\n",
      "\n",
      "Filtered Data (subCategory):\n",
      "Topwear        15401\n",
      "Shoes           7344\n",
      "Bags            3055\n",
      "Bottomwear      2693\n",
      "Watches         2542\n",
      "Jewellery       1080\n",
      "Eyewear         1073\n",
      "Sandal           963\n",
      "Wallets          933\n",
      "Flip Flops       915\n",
      "Belts            811\n",
      "Socks            698\n",
      "Dress            478\n",
      "Saree            427\n",
      "Headwear         293\n",
      "Ties             258\n",
      "Accessories      143\n",
      "Scarves          118\n",
      "Cufflinks        108\n",
      "Apparel Set      106\n",
      "Stoles            90\n",
      "Mufflers          38\n",
      "Gloves            20\n",
      "Wristbands         4\n",
      "Name: subCategory, dtype: int64\n",
      "\n",
      "Reloaded Data (masterCategory):\n",
      "Apparel           19117\n",
      "Accessories       11248\n",
      "Footwear           9222\n",
      "Sporting Goods        4\n",
      "Name: masterCategory, dtype: int64\n",
      "\n",
      "Reloaded Data (subCategory):\n",
      "Topwear        15401\n",
      "Shoes           7344\n",
      "Bags            3055\n",
      "Bottomwear      2693\n",
      "Watches         2542\n",
      "Jewellery       1080\n",
      "Eyewear         1073\n",
      "Sandal           963\n",
      "Wallets          933\n",
      "Flip Flops       915\n",
      "Belts            811\n",
      "Socks            698\n",
      "Dress            478\n",
      "Saree            427\n",
      "Headwear         293\n",
      "Ties             258\n",
      "Accessories      143\n",
      "Scarves          118\n",
      "Cufflinks        108\n",
      "Apparel Set      106\n",
      "Stoles            90\n",
      "Mufflers          38\n",
      "Gloves            20\n",
      "Wristbands         4\n",
      "Name: subCategory, dtype: int64\n"
     ]
    }
   ],
   "source": [
    "#filtering out unwanted unique values from the masterCategory and subCategory column:\n",
    "master_categories_to_remove = ['Personal Care', 'Free Items', 'Home']\n",
    "sub_categories_to_remove = ['Innerwear', 'Fragrance', 'Lips', 'Loungewear and Nightwear', 'Nails', 'Makeup',\n",
    "                            'Free Gifts', 'Skin Care', 'Bath and Body', 'Water Bottle', 'Perfumes', 'Umbrellas', \n",
    "                            'Home Furnishing', 'Vouchers', 'Sports Equipment', 'Shoe Accessories', 'Sports Accessories']\n",
    "\n",
    "cleaned_df = data[\n",
    "    (~data['masterCategory'].isin(master_categories_to_remove)) &\n",
    "    (~data['subCategory'].isin(sub_categories_to_remove))\n",
    "]\n",
    "print(\"Filtered Data (masterCategory):\")\n",
    "print(cleaned_df['masterCategory'].value_counts())\n",
    "print(\"\\nFiltered Data (subCategory):\")\n",
    "print(cleaned_df['subCategory'].value_counts())\n",
    "\n",
    "cleaned_df.to_csv('styles.csv', index=False)\n",
    "\n",
    "#verify\n",
    "reloaded_df = pd.read_csv('styles.csv')\n",
    "print(\"\\nReloaded Data (masterCategory):\")\n",
    "print(reloaded_df['masterCategory'].value_counts())\n",
    "print(\"\\nReloaded Data (subCategory):\")\n",
    "print(reloaded_df['subCategory'].value_counts())"
   ]
  },
  {
   "cell_type": "code",
   "execution_count": 8,
   "id": "3270a103",
   "metadata": {},
   "outputs": [
    {
     "data": {
      "text/plain": [
       "(39591, 12)"
      ]
     },
     "execution_count": 8,
     "metadata": {},
     "output_type": "execute_result"
    }
   ],
   "source": [
    "df.shape"
   ]
  },
  {
   "cell_type": "code",
   "execution_count": 9,
   "id": "b49abea1",
   "metadata": {},
   "outputs": [
    {
     "data": {
      "text/plain": [
       "<bound method DataFrame.info of           id  gender masterCategory subCategory articleType baseColour  \\\n",
       "0       1163     Men        Apparel     Topwear     Tshirts       Blue   \n",
       "1       1164     Men        Apparel     Topwear     Tshirts       Blue   \n",
       "2       1165     Men        Apparel     Topwear     Tshirts       Blue   \n",
       "3       1525  Unisex    Accessories        Bags   Backpacks  Navy Blue   \n",
       "4       1526  Unisex    Accessories        Bags   Backpacks      Black   \n",
       "...      ...     ...            ...         ...         ...        ...   \n",
       "39586  59995   Women        Apparel       Dress     Dresses      Black   \n",
       "39587  59996   Women        Apparel       Dress     Dresses     Purple   \n",
       "39588  59998   Women       Footwear       Shoes       Heels      Multi   \n",
       "39589  59999   Women       Footwear       Shoes       Heels     Bronze   \n",
       "39590  60000   Women        Apparel     Topwear      Kurtas       Blue   \n",
       "\n",
       "       season   usage                                productDisplayName  \\\n",
       "0      Summer  Sports  Nike Sahara Team India Fanwear Round Neck Jersey   \n",
       "1      Winter  Sports           Nike Men Blue T20 Indian Cricket Jersey   \n",
       "2      Summer  Sports               Nike Mean Team India Cricket Jersey   \n",
       "3        Fall  Casual                      Puma Deck Navy Blue Backpack   \n",
       "4        Fall  Sports                       Puma Big Cat Backpack Black   \n",
       "...       ...     ...                                               ...   \n",
       "39586    Fall   Party                               Avirate Black Dress   \n",
       "39587  Summer  Casual                      Avirate Black & Purple Dress   \n",
       "39588  Winter  Casual                Catwalk Women Multi Coloured Heels   \n",
       "39589  Winter  Casual                       Catwalk Women Bronze Wedges   \n",
       "39590    Fall  Ethnic                             Alma Women Blue Kurta   \n",
       "\n",
       "      colorgroup           imagePath  image_exists  \n",
       "0           Blue   ./images/1163.jpg          True  \n",
       "1           Blue   ./images/1164.jpg          True  \n",
       "2           Blue   ./images/1165.jpg          True  \n",
       "3           Blue   ./images/1525.jpg          True  \n",
       "4          Black   ./images/1526.jpg          True  \n",
       "...          ...                 ...           ...  \n",
       "39586      Black  ./images/59995.jpg          True  \n",
       "39587     Purple  ./images/59996.jpg          True  \n",
       "39588      Multi  ./images/59998.jpg          True  \n",
       "39589   Metallic  ./images/59999.jpg          True  \n",
       "39590       Blue  ./images/60000.jpg          True  \n",
       "\n",
       "[39591 rows x 12 columns]>"
      ]
     },
     "execution_count": 9,
     "metadata": {},
     "output_type": "execute_result"
    }
   ],
   "source": [
    "df.info"
   ]
  },
  {
   "cell_type": "code",
   "execution_count": 10,
   "id": "e700098d",
   "metadata": {},
   "outputs": [
    {
     "data": {
      "text/plain": [
       "id                     int64\n",
       "gender                object\n",
       "masterCategory        object\n",
       "subCategory           object\n",
       "articleType           object\n",
       "baseColour            object\n",
       "season                object\n",
       "usage                 object\n",
       "productDisplayName    object\n",
       "colorgroup            object\n",
       "imagePath             object\n",
       "image_exists            bool\n",
       "dtype: object"
      ]
     },
     "execution_count": 10,
     "metadata": {},
     "output_type": "execute_result"
    }
   ],
   "source": [
    "df.dtypes"
   ]
  },
  {
   "cell_type": "markdown",
   "id": "07ebcc49",
   "metadata": {},
   "source": [
    "Observation: Only id is numerical feature rest categorical data features."
   ]
  },
  {
   "cell_type": "code",
   "execution_count": 11,
   "id": "972920b7",
   "metadata": {},
   "outputs": [
    {
     "data": {
      "text/plain": [
       "id                     0\n",
       "gender                 0\n",
       "masterCategory         0\n",
       "subCategory            0\n",
       "articleType            0\n",
       "baseColour             6\n",
       "season                21\n",
       "usage                 26\n",
       "productDisplayName     2\n",
       "colorgroup             6\n",
       "imagePath              0\n",
       "image_exists           0\n",
       "dtype: int64"
      ]
     },
     "execution_count": 11,
     "metadata": {},
     "output_type": "execute_result"
    }
   ],
   "source": [
    "df.isnull().sum()"
   ]
  },
  {
   "cell_type": "code",
   "execution_count": 12,
   "id": "846971ce",
   "metadata": {},
   "outputs": [
    {
     "data": {
      "text/plain": [
       "['baseColour', 'season', 'usage', 'productDisplayName', 'colorgroup']"
      ]
     },
     "execution_count": 12,
     "metadata": {},
     "output_type": "execute_result"
    }
   ],
   "source": [
    "[features for features in df.columns if df[features].isnull().sum()>0]"
   ]
  },
  {
   "cell_type": "code",
   "execution_count": 13,
   "id": "e4805ec9",
   "metadata": {},
   "outputs": [
    {
     "name": "stdout",
     "output_type": "stream",
     "text": [
      "baseColour 0.0002  % missing values\n",
      "season 0.0005  % missing values\n",
      "usage 0.0007  % missing values\n",
      "productDisplayName 0.0001  % missing values\n",
      "colorgroup 0.0002  % missing values\n"
     ]
    }
   ],
   "source": [
    "features_null=[features for features in df.columns if df[features].isnull().sum()>1]\n",
    "\n",
    "for feature in features_null:\n",
    "    print(feature, np.round(df[feature].isnull().mean(), 4),  ' % missing values')"
   ]
  },
  {
   "cell_type": "code",
   "execution_count": 14,
   "id": "dd523fff",
   "metadata": {},
   "outputs": [
    {
     "data": {
      "text/plain": [
       "(array([ 0.5,  1.5,  2.5,  3.5,  4.5,  5.5,  6.5,  7.5,  8.5,  9.5, 10.5,\n",
       "        11.5]),\n",
       " [Text(0.5, 0, 'id'),\n",
       "  Text(1.5, 0, 'gender'),\n",
       "  Text(2.5, 0, 'masterCategory'),\n",
       "  Text(3.5, 0, 'subCategory'),\n",
       "  Text(4.5, 0, 'articleType'),\n",
       "  Text(5.5, 0, 'baseColour'),\n",
       "  Text(6.5, 0, 'season'),\n",
       "  Text(7.5, 0, 'usage'),\n",
       "  Text(8.5, 0, 'productDisplayName'),\n",
       "  Text(9.5, 0, 'colorgroup'),\n",
       "  Text(10.5, 0, 'imagePath'),\n",
       "  Text(11.5, 0, 'image_exists')])"
      ]
     },
     "execution_count": 14,
     "metadata": {},
     "output_type": "execute_result"
    },
    {
     "data": {
      "image/png": "[encoded data removed]",
      "text/plain": [
       "<Figure size 576x432 with 1 Axes>"
      ]
     },
     "metadata": {
      "needs_background": "light"
     },
     "output_type": "display_data"
    }
   ],
   "source": [
    "plt.figure(figsize=(8,6))\n",
    "sns.heatmap(df.isnull(),yticklabels=False,cbar=False,cmap='viridis')\n",
    "plt.xticks(rotation=45)"
   ]
  },
  {
   "cell_type": "code",
   "execution_count": 15,
   "id": "e07604e9",
   "metadata": {},
   "outputs": [],
   "source": [
    "df.dropna(inplace=True)"
   ]
  },
  {
   "cell_type": "code",
   "execution_count": 16,
   "id": "42fce893",
   "metadata": {},
   "outputs": [
    {
     "data": {
      "text/plain": [
       "id                    0\n",
       "gender                0\n",
       "masterCategory        0\n",
       "subCategory           0\n",
       "articleType           0\n",
       "baseColour            0\n",
       "season                0\n",
       "usage                 0\n",
       "productDisplayName    0\n",
       "colorgroup            0\n",
       "imagePath             0\n",
       "image_exists          0\n",
       "dtype: int64"
      ]
     },
     "execution_count": 16,
     "metadata": {},
     "output_type": "execute_result"
    }
   ],
   "source": [
    "df.isnull().sum()"
   ]
  },
  {
   "cell_type": "code",
   "execution_count": 17,
   "id": "8161fc33",
   "metadata": {},
   "outputs": [],
   "source": [
    "df.sort_values('id', inplace=True)"
   ]
  },
  {
   "cell_type": "code",
   "execution_count": 18,
   "id": "9fa24227",
   "metadata": {},
   "outputs": [
    {
     "data": {
      "text/html": [
       "<div>\n",
       "<style scoped>\n",
       "    .dataframe tbody tr th:only-of-type {\n",
       "        vertical-align: middle;\n",
       "    }\n",
       "\n",
       "    .dataframe tbody tr th {\n",
       "        vertical-align: top;\n",
       "    }\n",
       "\n",
       "    .dataframe thead th {\n",
       "        text-align: right;\n",
       "    }\n",
       "</style>\n",
       "<table border=\"1\" class=\"dataframe\">\n",
       "  <thead>\n",
       "    <tr style=\"text-align: right;\">\n",
       "      <th></th>\n",
       "      <th>id</th>\n",
       "      <th>gender</th>\n",
       "      <th>masterCategory</th>\n",
       "      <th>subCategory</th>\n",
       "      <th>articleType</th>\n",
       "      <th>baseColour</th>\n",
       "      <th>season</th>\n",
       "      <th>usage</th>\n",
       "      <th>productDisplayName</th>\n",
       "      <th>colorgroup</th>\n",
       "      <th>imagePath</th>\n",
       "      <th>image_exists</th>\n",
       "    </tr>\n",
       "  </thead>\n",
       "  <tbody>\n",
       "    <tr>\n",
       "      <th>0</th>\n",
       "      <td>1163</td>\n",
       "      <td>Men</td>\n",
       "      <td>Apparel</td>\n",
       "      <td>Topwear</td>\n",
       "      <td>Tshirts</td>\n",
       "      <td>Blue</td>\n",
       "      <td>Summer</td>\n",
       "      <td>Sports</td>\n",
       "      <td>Nike Sahara Team India Fanwear Round Neck Jersey</td>\n",
       "      <td>Blue</td>\n",
       "      <td>./images/1163.jpg</td>\n",
       "      <td>True</td>\n",
       "    </tr>\n",
       "    <tr>\n",
       "      <th>1</th>\n",
       "      <td>1164</td>\n",
       "      <td>Men</td>\n",
       "      <td>Apparel</td>\n",
       "      <td>Topwear</td>\n",
       "      <td>Tshirts</td>\n",
       "      <td>Blue</td>\n",
       "      <td>Winter</td>\n",
       "      <td>Sports</td>\n",
       "      <td>Nike Men Blue T20 Indian Cricket Jersey</td>\n",
       "      <td>Blue</td>\n",
       "      <td>./images/1164.jpg</td>\n",
       "      <td>True</td>\n",
       "    </tr>\n",
       "    <tr>\n",
       "      <th>2</th>\n",
       "      <td>1165</td>\n",
       "      <td>Men</td>\n",
       "      <td>Apparel</td>\n",
       "      <td>Topwear</td>\n",
       "      <td>Tshirts</td>\n",
       "      <td>Blue</td>\n",
       "      <td>Summer</td>\n",
       "      <td>Sports</td>\n",
       "      <td>Nike Mean Team India Cricket Jersey</td>\n",
       "      <td>Blue</td>\n",
       "      <td>./images/1165.jpg</td>\n",
       "      <td>True</td>\n",
       "    </tr>\n",
       "    <tr>\n",
       "      <th>3</th>\n",
       "      <td>1525</td>\n",
       "      <td>Unisex</td>\n",
       "      <td>Accessories</td>\n",
       "      <td>Bags</td>\n",
       "      <td>Backpacks</td>\n",
       "      <td>Navy Blue</td>\n",
       "      <td>Fall</td>\n",
       "      <td>Casual</td>\n",
       "      <td>Puma Deck Navy Blue Backpack</td>\n",
       "      <td>Blue</td>\n",
       "      <td>./images/1525.jpg</td>\n",
       "      <td>True</td>\n",
       "    </tr>\n",
       "    <tr>\n",
       "      <th>4</th>\n",
       "      <td>1526</td>\n",
       "      <td>Unisex</td>\n",
       "      <td>Accessories</td>\n",
       "      <td>Bags</td>\n",
       "      <td>Backpacks</td>\n",
       "      <td>Black</td>\n",
       "      <td>Fall</td>\n",
       "      <td>Sports</td>\n",
       "      <td>Puma Big Cat Backpack Black</td>\n",
       "      <td>Black</td>\n",
       "      <td>./images/1526.jpg</td>\n",
       "      <td>True</td>\n",
       "    </tr>\n",
       "  </tbody>\n",
       "</table>\n",
       "</div>"
      ],
      "text/plain": [
       "     id  gender masterCategory subCategory articleType baseColour  season  \\\n",
       "0  1163     Men        Apparel     Topwear     Tshirts       Blue  Summer   \n",
       "1  1164     Men        Apparel     Topwear     Tshirts       Blue  Winter   \n",
       "2  1165     Men        Apparel     Topwear     Tshirts       Blue  Summer   \n",
       "3  1525  Unisex    Accessories        Bags   Backpacks  Navy Blue    Fall   \n",
       "4  1526  Unisex    Accessories        Bags   Backpacks      Black    Fall   \n",
       "\n",
       "    usage                                productDisplayName colorgroup  \\\n",
       "0  Sports  Nike Sahara Team India Fanwear Round Neck Jersey       Blue   \n",
       "1  Sports           Nike Men Blue T20 Indian Cricket Jersey       Blue   \n",
       "2  Sports               Nike Mean Team India Cricket Jersey       Blue   \n",
       "3  Casual                      Puma Deck Navy Blue Backpack       Blue   \n",
       "4  Sports                       Puma Big Cat Backpack Black      Black   \n",
       "\n",
       "           imagePath  image_exists  \n",
       "0  ./images/1163.jpg          True  \n",
       "1  ./images/1164.jpg          True  \n",
       "2  ./images/1165.jpg          True  \n",
       "3  ./images/1525.jpg          True  \n",
       "4  ./images/1526.jpg          True  "
      ]
     },
     "execution_count": 18,
     "metadata": {},
     "output_type": "execute_result"
    }
   ],
   "source": [
    "df.head()"
   ]
  },
  {
   "cell_type": "code",
   "execution_count": 19,
   "id": "dbe9f8b8",
   "metadata": {},
   "outputs": [
    {
     "data": {
      "text/plain": [
       "Men       20385\n",
       "Women     15605\n",
       "Unisex     2070\n",
       "Boys        826\n",
       "Girls       650\n",
       "Name: gender, dtype: int64"
      ]
     },
     "execution_count": 19,
     "metadata": {},
     "output_type": "execute_result"
    }
   ],
   "source": [
    "df.gender.value_counts()"
   ]
  },
  {
   "cell_type": "code",
   "execution_count": 20,
   "id": "1e86cab7",
   "metadata": {},
   "outputs": [
    {
     "data": {
      "text/plain": [
       "<AxesSubplot:xlabel='gender', ylabel='count'>"
      ]
     },
     "execution_count": 20,
     "metadata": {},
     "output_type": "execute_result"
    },
    {
     "data": {
      "image/png": "[encoded data removed]",
      "text/plain": [
       "<Figure size 432x288 with 1 Axes>"
      ]
     },
     "metadata": {
      "needs_background": "light"
     },
     "output_type": "display_data"
    }
   ],
   "source": [
    "sns.countplot(x=\"gender\", data=df,palette=custom_palette)"
   ]
  },
  {
   "cell_type": "markdown",
   "id": "a1179b05",
   "metadata": {},
   "source": [
    "Observation: Mostly Men and Women followed by Unisex, Boys and Girls."
   ]
  },
  {
   "cell_type": "code",
   "execution_count": 21,
   "id": "5903e92b",
   "metadata": {},
   "outputs": [
    {
     "data": {
      "text/plain": [
       "Apparel           19094\n",
       "Accessories       11238\n",
       "Footwear           9200\n",
       "Sporting Goods        4\n",
       "Name: masterCategory, dtype: int64"
      ]
     },
     "execution_count": 21,
     "metadata": {},
     "output_type": "execute_result"
    }
   ],
   "source": [
    "df.masterCategory.value_counts()"
   ]
  },
  {
   "cell_type": "code",
   "execution_count": 22,
   "id": "c4db04da",
   "metadata": {},
   "outputs": [
    {
     "data": {
      "text/plain": [
       "<AxesSubplot:xlabel='masterCategory', ylabel='count'>"
      ]
     },
     "execution_count": 22,
     "metadata": {},
     "output_type": "execute_result"
    },
    {
     "data": {
      "image/png": "[encoded data removed]",
      "text/plain": [
       "<Figure size 432x288 with 1 Axes>"
      ]
     },
     "metadata": {
      "needs_background": "light"
     },
     "output_type": "display_data"
    }
   ],
   "source": [
    "sns.countplot(x=\"masterCategory\", data=df,palette=custom_palette)"
   ]
  },
  {
   "cell_type": "markdown",
   "id": "ddb4ce68",
   "metadata": {},
   "source": [
    "Observation: Mostly Apparel followed by Accesories and Footwear."
   ]
  },
  {
   "cell_type": "code",
   "execution_count": 23,
   "id": "79f150fd",
   "metadata": {},
   "outputs": [
    {
     "data": {
      "text/plain": [
       "Topwear        15386\n",
       "Shoes           7324\n",
       "Bags            3053\n",
       "Bottomwear      2685\n",
       "Watches         2542\n",
       "Jewellery       1080\n",
       "Eyewear         1073\n",
       "Sandal           961\n",
       "Wallets          925\n",
       "Flip Flops       915\n",
       "Belts            811\n",
       "Socks            698\n",
       "Dress            478\n",
       "Saree            427\n",
       "Headwear         293\n",
       "Ties             258\n",
       "Accessories      143\n",
       "Scarves          118\n",
       "Cufflinks        108\n",
       "Apparel Set      106\n",
       "Stoles            90\n",
       "Mufflers          38\n",
       "Gloves            20\n",
       "Wristbands         4\n",
       "Name: subCategory, dtype: int64"
      ]
     },
     "execution_count": 23,
     "metadata": {},
     "output_type": "execute_result"
    }
   ],
   "source": [
    "df.subCategory.value_counts()"
   ]
  },
  {
   "cell_type": "code",
   "execution_count": 24,
   "id": "5c29caa7",
   "metadata": {},
   "outputs": [
    {
     "data": {
      "text/plain": [
       "<AxesSubplot:xlabel='subCategory', ylabel='count'>"
      ]
     },
     "execution_count": 24,
     "metadata": {},
     "output_type": "execute_result"
    },
    {
     "data": {
      "image/png": "[encoded data removed]",
      "text/plain": [
       "<Figure size 1080x504 with 1 Axes>"
      ]
     },
     "metadata": {
      "needs_background": "light"
     },
     "output_type": "display_data"
    }
   ],
   "source": [
    "plt.figure(figsize=(15, 7))\n",
    "plt.xticks(rotation=70)\n",
    "sns.countplot(x=\"subCategory\", data=df,palette=custom_palette)"
   ]
  },
  {
   "cell_type": "markdown",
   "id": "928d8581",
   "metadata": {},
   "source": [
    "Observation: Top-3 subCategory are: \n",
    "1. Topwear\n",
    "2. Shoes\n",
    "3. Bags"
   ]
  },
  {
   "cell_type": "code",
   "execution_count": 25,
   "id": "e396aa52",
   "metadata": {},
   "outputs": [
    {
     "data": {
      "text/plain": [
       "Tshirts               7068\n",
       "Shirts                3212\n",
       "Casual Shoes          2846\n",
       "Watches               2542\n",
       "Sports Shoes          2016\n",
       "                      ... \n",
       "Tablet Sleeve            3\n",
       "Trolley Bag              3\n",
       "Ties and Cufflinks       2\n",
       "Key chain                2\n",
       "Hair Accessory           1\n",
       "Name: articleType, Length: 87, dtype: int64"
      ]
     },
     "execution_count": 25,
     "metadata": {},
     "output_type": "execute_result"
    }
   ],
   "source": [
    "df.articleType.value_counts()"
   ]
  },
  {
   "cell_type": "code",
   "execution_count": 26,
   "id": "11050309",
   "metadata": {},
   "outputs": [
    {
     "data": {
      "text/plain": [
       "<AxesSubplot:xlabel='articleType', ylabel='count'>"
      ]
     },
     "execution_count": 26,
     "metadata": {},
     "output_type": "execute_result"
    },
    {
     "data": {
      "image/png": "[encoded data removed]",
      "text/plain": [
       "<Figure size 432x288 with 1 Axes>"
      ]
     },
     "metadata": {
      "needs_background": "light"
     },
     "output_type": "display_data"
    }
   ],
   "source": [
    "sns.countplot(x=\"articleType\", data=df,palette=custom_palette)"
   ]
  },
  {
   "cell_type": "markdown",
   "id": "549d63a6",
   "metadata": {},
   "source": [
    "Observation: There are about 92 unique articleType present in our dataset."
   ]
  },
  {
   "cell_type": "code",
   "execution_count": 27,
   "id": "8a9b3937",
   "metadata": {},
   "outputs": [],
   "source": [
    "#top_10_articletype\n",
    "aType_10= df['articleType'].value_counts().head(10).index\n",
    "aType_df_10 = df[df['articleType'].isin(aType_10)]"
   ]
  },
  {
   "cell_type": "code",
   "execution_count": 28,
   "id": "2cc7bb1b",
   "metadata": {},
   "outputs": [
    {
     "data": {
      "text/plain": [
       "<AxesSubplot:xlabel='articleType', ylabel='count'>"
      ]
     },
     "execution_count": 28,
     "metadata": {},
     "output_type": "execute_result"
    },
    {
     "data": {
      "image/png": "[encoded data removed]",
      "text/plain": [
       "<Figure size 720x432 with 1 Axes>"
      ]
     },
     "metadata": {
      "needs_background": "light"
     },
     "output_type": "display_data"
    }
   ],
   "source": [
    "plt.figure(figsize=(10,6))\n",
    "sns.countplot(x=\"articleType\", data=aType_df_10, order=aType_10,palette=custom_palette)"
   ]
  },
  {
   "cell_type": "markdown",
   "id": "0dd9550d",
   "metadata": {},
   "source": [
    "Observation: Top-3 articleType are:\n",
    "1. Tshirts\n",
    "2. Shirts\n",
    "3. Casual Shoes"
   ]
  },
  {
   "cell_type": "code",
   "execution_count": 29,
   "id": "95fe251a",
   "metadata": {},
   "outputs": [
    {
     "data": {
      "text/plain": [
       "array(['Blue', 'Navy Blue', 'Black', 'Red', 'Grey', 'White', 'Green',\n",
       "       'Pink', 'Silver', 'Brown', 'Orange', 'Beige', 'Yellow', 'Purple',\n",
       "       'Maroon', 'Cream', 'Tan', 'Olive', 'Gold', 'Multi', 'Peach',\n",
       "       'Charcoal', 'Grey Melange', 'Teal', 'Mustard', 'Mauve', 'Magenta',\n",
       "       'Khaki', 'Burgundy', 'Steel', 'Copper', 'Lavender', 'Coffee Brown',\n",
       "       'Turquoise Blue', 'Taupe', 'Off White', 'Nude', 'Bronze',\n",
       "       'Fluorescent Green', 'Rust', 'Sea Green', 'Metallic', 'Skin',\n",
       "       'Lime Green', 'Mushroom Brown', 'Rose'], dtype=object)"
      ]
     },
     "execution_count": 29,
     "metadata": {},
     "output_type": "execute_result"
    }
   ],
   "source": [
    "df.baseColour.unique()"
   ]
  },
  {
   "cell_type": "code",
   "execution_count": 30,
   "id": "99b967b0",
   "metadata": {},
   "outputs": [
    {
     "data": {
      "text/plain": [
       "<AxesSubplot:xlabel='baseColour', ylabel='count'>"
      ]
     },
     "execution_count": 30,
     "metadata": {},
     "output_type": "execute_result"
    },
    {
     "data": {
      "image/png": "[encoded data removed]",
      "text/plain": [
       "<Figure size 720x432 with 1 Axes>"
      ]
     },
     "metadata": {
      "needs_background": "light"
     },
     "output_type": "display_data"
    }
   ],
   "source": [
    "bcol_10= df['baseColour'].value_counts().head(10).index\n",
    "bcol_df_10 = df[df['baseColour'].isin(bcol_10)]\n",
    "plt.figure(figsize=(10, 6))\n",
    "sns.countplot(x=\"baseColour\", data=bcol_df_10, order=bcol_10, palette=custom_palette)"
   ]
  },
  {
   "cell_type": "code",
   "execution_count": 31,
   "id": "6e5932a4",
   "metadata": {},
   "outputs": [],
   "source": [
    "season_counts = df['season'].value_counts()"
   ]
  },
  {
   "cell_type": "code",
   "execution_count": 32,
   "id": "c0f627aa",
   "metadata": {},
   "outputs": [
    {
     "data": {
      "image/png": "[encoded data removed]",
      "text/plain": [
       "<Figure size 432x288 with 1 Axes>"
      ]
     },
     "metadata": {},
     "output_type": "display_data"
    }
   ],
   "source": [
    "cmap = plt.get_cmap(custom_palette)\n",
    "num_categories = len(season_counts)\n",
    "colors = [cmap(i / num_categories) for i in range(num_categories)]\n",
    "plt.pie(season_counts, labels=season_counts.index, autopct='%1.1f%%', colors=colors)\n",
    "plt.title('Distribution of Seasons')\n",
    "plt.show()"
   ]
  },
  {
   "cell_type": "code",
   "execution_count": 33,
   "id": "116a68ad",
   "metadata": {},
   "outputs": [],
   "source": [
    "usage_counts = df['usage'].value_counts()"
   ]
  },
  {
   "cell_type": "code",
   "execution_count": 34,
   "id": "fc0c8010",
   "metadata": {},
   "outputs": [
    {
     "data": {
      "text/plain": [
       "<AxesSubplot:xlabel='usage', ylabel='count'>"
      ]
     },
     "execution_count": 34,
     "metadata": {},
     "output_type": "execute_result"
    },
    {
     "data": {
      "image/png": "[encoded data removed]",
      "text/plain": [
       "<Figure size 576x360 with 1 Axes>"
      ]
     },
     "metadata": {
      "needs_background": "light"
     },
     "output_type": "display_data"
    }
   ],
   "source": [
    "plt.figure(figsize=(8,5))\n",
    "sns.countplot(x='usage', data=df, palette='viridis')"
   ]
  },
  {
   "cell_type": "code",
   "execution_count": 35,
   "id": "c0bc6594",
   "metadata": {},
   "outputs": [
    {
     "data": {
      "text/plain": [
       "Lucera Women Silver Earrings                                  82\n",
       "Lucera Women Silver Pendant                                   56\n",
       "Lucera Women Silver Ring                                      50\n",
       "Catwalk Women Black Heels                                     48\n",
       "Q&Q Men Black Dial Watch                                      42\n",
       "                                                              ..\n",
       "United Colors of Benetton Men Check Grey Shirts                1\n",
       "United Colors of Benetton Women Stripes Black Sweat Shirts     1\n",
       "United Colors of Benetton Men Stripes White Tshirts            1\n",
       "United Colors of Benetton Men Pack of 3 Brown Socks            1\n",
       "Avirate Black Formal Dress                                     1\n",
       "Name: productDisplayName, Length: 27034, dtype: int64"
      ]
     },
     "execution_count": 35,
     "metadata": {},
     "output_type": "execute_result"
    }
   ],
   "source": [
    "df.productDisplayName.value_counts()"
   ]
  },
  {
   "cell_type": "code",
   "execution_count": 36,
   "id": "b9c1df8e",
   "metadata": {},
   "outputs": [],
   "source": [
    "pname_10= df['productDisplayName'].value_counts().head(10).index\n",
    "pname_df_10 = df[df['productDisplayName'].isin(pname_10)]"
   ]
  },
  {
   "cell_type": "code",
   "execution_count": 37,
   "id": "e404368a",
   "metadata": {},
   "outputs": [
    {
     "data": {
      "text/plain": [
       "(array([0, 1, 2, 3, 4, 5, 6, 7, 8, 9]),\n",
       " [Text(0, 0, 'Lucera Women Silver Earrings'),\n",
       "  Text(1, 0, 'Lucera Women Silver Pendant'),\n",
       "  Text(2, 0, 'Lucera Women Silver Ring'),\n",
       "  Text(3, 0, 'Catwalk Women Black Heels'),\n",
       "  Text(4, 0, 'Q&Q Men Black Dial Watch'),\n",
       "  Text(5, 0, 'Fastrack Men Black Dial Watch'),\n",
       "  Text(6, 0, 'Fabindia Women Anusuya Silver Earrings'),\n",
       "  Text(7, 0, 'Maxima Men White Dial Watch'),\n",
       "  Text(8, 0, 'FNF Multi Coloured Printed Sari'),\n",
       "  Text(9, 0, 'Miami Blues Women Sunglasses')])"
      ]
     },
     "execution_count": 37,
     "metadata": {},
     "output_type": "execute_result"
    },
    {
     "data": {
      "image/png": "[encoded data removed]",
      "text/plain": [
       "<Figure size 1080x720 with 1 Axes>"
      ]
     },
     "metadata": {
      "needs_background": "light"
     },
     "output_type": "display_data"
    }
   ],
   "source": [
    "plt.figure(figsize=(15,10))\n",
    "sns.countplot(x=\"productDisplayName\", data=pname_df_10, order=pname_10,palette='viridis')\n",
    "plt.xticks(rotation=45)"
   ]
  },
  {
   "cell_type": "markdown",
   "id": "11452aee",
   "metadata": {},
   "source": [
    "## Image Processing"
   ]
  },
  {
   "cell_type": "code",
   "execution_count": 38,
   "id": "92f994f5",
   "metadata": {},
   "outputs": [
    {
     "name": "stdout",
     "output_type": "stream",
     "text": [
      "Rows with missing images:\n",
      "Empty DataFrame\n",
      "Columns: [id, gender, masterCategory, subCategory, articleType, baseColour, season, usage, productDisplayName, colorgroup, imagePath, image_exists]\n",
      "Index: []\n",
      "Number of missing images: 0\n"
     ]
    }
   ],
   "source": [
    "import pandas as pd\n",
    "import os\n",
    "df = pd.read_csv('styles.csv', delimiter=',', on_bad_lines='skip')\n",
    "df['imagePath'] = './images/' + df['id'].astype(str) + '.jpg'\n",
    "def image_exists(image_path):\n",
    "    return os.path.exists(image_path)\n",
    "df['image_exists'] = df['imagePath'].apply(image_exists)\n",
    "missing_images = df[df['image_exists'] == False]\n",
    "print(\"Rows with missing images:\")\n",
    "print(missing_images)\n",
    "print(f\"Number of missing images: {missing_images.shape[0]}\")"
   ]
  },
  {
   "cell_type": "code",
   "execution_count": 39,
   "id": "69588c20",
   "metadata": {},
   "outputs": [
    {
     "name": "stdout",
     "output_type": "stream",
     "text": [
      "Cleaned DataFrame:\n",
      "          id  gender masterCategory subCategory articleType baseColour  \\\n",
      "0       1163     Men        Apparel     Topwear     Tshirts       Blue   \n",
      "1       1164     Men        Apparel     Topwear     Tshirts       Blue   \n",
      "2       1165     Men        Apparel     Topwear     Tshirts       Blue   \n",
      "3       1525  Unisex    Accessories        Bags   Backpacks  Navy Blue   \n",
      "4       1526  Unisex    Accessories        Bags   Backpacks      Black   \n",
      "...      ...     ...            ...         ...         ...        ...   \n",
      "39586  59995   Women        Apparel       Dress     Dresses      Black   \n",
      "39587  59996   Women        Apparel       Dress     Dresses     Purple   \n",
      "39588  59998   Women       Footwear       Shoes       Heels      Multi   \n",
      "39589  59999   Women       Footwear       Shoes       Heels     Bronze   \n",
      "39590  60000   Women        Apparel     Topwear      Kurtas       Blue   \n",
      "\n",
      "       season   usage                                productDisplayName  \\\n",
      "0      Summer  Sports  Nike Sahara Team India Fanwear Round Neck Jersey   \n",
      "1      Winter  Sports           Nike Men Blue T20 Indian Cricket Jersey   \n",
      "2      Summer  Sports               Nike Mean Team India Cricket Jersey   \n",
      "3        Fall  Casual                      Puma Deck Navy Blue Backpack   \n",
      "4        Fall  Sports                       Puma Big Cat Backpack Black   \n",
      "...       ...     ...                                               ...   \n",
      "39586    Fall   Party                               Avirate Black Dress   \n",
      "39587  Summer  Casual                      Avirate Black & Purple Dress   \n",
      "39588  Winter  Casual                Catwalk Women Multi Coloured Heels   \n",
      "39589  Winter  Casual                       Catwalk Women Bronze Wedges   \n",
      "39590    Fall  Ethnic                             Alma Women Blue Kurta   \n",
      "\n",
      "      colorgroup           imagePath  image_exists  \n",
      "0           Blue   ./images/1163.jpg          True  \n",
      "1           Blue   ./images/1164.jpg          True  \n",
      "2           Blue   ./images/1165.jpg          True  \n",
      "3           Blue   ./images/1525.jpg          True  \n",
      "4          Black   ./images/1526.jpg          True  \n",
      "...          ...                 ...           ...  \n",
      "39586      Black  ./images/59995.jpg          True  \n",
      "39587     Purple  ./images/59996.jpg          True  \n",
      "39588      Multi  ./images/59998.jpg          True  \n",
      "39589   Metallic  ./images/59999.jpg          True  \n",
      "39590       Blue  ./images/60000.jpg          True  \n",
      "\n",
      "[39591 rows x 12 columns]\n"
     ]
    }
   ],
   "source": [
    "df_with_images = df[df['image_exists']]\n",
    "df_with_images.reset_index(drop=True, inplace=True)\n",
    "print(\"Cleaned DataFrame:\")\n",
    "print(df_with_images)\n",
    "df_with_images.to_csv('styles.csv', index=False)"
   ]
  },
  {
   "cell_type": "markdown",
   "id": "7528d48e",
   "metadata": {},
   "source": [
    "## EDA"
   ]
  },
  {
   "cell_type": "code",
   "execution_count": 40,
   "id": "73efffc1",
   "metadata": {},
   "outputs": [
    {
     "data": {
      "text/html": [
       "<div>\n",
       "<style scoped>\n",
       "    .dataframe tbody tr th:only-of-type {\n",
       "        vertical-align: middle;\n",
       "    }\n",
       "\n",
       "    .dataframe tbody tr th {\n",
       "        vertical-align: top;\n",
       "    }\n",
       "\n",
       "    .dataframe thead th {\n",
       "        text-align: right;\n",
       "    }\n",
       "</style>\n",
       "<table border=\"1\" class=\"dataframe\">\n",
       "  <thead>\n",
       "    <tr style=\"text-align: right;\">\n",
       "      <th></th>\n",
       "      <th>season</th>\n",
       "      <th>gender</th>\n",
       "      <th>Count</th>\n",
       "    </tr>\n",
       "  </thead>\n",
       "  <tbody>\n",
       "    <tr>\n",
       "      <th>0</th>\n",
       "      <td>Fall</td>\n",
       "      <td>Boys</td>\n",
       "      <td>113</td>\n",
       "    </tr>\n",
       "    <tr>\n",
       "      <th>1</th>\n",
       "      <td>Fall</td>\n",
       "      <td>Girls</td>\n",
       "      <td>81</td>\n",
       "    </tr>\n",
       "    <tr>\n",
       "      <th>2</th>\n",
       "      <td>Fall</td>\n",
       "      <td>Men</td>\n",
       "      <td>7073</td>\n",
       "    </tr>\n",
       "    <tr>\n",
       "      <th>3</th>\n",
       "      <td>Fall</td>\n",
       "      <td>Unisex</td>\n",
       "      <td>476</td>\n",
       "    </tr>\n",
       "    <tr>\n",
       "      <th>4</th>\n",
       "      <td>Fall</td>\n",
       "      <td>Women</td>\n",
       "      <td>3632</td>\n",
       "    </tr>\n",
       "    <tr>\n",
       "      <th>5</th>\n",
       "      <td>Spring</td>\n",
       "      <td>Boys</td>\n",
       "      <td>6</td>\n",
       "    </tr>\n",
       "    <tr>\n",
       "      <th>6</th>\n",
       "      <td>Spring</td>\n",
       "      <td>Girls</td>\n",
       "      <td>3</td>\n",
       "    </tr>\n",
       "    <tr>\n",
       "      <th>7</th>\n",
       "      <td>Spring</td>\n",
       "      <td>Men</td>\n",
       "      <td>385</td>\n",
       "    </tr>\n",
       "    <tr>\n",
       "      <th>8</th>\n",
       "      <td>Spring</td>\n",
       "      <td>Unisex</td>\n",
       "      <td>84</td>\n",
       "    </tr>\n",
       "    <tr>\n",
       "      <th>9</th>\n",
       "      <td>Spring</td>\n",
       "      <td>Women</td>\n",
       "      <td>130</td>\n",
       "    </tr>\n",
       "    <tr>\n",
       "      <th>10</th>\n",
       "      <td>Summer</td>\n",
       "      <td>Boys</td>\n",
       "      <td>687</td>\n",
       "    </tr>\n",
       "    <tr>\n",
       "      <th>11</th>\n",
       "      <td>Summer</td>\n",
       "      <td>Girls</td>\n",
       "      <td>531</td>\n",
       "    </tr>\n",
       "    <tr>\n",
       "      <th>12</th>\n",
       "      <td>Summer</td>\n",
       "      <td>Men</td>\n",
       "      <td>9863</td>\n",
       "    </tr>\n",
       "    <tr>\n",
       "      <th>13</th>\n",
       "      <td>Summer</td>\n",
       "      <td>Unisex</td>\n",
       "      <td>914</td>\n",
       "    </tr>\n",
       "    <tr>\n",
       "      <th>14</th>\n",
       "      <td>Summer</td>\n",
       "      <td>Women</td>\n",
       "      <td>7679</td>\n",
       "    </tr>\n",
       "    <tr>\n",
       "      <th>15</th>\n",
       "      <td>Winter</td>\n",
       "      <td>Boys</td>\n",
       "      <td>20</td>\n",
       "    </tr>\n",
       "    <tr>\n",
       "      <th>16</th>\n",
       "      <td>Winter</td>\n",
       "      <td>Girls</td>\n",
       "      <td>35</td>\n",
       "    </tr>\n",
       "    <tr>\n",
       "      <th>17</th>\n",
       "      <td>Winter</td>\n",
       "      <td>Men</td>\n",
       "      <td>3082</td>\n",
       "    </tr>\n",
       "    <tr>\n",
       "      <th>18</th>\n",
       "      <td>Winter</td>\n",
       "      <td>Unisex</td>\n",
       "      <td>607</td>\n",
       "    </tr>\n",
       "    <tr>\n",
       "      <th>19</th>\n",
       "      <td>Winter</td>\n",
       "      <td>Women</td>\n",
       "      <td>4169</td>\n",
       "    </tr>\n",
       "  </tbody>\n",
       "</table>\n",
       "</div>"
      ],
      "text/plain": [
       "    season  gender  Count\n",
       "0     Fall    Boys    113\n",
       "1     Fall   Girls     81\n",
       "2     Fall     Men   7073\n",
       "3     Fall  Unisex    476\n",
       "4     Fall   Women   3632\n",
       "5   Spring    Boys      6\n",
       "6   Spring   Girls      3\n",
       "7   Spring     Men    385\n",
       "8   Spring  Unisex     84\n",
       "9   Spring   Women    130\n",
       "10  Summer    Boys    687\n",
       "11  Summer   Girls    531\n",
       "12  Summer     Men   9863\n",
       "13  Summer  Unisex    914\n",
       "14  Summer   Women   7679\n",
       "15  Winter    Boys     20\n",
       "16  Winter   Girls     35\n",
       "17  Winter     Men   3082\n",
       "18  Winter  Unisex    607\n",
       "19  Winter   Women   4169"
      ]
     },
     "execution_count": 40,
     "metadata": {},
     "output_type": "execute_result"
    }
   ],
   "source": [
    "#for apparels:\n",
    "#apparel with season, gender count.\n",
    "apparel_df = df[df['masterCategory'] == 'Apparel']\n",
    "df.groupby(['season', \"gender\"]).size().reset_index(name='Count')"
   ]
  },
  {
   "cell_type": "code",
   "execution_count": 41,
   "id": "39688b6e",
   "metadata": {},
   "outputs": [
    {
     "data": {
      "text/plain": [
       "<AxesSubplot:xlabel='season', ylabel='Count'>"
      ]
     },
     "execution_count": 41,
     "metadata": {},
     "output_type": "execute_result"
    },
    {
     "data": {
      "image/png": "[encoded data removed]",
      "text/plain": [
       "<Figure size 720x432 with 1 Axes>"
      ]
     },
     "metadata": {
      "needs_background": "light"
     },
     "output_type": "display_data"
    }
   ],
   "source": [
    "grp_df=df.groupby(['season', \"gender\"]).size().reset_index(name='Count')\n",
    "plt.figure(figsize=(10, 6))\n",
    "sns.barplot(data=grp_df, x='season', y='Count', hue='gender', palette=\"viridis\")"
   ]
  },
  {
   "cell_type": "markdown",
   "id": "503abc48",
   "metadata": {},
   "source": [
    "Observation: Mostly men apparel in more count for every season."
   ]
  },
  {
   "cell_type": "code",
   "execution_count": 42,
   "id": "9a8fbd2f",
   "metadata": {},
   "outputs": [
    {
     "data": {
      "text/html": [
       "<div>\n",
       "<style scoped>\n",
       "    .dataframe tbody tr th:only-of-type {\n",
       "        vertical-align: middle;\n",
       "    }\n",
       "\n",
       "    .dataframe tbody tr th {\n",
       "        vertical-align: top;\n",
       "    }\n",
       "\n",
       "    .dataframe thead th {\n",
       "        text-align: right;\n",
       "    }\n",
       "</style>\n",
       "<table border=\"1\" class=\"dataframe\">\n",
       "  <thead>\n",
       "    <tr style=\"text-align: right;\">\n",
       "      <th></th>\n",
       "      <th>articleType</th>\n",
       "      <th>usage</th>\n",
       "      <th>season</th>\n",
       "      <th>Count</th>\n",
       "    </tr>\n",
       "  </thead>\n",
       "  <tbody>\n",
       "    <tr>\n",
       "      <th>0</th>\n",
       "      <td>Accessory Gift Set</td>\n",
       "      <td>Casual</td>\n",
       "      <td>Summer</td>\n",
       "      <td>21</td>\n",
       "    </tr>\n",
       "    <tr>\n",
       "      <th>1</th>\n",
       "      <td>Accessory Gift Set</td>\n",
       "      <td>Formal</td>\n",
       "      <td>Fall</td>\n",
       "      <td>49</td>\n",
       "    </tr>\n",
       "    <tr>\n",
       "      <th>2</th>\n",
       "      <td>Accessory Gift Set</td>\n",
       "      <td>Formal</td>\n",
       "      <td>Winter</td>\n",
       "      <td>41</td>\n",
       "    </tr>\n",
       "    <tr>\n",
       "      <th>3</th>\n",
       "      <td>Backpacks</td>\n",
       "      <td>Casual</td>\n",
       "      <td>Fall</td>\n",
       "      <td>118</td>\n",
       "    </tr>\n",
       "    <tr>\n",
       "      <th>4</th>\n",
       "      <td>Backpacks</td>\n",
       "      <td>Casual</td>\n",
       "      <td>Spring</td>\n",
       "      <td>41</td>\n",
       "    </tr>\n",
       "    <tr>\n",
       "      <th>...</th>\n",
       "      <td>...</td>\n",
       "      <td>...</td>\n",
       "      <td>...</td>\n",
       "      <td>...</td>\n",
       "    </tr>\n",
       "    <tr>\n",
       "      <th>429</th>\n",
       "      <td>Water Bottle</td>\n",
       "      <td>Casual</td>\n",
       "      <td>Fall</td>\n",
       "      <td>2</td>\n",
       "    </tr>\n",
       "    <tr>\n",
       "      <th>430</th>\n",
       "      <td>Water Bottle</td>\n",
       "      <td>Casual</td>\n",
       "      <td>Summer</td>\n",
       "      <td>1</td>\n",
       "    </tr>\n",
       "    <tr>\n",
       "      <th>431</th>\n",
       "      <td>Water Bottle</td>\n",
       "      <td>Sports</td>\n",
       "      <td>Fall</td>\n",
       "      <td>1</td>\n",
       "    </tr>\n",
       "    <tr>\n",
       "      <th>432</th>\n",
       "      <td>Wristbands</td>\n",
       "      <td>Casual</td>\n",
       "      <td>Fall</td>\n",
       "      <td>1</td>\n",
       "    </tr>\n",
       "    <tr>\n",
       "      <th>433</th>\n",
       "      <td>Wristbands</td>\n",
       "      <td>Sports</td>\n",
       "      <td>Summer</td>\n",
       "      <td>3</td>\n",
       "    </tr>\n",
       "  </tbody>\n",
       "</table>\n",
       "<p>434 rows × 4 columns</p>\n",
       "</div>"
      ],
      "text/plain": [
       "            articleType   usage  season  Count\n",
       "0    Accessory Gift Set  Casual  Summer     21\n",
       "1    Accessory Gift Set  Formal    Fall     49\n",
       "2    Accessory Gift Set  Formal  Winter     41\n",
       "3             Backpacks  Casual    Fall    118\n",
       "4             Backpacks  Casual  Spring     41\n",
       "..                  ...     ...     ...    ...\n",
       "429        Water Bottle  Casual    Fall      2\n",
       "430        Water Bottle  Casual  Summer      1\n",
       "431        Water Bottle  Sports    Fall      1\n",
       "432          Wristbands  Casual    Fall      1\n",
       "433          Wristbands  Sports  Summer      3\n",
       "\n",
       "[434 rows x 4 columns]"
      ]
     },
     "execution_count": 42,
     "metadata": {},
     "output_type": "execute_result"
    }
   ],
   "source": [
    "#articletype with usage & season\n",
    "df.groupby(['articleType','usage','season']).size().reset_index().rename(columns={0:'Count'})"
   ]
  },
  {
   "cell_type": "code",
   "execution_count": 43,
   "id": "f20e239e",
   "metadata": {},
   "outputs": [
    {
     "data": {
      "text/plain": [
       "Tshirts         7069\n",
       "Shirts          3215\n",
       "Casual Shoes    2846\n",
       "Watches         2542\n",
       "Sports Shoes    2036\n",
       "Name: articleType, dtype: int64"
      ]
     },
     "execution_count": 43,
     "metadata": {},
     "output_type": "execute_result"
    }
   ],
   "source": [
    "g_df = df.groupby(['articleType', 'usage', 'season']).size().reset_index(name='Count')\n",
    "articletype_counts = df['articleType'].value_counts()\n",
    "top_articletypes = articletype_counts.head(5).index\n",
    "articletype_counts.head(5)\n"
   ]
  },
  {
   "cell_type": "code",
   "execution_count": 44,
   "id": "f2627222",
   "metadata": {},
   "outputs": [
    {
     "data": {
      "text/plain": [
       "<AxesSubplot:xlabel='Count', ylabel='usage'>"
      ]
     },
     "execution_count": 44,
     "metadata": {},
     "output_type": "execute_result"
    },
    {
     "data": {
      "image/png": "[encoded data removed]",
      "text/plain": [
       "<Figure size 720x432 with 1 Axes>"
      ]
     },
     "metadata": {
      "needs_background": "light"
     },
     "output_type": "display_data"
    }
   ],
   "source": [
    "plt.figure(figsize=(10,6))\n",
    "sns.barplot(data=g_df, x='Count', y='usage', hue='season', palette='viridis')"
   ]
  },
  {
   "cell_type": "markdown",
   "id": "58955555",
   "metadata": {},
   "source": [
    "Observation: Tshirts lead the articleType."
   ]
  },
  {
   "cell_type": "code",
   "execution_count": 45,
   "id": "ac7b2190",
   "metadata": {},
   "outputs": [
    {
     "name": "stdout",
     "output_type": "stream",
     "text": [
      "\n",
      "Pivot Table:\n",
      "colorgroup   Black    Blue  Green   Pink    Red   White\n",
      "gender                                                 \n",
      "Boys           0.0   188.0    0.0    0.0  104.0   156.0\n",
      "Girls          0.0   119.0    0.0  147.0    0.0   105.0\n",
      "Men         1734.0  2783.0    0.0    0.0    0.0  1481.0\n",
      "Unisex        15.0    26.0   14.0    0.0    0.0     0.0\n",
      "Women       1037.0  1344.0    0.0    0.0    0.0  1056.0\n"
     ]
    },
    {
     "data": {
      "text/plain": [
       "<Figure size 720x432 with 0 Axes>"
      ]
     },
     "metadata": {},
     "output_type": "display_data"
    },
    {
     "data": {
      "image/png": "[encoded data removed]",
      "text/plain": [
       "<Figure size 432x288 with 1 Axes>"
      ]
     },
     "metadata": {
      "needs_background": "light"
     },
     "output_type": "display_data"
    }
   ],
   "source": [
    "grp_df = apparel_df.groupby(['colorgroup', 'gender']).size().reset_index(name='Count')\n",
    "grp_df['Rank'] = grp_df.groupby('gender')['Count'].rank(ascending=False, method='dense')\n",
    "\n",
    "# Filter for the top 3\n",
    "top_3 = grp_df[grp_df['Rank'] <= 3]\n",
    "pivot_table = top_3.pivot(index='gender', columns='colorgroup', values='Count').fillna(0)\n",
    "print(\"\\nPivot Table:\")\n",
    "print(pivot_table)\n",
    "\n",
    "# Plotting\n",
    "plt.figure(figsize=(10, 6))\n",
    "pivot_table.plot(kind='bar', stacked=True, colormap='viridis')\n",
    "plt.title('Top 3 Color Groups by Gender for Apparel')\n",
    "plt.xlabel('Gender')\n",
    "plt.ylabel('Count')\n",
    "plt.xticks(rotation=0)\n",
    "plt.legend(title='colorgroup')\n",
    "plt.show()"
   ]
  },
  {
   "cell_type": "markdown",
   "id": "7806f645",
   "metadata": {},
   "source": [
    "Observation: Top-3 colour of Colorgroup are:\n",
    "1. Blue\n",
    "2. Black\n",
    "3. White"
   ]
  },
  {
   "cell_type": "code",
   "execution_count": 46,
   "id": "525ef999",
   "metadata": {},
   "outputs": [
    {
     "name": "stdout",
     "output_type": "stream",
     "text": [
      "\n",
      "Pivot Table:\n",
      "baseColour   Black    Blue  Green   Pink   Red   White\n",
      "gender                                                \n",
      "Boys           0.0   139.0    0.0    0.0  96.0   153.0\n",
      "Girls          0.0    91.0    0.0  135.0   0.0    99.0\n",
      "Men         1641.0  1953.0    0.0    0.0   0.0  1358.0\n",
      "Unisex        15.0    24.0   13.0    0.0   0.0     0.0\n",
      "Women       1014.0  1055.0    0.0    0.0   0.0   815.0\n"
     ]
    },
    {
     "data": {
      "image/png": "[encoded data removed]",
      "text/plain": [
       "<Figure size 432x288 with 1 Axes>"
      ]
     },
     "metadata": {
      "needs_background": "light"
     },
     "output_type": "display_data"
    }
   ],
   "source": [
    "#apparel with baseColour and gender\n",
    "apparel_df = df[df['masterCategory'] == 'Apparel']\n",
    "grp_df = apparel_df.groupby(['baseColour', 'gender']).size().reset_index(name='Count')\n",
    "grp_df['Rank'] = grp_df.groupby('gender')['Count'].rank(ascending=False, method='dense')\n",
    "\n",
    "# Filter for the top 3\n",
    "top_3 = grp_df[grp_df['Rank'] <= 3]\n",
    "pivot_table = top_3.pivot(index='gender', columns='baseColour', values='Count').fillna(0)\n",
    "print(\"\\nPivot Table:\")\n",
    "print(pivot_table)\n",
    "\n",
    "# Plotting\n",
    "pivot_table.plot(kind='bar', stacked=True, colormap='viridis')\n",
    "plt.title('Top 3 Base Colors by Gender for Apparel')\n",
    "plt.xlabel('Gender')\n",
    "plt.ylabel('Count')\n",
    "plt.xticks(rotation=0)\n",
    "plt.legend(title='baseColour')\n",
    "plt.show()"
   ]
  },
  {
   "cell_type": "markdown",
   "id": "d63127e1",
   "metadata": {},
   "source": [
    "Observation: Top-3 colour of BaseColor are:\n",
    "\n",
    "1. Blue\n",
    "2. Black\n",
    "3. White"
   ]
  },
  {
   "cell_type": "code",
   "execution_count": 47,
   "id": "c6288d4c",
   "metadata": {},
   "outputs": [
    {
     "data": {
      "text/html": [
       "<div>\n",
       "<style scoped>\n",
       "    .dataframe tbody tr th:only-of-type {\n",
       "        vertical-align: middle;\n",
       "    }\n",
       "\n",
       "    .dataframe tbody tr th {\n",
       "        vertical-align: top;\n",
       "    }\n",
       "\n",
       "    .dataframe thead th {\n",
       "        text-align: right;\n",
       "    }\n",
       "</style>\n",
       "<table border=\"1\" class=\"dataframe\">\n",
       "  <thead>\n",
       "    <tr style=\"text-align: right;\">\n",
       "      <th></th>\n",
       "      <th>gender</th>\n",
       "      <th>Count</th>\n",
       "    </tr>\n",
       "  </thead>\n",
       "  <tbody>\n",
       "    <tr>\n",
       "      <th>0</th>\n",
       "      <td>Boys</td>\n",
       "      <td>16</td>\n",
       "    </tr>\n",
       "    <tr>\n",
       "      <th>1</th>\n",
       "      <td>Girls</td>\n",
       "      <td>25</td>\n",
       "    </tr>\n",
       "    <tr>\n",
       "      <th>2</th>\n",
       "      <td>Men</td>\n",
       "      <td>3729</td>\n",
       "    </tr>\n",
       "    <tr>\n",
       "      <th>3</th>\n",
       "      <td>Unisex</td>\n",
       "      <td>1249</td>\n",
       "    </tr>\n",
       "    <tr>\n",
       "      <th>4</th>\n",
       "      <td>Women</td>\n",
       "      <td>5063</td>\n",
       "    </tr>\n",
       "  </tbody>\n",
       "</table>\n",
       "</div>"
      ],
      "text/plain": [
       "   gender  Count\n",
       "0    Boys     16\n",
       "1   Girls     25\n",
       "2     Men   3729\n",
       "3  Unisex   1249\n",
       "4   Women   5063"
      ]
     },
     "execution_count": 47,
     "metadata": {},
     "output_type": "execute_result"
    }
   ],
   "source": [
    "#accessories, usage-casual in respect to gender.\n",
    "accessories_df = df[df['masterCategory'] == 'Accessories']\n",
    "casual_accessories_df = accessories_df[accessories_df['usage'] == 'Casual']\n",
    "casual_accessories_df.groupby(['gender']).size().reset_index(name='Count')"
   ]
  },
  {
   "cell_type": "code",
   "execution_count": 48,
   "id": "294ceea9",
   "metadata": {},
   "outputs": [
    {
     "data": {
      "text/plain": [
       "10082"
      ]
     },
     "execution_count": 48,
     "metadata": {},
     "output_type": "execute_result"
    }
   ],
   "source": [
    "casual_accessories_df.shape[0]"
   ]
  },
  {
   "cell_type": "code",
   "execution_count": 49,
   "id": "5f34f6db",
   "metadata": {},
   "outputs": [
    {
     "data": {
      "text/plain": [
       "<AxesSubplot:xlabel='gender', ylabel='Count'>"
      ]
     },
     "execution_count": 49,
     "metadata": {},
     "output_type": "execute_result"
    },
    {
     "data": {
      "image/png": "[encoded data removed]",
      "text/plain": [
       "<Figure size 576x432 with 1 Axes>"
      ]
     },
     "metadata": {
      "needs_background": "light"
     },
     "output_type": "display_data"
    }
   ],
   "source": [
    "grp_df=casual_accessories_df.groupby(['gender']).size().reset_index(name='Count')\n",
    "plt.figure(figsize=(8, 6))\n",
    "sns.barplot(data=grp_df, x='gender', y='Count', palette=\"viridis\")"
   ]
  },
  {
   "cell_type": "markdown",
   "id": "6dc243c0",
   "metadata": {},
   "source": [
    "Observation: Mostly casual accessories in women followed by men."
   ]
  },
  {
   "cell_type": "code",
   "execution_count": 50,
   "id": "8ab6f4f9",
   "metadata": {},
   "outputs": [
    {
     "data": {
      "text/plain": [
       "<AxesSubplot:xlabel='season', ylabel='Count'>"
      ]
     },
     "execution_count": 50,
     "metadata": {},
     "output_type": "execute_result"
    },
    {
     "data": {
      "image/png": "[encoded data removed]",
      "text/plain": [
       "<Figure size 864x576 with 1 Axes>"
      ]
     },
     "metadata": {
      "needs_background": "light"
     },
     "output_type": "display_data"
    }
   ],
   "source": [
    "#unisex-accessories,gender,season\n",
    "unisex_accessories_df = accessories_df[accessories_df['gender'] == 'Unisex']\n",
    "grp_df=unisex_accessories_df.groupby(['season']).size().reset_index(name='Count')\n",
    "plt.figure(figsize=(12, 8))\n",
    "sns.barplot(data=grp_df, x='season', y='Count', palette=\"viridis\")"
   ]
  },
  {
   "cell_type": "markdown",
   "id": "4fcff572",
   "metadata": {},
   "source": [
    "Observation: Mostly unisex-accessories in summer followed by winter."
   ]
  },
  {
   "cell_type": "code",
   "execution_count": 51,
   "id": "4a2f646b",
   "metadata": {},
   "outputs": [
    {
     "data": {
      "text/html": [
       "<div>\n",
       "<style scoped>\n",
       "    .dataframe tbody tr th:only-of-type {\n",
       "        vertical-align: middle;\n",
       "    }\n",
       "\n",
       "    .dataframe tbody tr th {\n",
       "        vertical-align: top;\n",
       "    }\n",
       "\n",
       "    .dataframe thead th {\n",
       "        text-align: right;\n",
       "    }\n",
       "</style>\n",
       "<table border=\"1\" class=\"dataframe\">\n",
       "  <thead>\n",
       "    <tr style=\"text-align: right;\">\n",
       "      <th></th>\n",
       "      <th>gender</th>\n",
       "      <th>Count</th>\n",
       "    </tr>\n",
       "  </thead>\n",
       "  <tbody>\n",
       "    <tr>\n",
       "      <th>0</th>\n",
       "      <td>Men</td>\n",
       "      <td>521</td>\n",
       "    </tr>\n",
       "    <tr>\n",
       "      <th>1</th>\n",
       "      <td>Unisex</td>\n",
       "      <td>1</td>\n",
       "    </tr>\n",
       "    <tr>\n",
       "      <th>2</th>\n",
       "      <td>Women</td>\n",
       "      <td>5</td>\n",
       "    </tr>\n",
       "  </tbody>\n",
       "</table>\n",
       "</div>"
      ],
      "text/plain": [
       "   gender  Count\n",
       "0     Men    521\n",
       "1  Unisex      1\n",
       "2   Women      5"
      ]
     },
     "execution_count": 51,
     "metadata": {},
     "output_type": "execute_result"
    }
   ],
   "source": [
    "#accessories, usage-formal in respect to gender.\n",
    "accessories_df = df[df['masterCategory'] == 'Accessories']\n",
    "formal_accessories_df = accessories_df[accessories_df['usage'] == 'Formal']\n",
    "formal_accessories_df.groupby(['gender']).size().reset_index(name='Count')"
   ]
  },
  {
   "cell_type": "code",
   "execution_count": 52,
   "id": "c75be310",
   "metadata": {},
   "outputs": [
    {
     "data": {
      "text/plain": [
       "527"
      ]
     },
     "execution_count": 52,
     "metadata": {},
     "output_type": "execute_result"
    }
   ],
   "source": [
    "formal_accessories_df.shape[0]"
   ]
  },
  {
   "cell_type": "code",
   "execution_count": 53,
   "id": "43337f26",
   "metadata": {},
   "outputs": [
    {
     "data": {
      "text/plain": [
       "<AxesSubplot:xlabel='gender', ylabel='Count'>"
      ]
     },
     "execution_count": 53,
     "metadata": {},
     "output_type": "execute_result"
    },
    {
     "data": {
      "image/png": "[encoded data removed]",
      "text/plain": [
       "<Figure size 576x432 with 1 Axes>"
      ]
     },
     "metadata": {
      "needs_background": "light"
     },
     "output_type": "display_data"
    }
   ],
   "source": [
    "grp_df=formal_accessories_df.groupby(['gender']).size().reset_index(name='Count')\n",
    "plt.figure(figsize=(8, 6))\n",
    "sns.barplot(data=grp_df, x='gender', y='Count', palette=\"viridis\")"
   ]
  },
  {
   "cell_type": "markdown",
   "id": "9102a4d3",
   "metadata": {},
   "source": [
    "Observation: Mostly formal-accessories worn by men."
   ]
  },
  {
   "cell_type": "code",
   "execution_count": 54,
   "id": "94f4b549",
   "metadata": {},
   "outputs": [
    {
     "data": {
      "text/html": [
       "<div>\n",
       "<style scoped>\n",
       "    .dataframe tbody tr th:only-of-type {\n",
       "        vertical-align: middle;\n",
       "    }\n",
       "\n",
       "    .dataframe tbody tr th {\n",
       "        vertical-align: top;\n",
       "    }\n",
       "\n",
       "    .dataframe thead th {\n",
       "        text-align: right;\n",
       "    }\n",
       "</style>\n",
       "<table border=\"1\" class=\"dataframe\">\n",
       "  <thead>\n",
       "    <tr style=\"text-align: right;\">\n",
       "      <th></th>\n",
       "      <th>subCategory</th>\n",
       "      <th>Count</th>\n",
       "    </tr>\n",
       "  </thead>\n",
       "  <tbody>\n",
       "    <tr>\n",
       "      <th>0</th>\n",
       "      <td>Accessories</td>\n",
       "      <td>22</td>\n",
       "    </tr>\n",
       "    <tr>\n",
       "      <th>1</th>\n",
       "      <td>Bags</td>\n",
       "      <td>891</td>\n",
       "    </tr>\n",
       "    <tr>\n",
       "      <th>2</th>\n",
       "      <td>Belts</td>\n",
       "      <td>9</td>\n",
       "    </tr>\n",
       "    <tr>\n",
       "      <th>3</th>\n",
       "      <td>Eyewear</td>\n",
       "      <td>150</td>\n",
       "    </tr>\n",
       "    <tr>\n",
       "      <th>4</th>\n",
       "      <td>Gloves</td>\n",
       "      <td>1</td>\n",
       "    </tr>\n",
       "    <tr>\n",
       "      <th>5</th>\n",
       "      <td>Headwear</td>\n",
       "      <td>152</td>\n",
       "    </tr>\n",
       "    <tr>\n",
       "      <th>6</th>\n",
       "      <td>Mufflers</td>\n",
       "      <td>1</td>\n",
       "    </tr>\n",
       "    <tr>\n",
       "      <th>7</th>\n",
       "      <td>Scarves</td>\n",
       "      <td>5</td>\n",
       "    </tr>\n",
       "    <tr>\n",
       "      <th>8</th>\n",
       "      <td>Socks</td>\n",
       "      <td>71</td>\n",
       "    </tr>\n",
       "    <tr>\n",
       "      <th>9</th>\n",
       "      <td>Wallets</td>\n",
       "      <td>21</td>\n",
       "    </tr>\n",
       "    <tr>\n",
       "      <th>10</th>\n",
       "      <td>Watches</td>\n",
       "      <td>143</td>\n",
       "    </tr>\n",
       "  </tbody>\n",
       "</table>\n",
       "</div>"
      ],
      "text/plain": [
       "    subCategory  Count\n",
       "0   Accessories     22\n",
       "1          Bags    891\n",
       "2         Belts      9\n",
       "3       Eyewear    150\n",
       "4        Gloves      1\n",
       "5      Headwear    152\n",
       "6      Mufflers      1\n",
       "7       Scarves      5\n",
       "8         Socks     71\n",
       "9       Wallets     21\n",
       "10      Watches    143"
      ]
     },
     "execution_count": 54,
     "metadata": {},
     "output_type": "execute_result"
    }
   ],
   "source": [
    "#unisex-accessories with subcategory\n",
    "unisex_accessories_df.groupby(['subCategory']).size().reset_index(name='Count')"
   ]
  },
  {
   "cell_type": "code",
   "execution_count": 55,
   "id": "009d3221",
   "metadata": {},
   "outputs": [
    {
     "data": {
      "text/plain": [
       "(array([ 0,  1,  2,  3,  4,  5,  6,  7,  8,  9, 10]),\n",
       " [Text(0, 0, 'Accessories'),\n",
       "  Text(1, 0, 'Bags'),\n",
       "  Text(2, 0, 'Belts'),\n",
       "  Text(3, 0, 'Eyewear'),\n",
       "  Text(4, 0, 'Gloves'),\n",
       "  Text(5, 0, 'Headwear'),\n",
       "  Text(6, 0, 'Mufflers'),\n",
       "  Text(7, 0, 'Scarves'),\n",
       "  Text(8, 0, 'Socks'),\n",
       "  Text(9, 0, 'Wallets'),\n",
       "  Text(10, 0, 'Watches')])"
      ]
     },
     "execution_count": 55,
     "metadata": {},
     "output_type": "execute_result"
    },
    {
     "data": {
      "image/png": "[encoded data removed]",
      "text/plain": [
       "<Figure size 720x432 with 1 Axes>"
      ]
     },
     "metadata": {
      "needs_background": "light"
     },
     "output_type": "display_data"
    }
   ],
   "source": [
    "df_group=unisex_accessories_df.groupby(['subCategory']).size().reset_index(name='Count')\n",
    "plt.figure(figsize=(10, 6))\n",
    "sns.barplot(data=df_group, x='subCategory', y='Count', palette=\"viridis\")\n",
    "plt.xlabel('SubCategory')\n",
    "plt.ylabel('Count')\n",
    "plt.title('Count of Unisex Accessories by SubCategory')\n",
    "plt.xticks(rotation=45)"
   ]
  },
  {
   "cell_type": "markdown",
   "id": "f81fa4d9",
   "metadata": {},
   "source": [
    "Observation: Most unisex-accessories by subCategory are:\n",
    "1. Bags\n",
    "2. Eyewear\n",
    "3. Headwear"
   ]
  },
  {
   "cell_type": "code",
   "execution_count": 56,
   "id": "b33346dd",
   "metadata": {},
   "outputs": [
    {
     "data": {
      "image/png": "[encoded data removed]",
      "text/plain": [
       "<Figure size 1008x576 with 1 Axes>"
      ]
     },
     "metadata": {
      "needs_background": "light"
     },
     "output_type": "display_data"
    }
   ],
   "source": [
    "#footwear with subcategory and gender\n",
    "footwear_df = df[df['masterCategory'] == 'Footwear']\n",
    "grp_df = footwear_df.groupby(['subCategory', 'gender']).size().reset_index(name='Count')\n",
    "pivot_table = grp_df.pivot(index='subCategory', columns='gender', values='Count').fillna(0)\n",
    "\n",
    "plt.figure(figsize=(14, 8))\n",
    "for gender in pivot_table.columns:\n",
    "    plt.plot(pivot_table.index, pivot_table[gender], marker='o', label=gender)\n",
    "plt.title('Footwear Subcategories by Gender')\n",
    "plt.xlabel('Subcategory')\n",
    "plt.ylabel('Count')\n",
    "plt.xticks(rotation=45)\n",
    "plt.legend(title='Gender')\n",
    "plt.grid(True)\n",
    "plt.show()"
   ]
  },
  {
   "cell_type": "markdown",
   "id": "9e9e9693",
   "metadata": {},
   "source": [
    "Observation:Shoes are most worn footwear in almost every gender."
   ]
  },
  {
   "cell_type": "code",
   "execution_count": 57,
   "id": "f7347a95",
   "metadata": {},
   "outputs": [
    {
     "data": {
      "text/html": [
       "<div>\n",
       "<style scoped>\n",
       "    .dataframe tbody tr th:only-of-type {\n",
       "        vertical-align: middle;\n",
       "    }\n",
       "\n",
       "    .dataframe tbody tr th {\n",
       "        vertical-align: top;\n",
       "    }\n",
       "\n",
       "    .dataframe thead th {\n",
       "        text-align: right;\n",
       "    }\n",
       "</style>\n",
       "<table border=\"1\" class=\"dataframe\">\n",
       "  <thead>\n",
       "    <tr style=\"text-align: right;\">\n",
       "      <th></th>\n",
       "      <th>articleType</th>\n",
       "      <th>gender</th>\n",
       "      <th>Count</th>\n",
       "    </tr>\n",
       "  </thead>\n",
       "  <tbody>\n",
       "    <tr>\n",
       "      <th>0</th>\n",
       "      <td>Accessory Gift Set</td>\n",
       "      <td>Men</td>\n",
       "      <td>90</td>\n",
       "    </tr>\n",
       "    <tr>\n",
       "      <th>1</th>\n",
       "      <td>Belts</td>\n",
       "      <td>Men</td>\n",
       "      <td>137</td>\n",
       "    </tr>\n",
       "    <tr>\n",
       "      <th>2</th>\n",
       "      <td>Blazers</td>\n",
       "      <td>Men</td>\n",
       "      <td>5</td>\n",
       "    </tr>\n",
       "    <tr>\n",
       "      <th>3</th>\n",
       "      <td>Blazers</td>\n",
       "      <td>Women</td>\n",
       "      <td>2</td>\n",
       "    </tr>\n",
       "    <tr>\n",
       "      <th>4</th>\n",
       "      <td>Casual Shoes</td>\n",
       "      <td>Men</td>\n",
       "      <td>13</td>\n",
       "    </tr>\n",
       "    <tr>\n",
       "      <th>5</th>\n",
       "      <td>Casual Shoes</td>\n",
       "      <td>Women</td>\n",
       "      <td>1</td>\n",
       "    </tr>\n",
       "    <tr>\n",
       "      <th>6</th>\n",
       "      <td>Cufflinks</td>\n",
       "      <td>Men</td>\n",
       "      <td>43</td>\n",
       "    </tr>\n",
       "    <tr>\n",
       "      <th>7</th>\n",
       "      <td>Dresses</td>\n",
       "      <td>Women</td>\n",
       "      <td>2</td>\n",
       "    </tr>\n",
       "    <tr>\n",
       "      <th>8</th>\n",
       "      <td>Flats</td>\n",
       "      <td>Women</td>\n",
       "      <td>1</td>\n",
       "    </tr>\n",
       "    <tr>\n",
       "      <th>9</th>\n",
       "      <td>Formal Shoes</td>\n",
       "      <td>Men</td>\n",
       "      <td>607</td>\n",
       "    </tr>\n",
       "    <tr>\n",
       "      <th>10</th>\n",
       "      <td>Handbags</td>\n",
       "      <td>Women</td>\n",
       "      <td>1</td>\n",
       "    </tr>\n",
       "    <tr>\n",
       "      <th>11</th>\n",
       "      <td>Heels</td>\n",
       "      <td>Women</td>\n",
       "      <td>23</td>\n",
       "    </tr>\n",
       "    <tr>\n",
       "      <th>12</th>\n",
       "      <td>Laptop Bag</td>\n",
       "      <td>Unisex</td>\n",
       "      <td>1</td>\n",
       "    </tr>\n",
       "    <tr>\n",
       "      <th>13</th>\n",
       "      <td>Sandals</td>\n",
       "      <td>Men</td>\n",
       "      <td>9</td>\n",
       "    </tr>\n",
       "    <tr>\n",
       "      <th>14</th>\n",
       "      <td>Shirts</td>\n",
       "      <td>Men</td>\n",
       "      <td>836</td>\n",
       "    </tr>\n",
       "    <tr>\n",
       "      <th>15</th>\n",
       "      <td>Shirts</td>\n",
       "      <td>Women</td>\n",
       "      <td>30</td>\n",
       "    </tr>\n",
       "    <tr>\n",
       "      <th>16</th>\n",
       "      <td>Skirts</td>\n",
       "      <td>Women</td>\n",
       "      <td>13</td>\n",
       "    </tr>\n",
       "    <tr>\n",
       "      <th>17</th>\n",
       "      <td>Socks</td>\n",
       "      <td>Men</td>\n",
       "      <td>43</td>\n",
       "    </tr>\n",
       "    <tr>\n",
       "      <th>18</th>\n",
       "      <td>Suspenders</td>\n",
       "      <td>Men</td>\n",
       "      <td>40</td>\n",
       "    </tr>\n",
       "    <tr>\n",
       "      <th>19</th>\n",
       "      <td>Ties</td>\n",
       "      <td>Men</td>\n",
       "      <td>166</td>\n",
       "    </tr>\n",
       "    <tr>\n",
       "      <th>20</th>\n",
       "      <td>Tops</td>\n",
       "      <td>Women</td>\n",
       "      <td>3</td>\n",
       "    </tr>\n",
       "    <tr>\n",
       "      <th>21</th>\n",
       "      <td>Trousers</td>\n",
       "      <td>Men</td>\n",
       "      <td>208</td>\n",
       "    </tr>\n",
       "    <tr>\n",
       "      <th>22</th>\n",
       "      <td>Trousers</td>\n",
       "      <td>Women</td>\n",
       "      <td>28</td>\n",
       "    </tr>\n",
       "    <tr>\n",
       "      <th>23</th>\n",
       "      <td>Tshirts</td>\n",
       "      <td>Men</td>\n",
       "      <td>1</td>\n",
       "    </tr>\n",
       "    <tr>\n",
       "      <th>24</th>\n",
       "      <td>Tshirts</td>\n",
       "      <td>Women</td>\n",
       "      <td>1</td>\n",
       "    </tr>\n",
       "    <tr>\n",
       "      <th>25</th>\n",
       "      <td>Wallets</td>\n",
       "      <td>Men</td>\n",
       "      <td>30</td>\n",
       "    </tr>\n",
       "    <tr>\n",
       "      <th>26</th>\n",
       "      <td>Watches</td>\n",
       "      <td>Men</td>\n",
       "      <td>15</td>\n",
       "    </tr>\n",
       "    <tr>\n",
       "      <th>27</th>\n",
       "      <td>Watches</td>\n",
       "      <td>Women</td>\n",
       "      <td>4</td>\n",
       "    </tr>\n",
       "  </tbody>\n",
       "</table>\n",
       "</div>"
      ],
      "text/plain": [
       "           articleType  gender  Count\n",
       "0   Accessory Gift Set     Men     90\n",
       "1                Belts     Men    137\n",
       "2              Blazers     Men      5\n",
       "3              Blazers   Women      2\n",
       "4         Casual Shoes     Men     13\n",
       "5         Casual Shoes   Women      1\n",
       "6            Cufflinks     Men     43\n",
       "7              Dresses   Women      2\n",
       "8                Flats   Women      1\n",
       "9         Formal Shoes     Men    607\n",
       "10            Handbags   Women      1\n",
       "11               Heels   Women     23\n",
       "12          Laptop Bag  Unisex      1\n",
       "13             Sandals     Men      9\n",
       "14              Shirts     Men    836\n",
       "15              Shirts   Women     30\n",
       "16              Skirts   Women     13\n",
       "17               Socks     Men     43\n",
       "18          Suspenders     Men     40\n",
       "19                Ties     Men    166\n",
       "20                Tops   Women      3\n",
       "21            Trousers     Men    208\n",
       "22            Trousers   Women     28\n",
       "23             Tshirts     Men      1\n",
       "24             Tshirts   Women      1\n",
       "25             Wallets     Men     30\n",
       "26             Watches     Men     15\n",
       "27             Watches   Women      4"
      ]
     },
     "execution_count": 57,
     "metadata": {},
     "output_type": "execute_result"
    }
   ],
   "source": [
    "#articleType with usage-formal and gender\n",
    "formal_df = df[df['usage'] == 'Formal']\n",
    "formal_df.groupby(['articleType', 'gender']).size().reset_index(name='Count')"
   ]
  },
  {
   "cell_type": "code",
   "execution_count": 58,
   "id": "78cf276d",
   "metadata": {},
   "outputs": [],
   "source": [
    "grouped = formal_df.groupby(['articleType', 'gender']).size().unstack(fill_value=0)\n",
    "top_10_article_types = grouped.sum(axis=1).sort_values(ascending=False).head(10).index\n",
    "top_10_grouped = grouped.loc[top_10_article_types]"
   ]
  },
  {
   "cell_type": "code",
   "execution_count": 59,
   "id": "bfc70b7d",
   "metadata": {},
   "outputs": [
    {
     "data": {
      "image/png": "[encoded data removed]",
      "text/plain": [
       "<Figure size 864x432 with 1 Axes>"
      ]
     },
     "metadata": {
      "needs_background": "light"
     },
     "output_type": "display_data"
    }
   ],
   "source": [
    "plt.figure(figsize=(12, 6))\n",
    "for gender in top_10_grouped.columns:\n",
    "    plt.plot(top_10_grouped.index, top_10_grouped[gender], marker='o', label=gender)\n",
    "plt.xlabel('Article Type')\n",
    "plt.ylabel('Count')\n",
    "plt.title('Top 10 Article Types with Formal Usage for Both Genders')\n",
    "plt.legend(title='Gender')\n",
    "plt.grid(True)\n",
    "plt.show()"
   ]
  },
  {
   "cell_type": "markdown",
   "id": "703dba2d",
   "metadata": {},
   "source": [
    "Observation:Shirts are most worn in every gender followed by trousers."
   ]
  },
  {
   "cell_type": "code",
   "execution_count": 60,
   "id": "70d52342",
   "metadata": {},
   "outputs": [
    {
     "data": {
      "image/png": "[encoded data removed]",
      "text/plain": [
       "<Figure size 1008x576 with 1 Axes>"
      ]
     },
     "metadata": {
      "needs_background": "light"
     },
     "output_type": "display_data"
    }
   ],
   "source": [
    "#ethinic-usage with top10 articleType and gender\n",
    "ethnic_df = df[df['usage'] == 'Ethnic']\n",
    "grp_df = ethnic_df.groupby(['articleType', 'gender']).size().reset_index(name='Count')\n",
    "\n",
    "#top 10 article types \n",
    "top_10_article_types = grp_df.groupby('articleType')['Count'].sum().nlargest(10).index\n",
    "top_10_grp_df = grp_df[grp_df['articleType'].isin(top_10_article_types)]\n",
    "pivot_table = top_10_grp_df.pivot(index='articleType', columns='gender', values='Count').fillna(0)\n",
    "\n",
    "# Plotting\n",
    "plt.figure(figsize=(14, 8))\n",
    "for gender in pivot_table.columns:\n",
    "    plt.plot(pivot_table.index, pivot_table[gender], marker='o', label=gender)\n",
    "plt.title('Top 10 Ethnic Article Types by Gender (Line Chart)')\n",
    "plt.xlabel('Article Type')\n",
    "plt.ylabel('Count')\n",
    "plt.legend(title='Gender')\n",
    "plt.grid(True)\n",
    "plt.show()"
   ]
  },
  {
   "cell_type": "markdown",
   "id": "185d431a",
   "metadata": {},
   "source": [
    "Observation: Kurtas are most worn in almost every gender."
   ]
  },
  {
   "cell_type": "code",
   "execution_count": 61,
   "id": "f4608ad4",
   "metadata": {},
   "outputs": [
    {
     "data": {
      "image/png": "[encoded data removed]",
      "text/plain": [
       "<Figure size 1008x576 with 1 Axes>"
      ]
     },
     "metadata": {
      "needs_background": "light"
     },
     "output_type": "display_data"
    }
   ],
   "source": [
    "grp_df = ethnic_df.groupby(['articleType', 'season']).size().reset_index(name='Count')\n",
    "\n",
    "# Identify the top 10 article types by total count\n",
    "top_10_article_types = grp_df.groupby('articleType')['Count'].sum().nlargest(10).index\n",
    "\n",
    "# Filter the grouped data to include only the top 10 article types\n",
    "top_10_grp_df = grp_df[grp_df['articleType'].isin(top_10_article_types)]\n",
    "\n",
    "# Create a pivot table with 'articleType' as index, 'season' as columns, and 'Count' as values\n",
    "pivot_table = top_10_grp_df.pivot(index='articleType', columns='season', values='Count').fillna(0)\n",
    "\n",
    "# Plot the pivot table as a line chart\n",
    "plt.figure(figsize=(14, 8))\n",
    "for season in pivot_table.columns:\n",
    "    plt.plot(pivot_table.index, pivot_table[season], marker='o', label=season)\n",
    "\n",
    "# Add labels and title\n",
    "plt.title('Top 10 Ethnic Article Types by Season (Line Chart)')\n",
    "plt.xlabel('Article Type')\n",
    "plt.ylabel('Count')\n",
    "plt.xticks(rotation=45)\n",
    "plt.legend(title='Season')\n",
    "plt.grid(True)\n",
    "plt.show()"
   ]
  },
  {
   "cell_type": "markdown",
   "id": "11556e52",
   "metadata": {},
   "source": [
    "Observation:Kurtas are most worn in almost every season."
   ]
  },
  {
   "cell_type": "markdown",
   "id": "657ae33b",
   "metadata": {},
   "source": [
    "## Feature Engineering"
   ]
  },
  {
   "cell_type": "code",
   "execution_count": 62,
   "id": "4b1f915b",
   "metadata": {},
   "outputs": [
    {
     "name": "stdout",
     "output_type": "stream",
     "text": [
      "     id  gender masterCategory subCategory articleType baseColour  season  \\\n",
      "0  1163     Men        Apparel     Topwear     Tshirts       Blue  Summer   \n",
      "1  1164     Men        Apparel     Topwear     Tshirts       Blue  Winter   \n",
      "2  1165     Men        Apparel     Topwear     Tshirts       Blue  Summer   \n",
      "3  1525  Unisex    Accessories        Bags   Backpacks  Navy Blue    Fall   \n",
      "4  1526  Unisex    Accessories        Bags   Backpacks      Black    Fall   \n",
      "\n",
      "    usage                                productDisplayName colorgroup  \\\n",
      "0  Sports  Nike Sahara Team India Fanwear Round Neck Jersey       Blue   \n",
      "1  Sports           Nike Men Blue T20 Indian Cricket Jersey       Blue   \n",
      "2  Sports               Nike Mean Team India Cricket Jersey       Blue   \n",
      "3  Casual                      Puma Deck Navy Blue Backpack       Blue   \n",
      "4  Sports                       Puma Big Cat Backpack Black      Black   \n",
      "\n",
      "           imagePath  image_exists  \n",
      "0  ./images/1163.jpg          True  \n",
      "1  ./images/1164.jpg          True  \n",
      "2  ./images/1165.jpg          True  \n",
      "3  ./images/1525.jpg          True  \n",
      "4  ./images/1526.jpg          True  \n"
     ]
    }
   ],
   "source": [
    "# Color grouping\n",
    "df = pd.read_csv('styles.csv')\n",
    "\n",
    "# Color grouping mapping dictionary\n",
    "color_mapping = {\n",
    "    'Navy Blue': 'Blue', \n",
    "    'Blue': 'Blue', \n",
    "    'Teal': 'Blue', \n",
    "    'Turquoise Blue': 'Blue',\n",
    "\n",
    "    'Silver': 'Grey', \n",
    "    'Grey': 'Grey', \n",
    "    'Grey Melange': 'Grey', \n",
    "    'Steel': 'Grey',\n",
    "\n",
    "    'Black': 'Black', \n",
    "    'Charcoal': 'Black',\n",
    "\n",
    "    'Green': 'Green', \n",
    "    'Olive': 'Green', \n",
    "    'Lime Green': 'Green', \n",
    "    'Fluorescent Green': 'Green', \n",
    "    'Sea Green': 'Green',\n",
    "\n",
    "    'Purple': 'Purple', \n",
    "    'Magenta': 'Purple', \n",
    "    'Lavender': 'Purple', \n",
    "    'Mauve': 'Purple',\n",
    "\n",
    "    'White': 'White', \n",
    "    'Off White': 'White', \n",
    "    'Cream': 'White', \n",
    "    'Skin': 'White',\n",
    "\n",
    "    'Beige': 'Brown', \n",
    "    'Brown': 'Brown', \n",
    "    'Coffee Brown': 'Brown', \n",
    "    'Tan': 'Brown', \n",
    "    'Khaki': 'Brown', \n",
    "    'Mushroom Brown': 'Brown', \n",
    "    'Nude': 'Brown',\n",
    "\n",
    "    'Gold': 'Metallic', \n",
    "    'Bronze': 'Metallic', \n",
    "    'Copper': 'Metallic', \n",
    "    'Metallic': 'Metallic',\n",
    "\n",
    "    'Red': 'Red', \n",
    "    'Burgundy': 'Red', \n",
    "    'Rose': 'Red',\n",
    "\n",
    "    'Pink': 'Pink', \n",
    "    'Peach': 'Pink',\n",
    "\n",
    "    'Yellow': 'Yellow', \n",
    "    'Mustard': 'Yellow', \n",
    "    'Taupe': 'Yellow',\n",
    "\n",
    "    'Orange': 'Orange',\n",
    "\n",
    "    'Maroon': 'Red', \n",
    "    'Rust': 'Brown', \n",
    "    'Multi': 'Multi', \n",
    "}\n",
    "\n",
    "df['colorgroup'] = df['baseColour'].map(color_mapping)\n",
    "\n",
    "#verify\n",
    "print(df.head())\n",
    "df.to_csv('styles.csv', index=False)"
   ]
  },
  {
   "cell_type": "code",
   "execution_count": 63,
   "id": "3b340cdd",
   "metadata": {},
   "outputs": [
    {
     "data": {
      "text/html": [
       "<div>\n",
       "<style scoped>\n",
       "    .dataframe tbody tr th:only-of-type {\n",
       "        vertical-align: middle;\n",
       "    }\n",
       "\n",
       "    .dataframe tbody tr th {\n",
       "        vertical-align: top;\n",
       "    }\n",
       "\n",
       "    .dataframe thead th {\n",
       "        text-align: right;\n",
       "    }\n",
       "</style>\n",
       "<table border=\"1\" class=\"dataframe\">\n",
       "  <thead>\n",
       "    <tr style=\"text-align: right;\">\n",
       "      <th></th>\n",
       "      <th>id</th>\n",
       "      <th>gender</th>\n",
       "      <th>masterCategory</th>\n",
       "      <th>subCategory</th>\n",
       "      <th>articleType</th>\n",
       "      <th>baseColour</th>\n",
       "      <th>colorgroup</th>\n",
       "      <th>season</th>\n",
       "      <th>usage</th>\n",
       "      <th>productDisplayName</th>\n",
       "    </tr>\n",
       "  </thead>\n",
       "  <tbody>\n",
       "    <tr>\n",
       "      <th>0</th>\n",
       "      <td>1163</td>\n",
       "      <td>Men</td>\n",
       "      <td>Apparel</td>\n",
       "      <td>Topwear</td>\n",
       "      <td>Tshirts</td>\n",
       "      <td>Blue</td>\n",
       "      <td>Blue</td>\n",
       "      <td>Summer</td>\n",
       "      <td>Sports</td>\n",
       "      <td>Nike Sahara Team India Fanwear Round Neck Jersey</td>\n",
       "    </tr>\n",
       "    <tr>\n",
       "      <th>1</th>\n",
       "      <td>1164</td>\n",
       "      <td>Men</td>\n",
       "      <td>Apparel</td>\n",
       "      <td>Topwear</td>\n",
       "      <td>Tshirts</td>\n",
       "      <td>Blue</td>\n",
       "      <td>Blue</td>\n",
       "      <td>Winter</td>\n",
       "      <td>Sports</td>\n",
       "      <td>Nike Men Blue T20 Indian Cricket Jersey</td>\n",
       "    </tr>\n",
       "    <tr>\n",
       "      <th>2</th>\n",
       "      <td>1165</td>\n",
       "      <td>Men</td>\n",
       "      <td>Apparel</td>\n",
       "      <td>Topwear</td>\n",
       "      <td>Tshirts</td>\n",
       "      <td>Blue</td>\n",
       "      <td>Blue</td>\n",
       "      <td>Summer</td>\n",
       "      <td>Sports</td>\n",
       "      <td>Nike Mean Team India Cricket Jersey</td>\n",
       "    </tr>\n",
       "    <tr>\n",
       "      <th>3</th>\n",
       "      <td>1525</td>\n",
       "      <td>Unisex</td>\n",
       "      <td>Accessories</td>\n",
       "      <td>Bags</td>\n",
       "      <td>Backpacks</td>\n",
       "      <td>Navy Blue</td>\n",
       "      <td>Blue</td>\n",
       "      <td>Fall</td>\n",
       "      <td>Casual</td>\n",
       "      <td>Puma Deck Navy Blue Backpack</td>\n",
       "    </tr>\n",
       "    <tr>\n",
       "      <th>4</th>\n",
       "      <td>1526</td>\n",
       "      <td>Unisex</td>\n",
       "      <td>Accessories</td>\n",
       "      <td>Bags</td>\n",
       "      <td>Backpacks</td>\n",
       "      <td>Black</td>\n",
       "      <td>Black</td>\n",
       "      <td>Fall</td>\n",
       "      <td>Sports</td>\n",
       "      <td>Puma Big Cat Backpack Black</td>\n",
       "    </tr>\n",
       "  </tbody>\n",
       "</table>\n",
       "</div>"
      ],
      "text/plain": [
       "     id  gender masterCategory subCategory articleType baseColour colorgroup  \\\n",
       "0  1163     Men        Apparel     Topwear     Tshirts       Blue       Blue   \n",
       "1  1164     Men        Apparel     Topwear     Tshirts       Blue       Blue   \n",
       "2  1165     Men        Apparel     Topwear     Tshirts       Blue       Blue   \n",
       "3  1525  Unisex    Accessories        Bags   Backpacks  Navy Blue       Blue   \n",
       "4  1526  Unisex    Accessories        Bags   Backpacks      Black      Black   \n",
       "\n",
       "   season   usage                                productDisplayName  \n",
       "0  Summer  Sports  Nike Sahara Team India Fanwear Round Neck Jersey  \n",
       "1  Winter  Sports           Nike Men Blue T20 Indian Cricket Jersey  \n",
       "2  Summer  Sports               Nike Mean Team India Cricket Jersey  \n",
       "3    Fall  Casual                      Puma Deck Navy Blue Backpack  \n",
       "4    Fall  Sports                       Puma Big Cat Backpack Black  "
      ]
     },
     "execution_count": 63,
     "metadata": {},
     "output_type": "execute_result"
    }
   ],
   "source": [
    "df = df[['id', 'gender', 'masterCategory','subCategory', 'articleType', 'baseColour', 'colorgroup', 'season', 'usage', 'productDisplayName']]\n",
    "df.head()"
   ]
  },
  {
   "cell_type": "code",
   "execution_count": 64,
   "id": "fa241544",
   "metadata": {},
   "outputs": [
    {
     "data": {
      "text/plain": [
       "Black       9172\n",
       "Blue        6311\n",
       "White       5442\n",
       "Brown       4215\n",
       "Grey        3872\n",
       "Red         2640\n",
       "Green       2354\n",
       "Purple      1663\n",
       "Pink        1535\n",
       "Yellow       830\n",
       "Metallic     732\n",
       "Orange       456\n",
       "Multi        363\n",
       "Name: colorgroup, dtype: int64"
      ]
     },
     "execution_count": 64,
     "metadata": {},
     "output_type": "execute_result"
    }
   ],
   "source": [
    "df.colorgroup.value_counts()"
   ]
  },
  {
   "cell_type": "code",
   "execution_count": 65,
   "id": "2b0a7d3c",
   "metadata": {},
   "outputs": [
    {
     "data": {
      "text/plain": [
       "<AxesSubplot:xlabel='colorgroup', ylabel='count'>"
      ]
     },
     "execution_count": 65,
     "metadata": {},
     "output_type": "execute_result"
    },
    {
     "data": {
      "image/png": "[encoded data removed]",
      "text/plain": [
       "<Figure size 720x432 with 1 Axes>"
      ]
     },
     "metadata": {
      "needs_background": "light"
     },
     "output_type": "display_data"
    }
   ],
   "source": [
    "plt.figure(figsize=(10, 6))\n",
    "sns.countplot(x='colorgroup', data=df, palette='viridis')"
   ]
  },
  {
   "cell_type": "code",
   "execution_count": 66,
   "id": "263efc14",
   "metadata": {},
   "outputs": [
    {
     "name": "stdout",
     "output_type": "stream",
     "text": [
      "['Blue' 'Black' 'Red' 'Grey' 'White' 'Green' 'Pink' 'Brown' 'Orange'\n",
      " 'Yellow' 'Purple' 'Metallic' 'Multi' nan]\n"
     ]
    }
   ],
   "source": [
    "print(df['colorgroup'].unique())"
   ]
  },
  {
   "cell_type": "code",
   "execution_count": 67,
   "id": "21561454",
   "metadata": {},
   "outputs": [
    {
     "name": "stdout",
     "output_type": "stream",
     "text": [
      "Index(['id', 'gender', 'masterCategory', 'subCategory', 'articleType',\n",
      "       'baseColour', 'colorgroup', 'season', 'usage', 'productDisplayName',\n",
      "       'colorgroup_Black', 'colorgroup_Blue', 'colorgroup_Brown',\n",
      "       'colorgroup_Green', 'colorgroup_Grey', 'colorgroup_Metallic',\n",
      "       'colorgroup_Multi', 'colorgroup_Orange', 'colorgroup_Pink',\n",
      "       'colorgroup_Purple', 'colorgroup_Red', 'colorgroup_White',\n",
      "       'colorgroup_Yellow'],\n",
      "      dtype='object')\n",
      "     id  gender masterCategory subCategory articleType baseColour colorgroup  \\\n",
      "0  1163     Men        Apparel     Topwear     Tshirts       Blue       Blue   \n",
      "1  1164     Men        Apparel     Topwear     Tshirts       Blue       Blue   \n",
      "2  1165     Men        Apparel     Topwear     Tshirts       Blue       Blue   \n",
      "3  1525  Unisex    Accessories        Bags   Backpacks  Navy Blue       Blue   \n",
      "4  1526  Unisex    Accessories        Bags   Backpacks      Black      Black   \n",
      "\n",
      "   season   usage                                productDisplayName  ...  \\\n",
      "0  Summer  Sports  Nike Sahara Team India Fanwear Round Neck Jersey  ...   \n",
      "1  Winter  Sports           Nike Men Blue T20 Indian Cricket Jersey  ...   \n",
      "2  Summer  Sports               Nike Mean Team India Cricket Jersey  ...   \n",
      "3    Fall  Casual                      Puma Deck Navy Blue Backpack  ...   \n",
      "4    Fall  Sports                       Puma Big Cat Backpack Black  ...   \n",
      "\n",
      "   colorgroup_Green  colorgroup_Grey  colorgroup_Metallic  colorgroup_Multi  \\\n",
      "0                 0                0                    0                 0   \n",
      "1                 0                0                    0                 0   \n",
      "2                 0                0                    0                 0   \n",
      "3                 0                0                    0                 0   \n",
      "4                 0                0                    0                 0   \n",
      "\n",
      "   colorgroup_Orange  colorgroup_Pink  colorgroup_Purple  colorgroup_Red  \\\n",
      "0                  0                0                  0               0   \n",
      "1                  0                0                  0               0   \n",
      "2                  0                0                  0               0   \n",
      "3                  0                0                  0               0   \n",
      "4                  0                0                  0               0   \n",
      "\n",
      "   colorgroup_White  colorgroup_Yellow  \n",
      "0                 0                  0  \n",
      "1                 0                  0  \n",
      "2                 0                  0  \n",
      "3                 0                  0  \n",
      "4                 0                  0  \n",
      "\n",
      "[5 rows x 23 columns]\n",
      "          id gender masterCategory subCategory articleType baseColour  \\\n",
      "39586  59995  Women        Apparel       Dress     Dresses      Black   \n",
      "39587  59996  Women        Apparel       Dress     Dresses     Purple   \n",
      "39588  59998  Women       Footwear       Shoes       Heels      Multi   \n",
      "39589  59999  Women       Footwear       Shoes       Heels     Bronze   \n",
      "39590  60000  Women        Apparel     Topwear      Kurtas       Blue   \n",
      "\n",
      "      colorgroup  season   usage                  productDisplayName  ...  \\\n",
      "39586      Black    Fall   Party                 Avirate Black Dress  ...   \n",
      "39587     Purple  Summer  Casual        Avirate Black & Purple Dress  ...   \n",
      "39588      Multi  Winter  Casual  Catwalk Women Multi Coloured Heels  ...   \n",
      "39589   Metallic  Winter  Casual         Catwalk Women Bronze Wedges  ...   \n",
      "39590       Blue    Fall  Ethnic               Alma Women Blue Kurta  ...   \n",
      "\n",
      "       colorgroup_Green  colorgroup_Grey  colorgroup_Metallic  \\\n",
      "39586                 0                0                    0   \n",
      "39587                 0                0                    0   \n",
      "39588                 0                0                    0   \n",
      "39589                 0                0                    1   \n",
      "39590                 0                0                    0   \n",
      "\n",
      "       colorgroup_Multi  colorgroup_Orange  colorgroup_Pink  \\\n",
      "39586                 0                  0                0   \n",
      "39587                 0                  0                0   \n",
      "39588                 1                  0                0   \n",
      "39589                 0                  0                0   \n",
      "39590                 0                  0                0   \n",
      "\n",
      "       colorgroup_Purple  colorgroup_Red  colorgroup_White  colorgroup_Yellow  \n",
      "39586                  0               0                 0                  0  \n",
      "39587                  1               0                 0                  0  \n",
      "39588                  0               0                 0                  0  \n",
      "39589                  0               0                 0                  0  \n",
      "39590                  0               0                 0                  0  \n",
      "\n",
      "[5 rows x 23 columns]\n"
     ]
    }
   ],
   "source": [
    "colorgroup_encoded = pd.get_dummies(df['colorgroup'], prefix='colorgroup')\n",
    "df = pd.concat([df, colorgroup_encoded], axis=1)\n",
    "print(df.columns)\n",
    "print(df.head())\n",
    "print(df.tail())"
   ]
  },
  {
   "cell_type": "code",
   "execution_count": 68,
   "id": "2ecc4736",
   "metadata": {},
   "outputs": [
    {
     "name": "stdout",
     "output_type": "stream",
     "text": [
      "Index(['id', 'gender', 'masterCategory', 'subCategory', 'articleType',\n",
      "       'baseColour', 'colorgroup', 'season', 'usage', 'productDisplayName',\n",
      "       'colorgroup_Black', 'colorgroup_Blue', 'colorgroup_Brown',\n",
      "       'colorgroup_Green', 'colorgroup_Grey', 'colorgroup_Metallic',\n",
      "       'colorgroup_Multi', 'colorgroup_Orange', 'colorgroup_Pink',\n",
      "       'colorgroup_Purple', 'colorgroup_Red', 'colorgroup_White',\n",
      "       'colorgroup_Yellow', 'masterCategory_Accessories',\n",
      "       'masterCategory_Apparel', 'masterCategory_Footwear',\n",
      "       'masterCategory_Sporting Goods'],\n",
      "      dtype='object')\n",
      "     id  gender masterCategory subCategory articleType baseColour colorgroup  \\\n",
      "0  1163     Men        Apparel     Topwear     Tshirts       Blue       Blue   \n",
      "1  1164     Men        Apparel     Topwear     Tshirts       Blue       Blue   \n",
      "2  1165     Men        Apparel     Topwear     Tshirts       Blue       Blue   \n",
      "3  1525  Unisex    Accessories        Bags   Backpacks  Navy Blue       Blue   \n",
      "4  1526  Unisex    Accessories        Bags   Backpacks      Black      Black   \n",
      "\n",
      "   season   usage                                productDisplayName  ...  \\\n",
      "0  Summer  Sports  Nike Sahara Team India Fanwear Round Neck Jersey  ...   \n",
      "1  Winter  Sports           Nike Men Blue T20 Indian Cricket Jersey  ...   \n",
      "2  Summer  Sports               Nike Mean Team India Cricket Jersey  ...   \n",
      "3    Fall  Casual                      Puma Deck Navy Blue Backpack  ...   \n",
      "4    Fall  Sports                       Puma Big Cat Backpack Black  ...   \n",
      "\n",
      "   colorgroup_Orange  colorgroup_Pink  colorgroup_Purple  colorgroup_Red  \\\n",
      "0                  0                0                  0               0   \n",
      "1                  0                0                  0               0   \n",
      "2                  0                0                  0               0   \n",
      "3                  0                0                  0               0   \n",
      "4                  0                0                  0               0   \n",
      "\n",
      "   colorgroup_White  colorgroup_Yellow  masterCategory_Accessories  \\\n",
      "0                 0                  0                           0   \n",
      "1                 0                  0                           0   \n",
      "2                 0                  0                           0   \n",
      "3                 0                  0                           1   \n",
      "4                 0                  0                           1   \n",
      "\n",
      "   masterCategory_Apparel  masterCategory_Footwear  \\\n",
      "0                       1                        0   \n",
      "1                       1                        0   \n",
      "2                       1                        0   \n",
      "3                       0                        0   \n",
      "4                       0                        0   \n",
      "\n",
      "   masterCategory_Sporting Goods  \n",
      "0                              0  \n",
      "1                              0  \n",
      "2                              0  \n",
      "3                              0  \n",
      "4                              0  \n",
      "\n",
      "[5 rows x 27 columns]\n",
      "          id gender masterCategory subCategory articleType baseColour  \\\n",
      "39586  59995  Women        Apparel       Dress     Dresses      Black   \n",
      "39587  59996  Women        Apparel       Dress     Dresses     Purple   \n",
      "39588  59998  Women       Footwear       Shoes       Heels      Multi   \n",
      "39589  59999  Women       Footwear       Shoes       Heels     Bronze   \n",
      "39590  60000  Women        Apparel     Topwear      Kurtas       Blue   \n",
      "\n",
      "      colorgroup  season   usage                  productDisplayName  ...  \\\n",
      "39586      Black    Fall   Party                 Avirate Black Dress  ...   \n",
      "39587     Purple  Summer  Casual        Avirate Black & Purple Dress  ...   \n",
      "39588      Multi  Winter  Casual  Catwalk Women Multi Coloured Heels  ...   \n",
      "39589   Metallic  Winter  Casual         Catwalk Women Bronze Wedges  ...   \n",
      "39590       Blue    Fall  Ethnic               Alma Women Blue Kurta  ...   \n",
      "\n",
      "       colorgroup_Orange  colorgroup_Pink  colorgroup_Purple  colorgroup_Red  \\\n",
      "39586                  0                0                  0               0   \n",
      "39587                  0                0                  1               0   \n",
      "39588                  0                0                  0               0   \n",
      "39589                  0                0                  0               0   \n",
      "39590                  0                0                  0               0   \n",
      "\n",
      "       colorgroup_White  colorgroup_Yellow  masterCategory_Accessories  \\\n",
      "39586                 0                  0                           0   \n",
      "39587                 0                  0                           0   \n",
      "39588                 0                  0                           0   \n",
      "39589                 0                  0                           0   \n",
      "39590                 0                  0                           0   \n",
      "\n",
      "       masterCategory_Apparel  masterCategory_Footwear  \\\n",
      "39586                       1                        0   \n",
      "39587                       1                        0   \n",
      "39588                       0                        1   \n",
      "39589                       0                        1   \n",
      "39590                       1                        0   \n",
      "\n",
      "       masterCategory_Sporting Goods  \n",
      "39586                              0  \n",
      "39587                              0  \n",
      "39588                              0  \n",
      "39589                              0  \n",
      "39590                              0  \n",
      "\n",
      "[5 rows x 27 columns]\n"
     ]
    }
   ],
   "source": [
    "masterCategory_encoded = pd.get_dummies(df['masterCategory'], prefix='masterCategory')\n",
    "df = pd.concat([df, masterCategory_encoded], axis=1)\n",
    "print(df.columns)\n",
    "print(df.head())\n",
    "print(df.tail())"
   ]
  },
  {
   "cell_type": "code",
   "execution_count": 69,
   "id": "457570c2",
   "metadata": {},
   "outputs": [
    {
     "name": "stdout",
     "output_type": "stream",
     "text": [
      "['Sports' 'Casual' 'Travel' 'Formal' 'Smart Casual' 'Ethnic' nan 'Party']\n"
     ]
    }
   ],
   "source": [
    "print(df['usage'].unique())"
   ]
  },
  {
   "cell_type": "code",
   "execution_count": 70,
   "id": "fe1edbc2",
   "metadata": {},
   "outputs": [
    {
     "name": "stdout",
     "output_type": "stream",
     "text": [
      "Unique values in 'usage' before replacement: ['Sports' 'Casual' 'Travel' 'Formal' 'Smart Casual' 'Ethnic' nan 'Party']\n",
      "Unique values in 'usage' after replacement: ['Sports' 'Casual' 'Travel' 'Formal' 'Ethnic' nan 'Party']\n"
     ]
    }
   ],
   "source": [
    "#replacing smart casual with casual in usage feature:\n",
    "print(\"Unique values in 'usage' before replacement:\", df['usage'].unique())\n",
    "df['usage'] = df['usage'].replace('Smart Casual', 'Casual')\n",
    "print(\"Unique values in 'usage' after replacement:\", df['usage'].unique())"
   ]
  },
  {
   "cell_type": "code",
   "execution_count": 71,
   "id": "4f9a524b",
   "metadata": {},
   "outputs": [
    {
     "name": "stdout",
     "output_type": "stream",
     "text": [
      "Index(['id', 'gender', 'masterCategory', 'subCategory', 'articleType',\n",
      "       'baseColour', 'colorgroup', 'season', 'usage', 'productDisplayName',\n",
      "       'colorgroup_Black', 'colorgroup_Blue', 'colorgroup_Brown',\n",
      "       'colorgroup_Green', 'colorgroup_Grey', 'colorgroup_Metallic',\n",
      "       'colorgroup_Multi', 'colorgroup_Orange', 'colorgroup_Pink',\n",
      "       'colorgroup_Purple', 'colorgroup_Red', 'colorgroup_White',\n",
      "       'colorgroup_Yellow', 'masterCategory_Accessories',\n",
      "       'masterCategory_Apparel', 'masterCategory_Footwear',\n",
      "       'masterCategory_Sporting Goods'],\n",
      "      dtype='object')\n",
      "     id  gender masterCategory subCategory articleType baseColour colorgroup  \\\n",
      "0  1163     Men        Apparel     Topwear     Tshirts       Blue       Blue   \n",
      "1  1164     Men        Apparel     Topwear     Tshirts       Blue       Blue   \n",
      "2  1165     Men        Apparel     Topwear     Tshirts       Blue       Blue   \n",
      "3  1525  Unisex    Accessories        Bags   Backpacks  Navy Blue       Blue   \n",
      "4  1526  Unisex    Accessories        Bags   Backpacks      Black      Black   \n",
      "\n",
      "   season   usage                                productDisplayName  ...  \\\n",
      "0  Summer  Sports  Nike Sahara Team India Fanwear Round Neck Jersey  ...   \n",
      "1  Winter  Sports           Nike Men Blue T20 Indian Cricket Jersey  ...   \n",
      "2  Summer  Sports               Nike Mean Team India Cricket Jersey  ...   \n",
      "3    Fall  Casual                      Puma Deck Navy Blue Backpack  ...   \n",
      "4    Fall  Sports                       Puma Big Cat Backpack Black  ...   \n",
      "\n",
      "   colorgroup_Orange  colorgroup_Pink  colorgroup_Purple  colorgroup_Red  \\\n",
      "0                  0                0                  0               0   \n",
      "1                  0                0                  0               0   \n",
      "2                  0                0                  0               0   \n",
      "3                  0                0                  0               0   \n",
      "4                  0                0                  0               0   \n",
      "\n",
      "   colorgroup_White  colorgroup_Yellow  masterCategory_Accessories  \\\n",
      "0                 0                  0                           0   \n",
      "1                 0                  0                           0   \n",
      "2                 0                  0                           0   \n",
      "3                 0                  0                           1   \n",
      "4                 0                  0                           1   \n",
      "\n",
      "   masterCategory_Apparel  masterCategory_Footwear  \\\n",
      "0                       1                        0   \n",
      "1                       1                        0   \n",
      "2                       1                        0   \n",
      "3                       0                        0   \n",
      "4                       0                        0   \n",
      "\n",
      "   masterCategory_Sporting Goods  \n",
      "0                              0  \n",
      "1                              0  \n",
      "2                              0  \n",
      "3                              0  \n",
      "4                              0  \n",
      "\n",
      "[5 rows x 27 columns]\n",
      "          id gender masterCategory subCategory articleType baseColour  \\\n",
      "39586  59995  Women        Apparel       Dress     Dresses      Black   \n",
      "39587  59996  Women        Apparel       Dress     Dresses     Purple   \n",
      "39588  59998  Women       Footwear       Shoes       Heels      Multi   \n",
      "39589  59999  Women       Footwear       Shoes       Heels     Bronze   \n",
      "39590  60000  Women        Apparel     Topwear      Kurtas       Blue   \n",
      "\n",
      "      colorgroup  season   usage                  productDisplayName  ...  \\\n",
      "39586      Black    Fall   Party                 Avirate Black Dress  ...   \n",
      "39587     Purple  Summer  Casual        Avirate Black & Purple Dress  ...   \n",
      "39588      Multi  Winter  Casual  Catwalk Women Multi Coloured Heels  ...   \n",
      "39589   Metallic  Winter  Casual         Catwalk Women Bronze Wedges  ...   \n",
      "39590       Blue    Fall  Ethnic               Alma Women Blue Kurta  ...   \n",
      "\n",
      "       colorgroup_Orange  colorgroup_Pink  colorgroup_Purple  colorgroup_Red  \\\n",
      "39586                  0                0                  0               0   \n",
      "39587                  0                0                  1               0   \n",
      "39588                  0                0                  0               0   \n",
      "39589                  0                0                  0               0   \n",
      "39590                  0                0                  0               0   \n",
      "\n",
      "       colorgroup_White  colorgroup_Yellow  masterCategory_Accessories  \\\n",
      "39586                 0                  0                           0   \n",
      "39587                 0                  0                           0   \n",
      "39588                 0                  0                           0   \n",
      "39589                 0                  0                           0   \n",
      "39590                 0                  0                           0   \n",
      "\n",
      "       masterCategory_Apparel  masterCategory_Footwear  \\\n",
      "39586                       1                        0   \n",
      "39587                       1                        0   \n",
      "39588                       0                        1   \n",
      "39589                       0                        1   \n",
      "39590                       1                        0   \n",
      "\n",
      "       masterCategory_Sporting Goods  \n",
      "39586                              0  \n",
      "39587                              0  \n",
      "39588                              0  \n",
      "39589                              0  \n",
      "39590                              0  \n",
      "\n",
      "[5 rows x 27 columns]\n"
     ]
    }
   ],
   "source": [
    "#one-hot encoding of season and usage with relation to articletype:\n",
    "df_encoded = pd.get_dummies(df, columns=['season', 'usage'])\n",
    "print(df.columns)\n",
    "print(df.head())\n",
    "print(df.tail())"
   ]
  },
  {
   "cell_type": "code",
   "execution_count": 72,
   "id": "4c923260",
   "metadata": {},
   "outputs": [
    {
     "name": "stdout",
     "output_type": "stream",
     "text": [
      "Aggregated DataFrame (ArticleType vs. Season and Usage):\n",
      "                          id  colorgroup_Black  colorgroup_Blue  \\\n",
      "articleType                                                       \n",
      "Accessory Gift Set   2803904              17.0             22.0   \n",
      "Backpacks           15414437             294.0            152.0   \n",
      "Bangle               4108426               7.0              3.0   \n",
      "Belts               25397395             329.0             37.0   \n",
      "Blazers               245531               4.0              2.0   \n",
      "\n",
      "                    colorgroup_Brown  colorgroup_Green  colorgroup_Grey  \\\n",
      "articleType                                                               \n",
      "Accessory Gift Set              19.0               0.0              3.0   \n",
      "Backpacks                       22.0              51.0             71.0   \n",
      "Bangle                           2.0               5.0             27.0   \n",
      "Belts                          287.0              31.0             20.0   \n",
      "Blazers                          1.0               1.0              0.0   \n",
      "\n",
      "                    colorgroup_Metallic  colorgroup_Multi  colorgroup_Orange  \\\n",
      "articleType                                                                    \n",
      "Accessory Gift Set                  0.0               1.0                0.0   \n",
      "Backpacks                           0.0               1.0               12.0   \n",
      "Bangle                             23.0               1.0                1.0   \n",
      "Belts                               4.0               7.0                3.0   \n",
      "Blazers                             0.0               0.0                0.0   \n",
      "\n",
      "                    colorgroup_Pink  ...  season_Fall  season_Spring  \\\n",
      "articleType                          ...                               \n",
      "Accessory Gift Set              2.0  ...         49.0            0.0   \n",
      "Backpacks                      24.0  ...        132.0           45.0   \n",
      "Bangle                          1.0  ...          7.0            1.0   \n",
      "Belts                          13.0  ...         97.0           17.0   \n",
      "Blazers                         0.0  ...          0.0            0.0   \n",
      "\n",
      "                    season_Summer  season_Winter  usage_Casual  usage_Ethnic  \\\n",
      "articleType                                                                    \n",
      "Accessory Gift Set           21.0           41.0          21.0           0.0   \n",
      "Backpacks                   357.0          188.0         628.0           0.0   \n",
      "Bangle                       49.0           28.0          77.0           8.0   \n",
      "Belts                       542.0          157.0         676.0           0.0   \n",
      "Blazers                       8.0            0.0           1.0           0.0   \n",
      "\n",
      "                    usage_Formal  usage_Party  usage_Sports  usage_Travel  \n",
      "articleType                                                                \n",
      "Accessory Gift Set          90.0          0.0           0.0           0.0  \n",
      "Backpacks                    0.0          0.0          83.0          11.0  \n",
      "Bangle                       0.0          0.0           0.0           0.0  \n",
      "Belts                      137.0          0.0           0.0           0.0  \n",
      "Blazers                      7.0          0.0           0.0           0.0  \n",
      "\n",
      "[5 rows x 28 columns]\n",
      "                    id  colorgroup_Black  colorgroup_Blue  colorgroup_Brown  \\\n",
      "articleType                                                                   \n",
      "Waistcoat       429928               1.0              5.0               1.0   \n",
      "Wallets       32119078             306.0             52.0             317.0   \n",
      "Watches       91551062             992.0            136.0              62.0   \n",
      "Water Bottle     11217               2.0              0.0               0.0   \n",
      "Wristbands      137421               2.0              0.0               0.0   \n",
      "\n",
      "              colorgroup_Green  colorgroup_Grey  colorgroup_Metallic  \\\n",
      "articleType                                                            \n",
      "Waistcoat                  0.0              4.0                  0.0   \n",
      "Wallets                   39.0             24.0                  4.0   \n",
      "Watches                   27.0            489.0                 74.0   \n",
      "Water Bottle               0.0              0.0                  0.0   \n",
      "Wristbands                 0.0              0.0                  0.0   \n",
      "\n",
      "              colorgroup_Multi  colorgroup_Orange  colorgroup_Pink  ...  \\\n",
      "articleType                                                         ...   \n",
      "Waistcoat                  0.0                0.0              1.0  ...   \n",
      "Wallets                    4.0                8.0             39.0  ...   \n",
      "Watches                    1.0               15.0             59.0  ...   \n",
      "Water Bottle               0.0                0.0              0.0  ...   \n",
      "Wristbands                 0.0                0.0              0.0  ...   \n",
      "\n",
      "              season_Fall  season_Spring  season_Summer  season_Winter  \\\n",
      "articleType                                                              \n",
      "Waistcoat             6.0            0.0            9.0            0.0   \n",
      "Wallets             110.0           10.0          495.0          320.0   \n",
      "Watches               3.0            1.0           64.0         2474.0   \n",
      "Water Bottle          3.0            0.0            1.0            0.0   \n",
      "Wristbands            1.0            0.0            3.0            0.0   \n",
      "\n",
      "              usage_Casual  usage_Ethnic  usage_Formal  usage_Party  \\\n",
      "articleType                                                           \n",
      "Waistcoat             14.0           1.0           0.0          0.0   \n",
      "Wallets              897.0           0.0          30.0          0.0   \n",
      "Watches             2473.0           0.0          19.0          1.0   \n",
      "Water Bottle           3.0           0.0           0.0          0.0   \n",
      "Wristbands             1.0           0.0           0.0          0.0   \n",
      "\n",
      "              usage_Sports  usage_Travel  \n",
      "articleType                               \n",
      "Waistcoat              0.0           0.0  \n",
      "Wallets                0.0           0.0  \n",
      "Watches               49.0           0.0  \n",
      "Water Bottle           1.0           0.0  \n",
      "Wristbands             3.0           0.0  \n",
      "\n",
      "[5 rows x 28 columns]\n"
     ]
    }
   ],
   "source": [
    "article_season_usage = df_encoded.groupby('articleType').sum()\n",
    "print(\"Aggregated DataFrame (ArticleType vs. Season and Usage):\")\n",
    "print(article_season_usage.head())\n",
    "print(article_season_usage.tail())"
   ]
  },
  {
   "cell_type": "code",
   "execution_count": 73,
   "id": "791c7290",
   "metadata": {},
   "outputs": [
    {
     "name": "stdout",
     "output_type": "stream",
     "text": [
      "Article types suitable for Casual usage:\n",
      "['Accessory Gift Set', 'Backpacks', 'Bangle', 'Belts', 'Blazers', 'Booties', 'Bracelet', 'Capris', 'Caps', 'Casual Shoes', 'Clothing Set', 'Clutches', 'Cufflinks', 'Dresses', 'Duffel Bag', 'Earrings', 'Flats', 'Flip Flops', 'Formal Shoes', 'Gloves', 'Hair Accessory', 'Handbags', 'Hat', 'Headband', 'Heels', 'Jackets', 'Jeans', 'Jeggings', 'Jewellery Set', 'Jumpsuit', 'Key chain', 'Kurtas', 'Kurtis', 'Laptop Bag', 'Leggings', 'Messenger Bag', 'Mobile Pouch', 'Mufflers', 'Necklace and Chains', 'Pendant', 'Rain Jacket', 'Ring', 'Rompers', 'Rucksacks', 'Sandals', 'Scarves', 'Shirts', 'Shorts', 'Shrug', 'Skirts', 'Socks', 'Sports Sandals', 'Sports Shoes', 'Stockings', 'Stoles', 'Sunglasses', 'Sweaters', 'Sweatshirts', 'Swimwear', 'Tablet Sleeve', 'Ties', 'Ties and Cufflinks', 'Tights', 'Tops', 'Track Pants', 'Tracksuits', 'Travel Accessory', 'Trolley Bag', 'Trousers', 'Tshirts', 'Tunics', 'Waist Pouch', 'Waistcoat', 'Wallets', 'Watches', 'Water Bottle', 'Wristbands']\n"
     ]
    }
   ],
   "source": [
    "suitable_for_casual = article_season_usage[article_season_usage['usage_Casual'] > 0]\n",
    "print(\"Article types suitable for Casual usage:\")\n",
    "print(suitable_for_casual.index.tolist())"
   ]
  },
  {
   "cell_type": "code",
   "execution_count": 74,
   "id": "0718eeb5",
   "metadata": {},
   "outputs": [
    {
     "name": "stdout",
     "output_type": "stream",
     "text": [
      "Article types suitable for Ethnic usage:\n",
      "['Bangle', 'Bracelet', 'Capris', 'Churidar', 'Clutches', 'Dupatta', 'Earrings', 'Flats', 'Handbags', 'Heels', 'Jackets', 'Jewellery Set', 'Kurta Sets', 'Kurtas', 'Kurtis', 'Leggings', 'Lehenga Choli', 'Necklace and Chains', 'Nehru Jackets', 'Patiala', 'Pendant', 'Salwar', 'Salwar and Dupatta', 'Sarees', 'Shirts', 'Skirts', 'Stoles', 'Ties', 'Tops', 'Trousers', 'Tunics', 'Waistcoat']\n"
     ]
    }
   ],
   "source": [
    "suitable_for_ethnic = article_season_usage[article_season_usage['usage_Ethnic'] > 0]\n",
    "print(\"Article types suitable for Ethnic usage:\")\n",
    "print(suitable_for_ethnic.index.tolist())"
   ]
  },
  {
   "cell_type": "code",
   "execution_count": 75,
   "id": "041b0efb",
   "metadata": {},
   "outputs": [
    {
     "name": "stdout",
     "output_type": "stream",
     "text": [
      "Article types suitable for Formal usage:\n",
      "['Accessory Gift Set', 'Belts', 'Blazers', 'Casual Shoes', 'Cufflinks', 'Dresses', 'Flats', 'Formal Shoes', 'Handbags', 'Heels', 'Laptop Bag', 'Sandals', 'Shirts', 'Skirts', 'Socks', 'Suspenders', 'Ties', 'Tops', 'Trousers', 'Tshirts', 'Wallets', 'Watches']\n"
     ]
    }
   ],
   "source": [
    "suitable_for_formal = article_season_usage[article_season_usage['usage_Formal'] > 0]\n",
    "print(\"Article types suitable for Formal usage:\")\n",
    "print(suitable_for_formal.index.tolist())"
   ]
  },
  {
   "cell_type": "code",
   "execution_count": 76,
   "id": "72e7d58a",
   "metadata": {},
   "outputs": [
    {
     "name": "stdout",
     "output_type": "stream",
     "text": [
      "Article types suitable for Party usage:\n",
      "['Clutches', 'Dresses', 'Heels', 'Shirts', 'Tops', 'Watches']\n"
     ]
    }
   ],
   "source": [
    "suitable_for_party = article_season_usage[article_season_usage['usage_Party'] > 0]\n",
    "print(\"Article types suitable for Party usage:\")\n",
    "print(suitable_for_party.index.tolist())"
   ]
  },
  {
   "cell_type": "code",
   "execution_count": 77,
   "id": "d9f7c2ab",
   "metadata": {},
   "outputs": [
    {
     "name": "stdout",
     "output_type": "stream",
     "text": [
      "Article types suitable for Sports usage:\n",
      "['Backpacks', 'Capris', 'Caps', 'Casual Shoes', 'Duffel Bag', 'Flats', 'Flip Flops', 'Handbags', 'Headband', 'Jackets', 'Leggings', 'Sandals', 'Shorts', 'Skirts', 'Socks', 'Sports Sandals', 'Sports Shoes', 'Sunglasses', 'Sweaters', 'Sweatshirts', 'Swimwear', 'Tights', 'Tops', 'Track Pants', 'Tracksuits', 'Tshirts', 'Watches', 'Water Bottle', 'Wristbands']\n"
     ]
    }
   ],
   "source": [
    "suitable_for_sports = article_season_usage[article_season_usage['usage_Sports'] > 0]\n",
    "print(\"Article types suitable for Sports usage:\")\n",
    "print(suitable_for_sports.index.tolist())"
   ]
  },
  {
   "cell_type": "code",
   "execution_count": 78,
   "id": "aee49c1c",
   "metadata": {},
   "outputs": [
    {
     "name": "stdout",
     "output_type": "stream",
     "text": [
      "Article types suitable for Travel usage:\n",
      "['Backpacks', 'Duffel Bag', 'Handbags', 'Jackets', 'Mobile Pouch', 'Rucksacks']\n"
     ]
    }
   ],
   "source": [
    "suitable_for_travel = article_season_usage[article_season_usage['usage_Travel'] > 0]\n",
    "print(\"Article types suitable for Travel usage:\")\n",
    "print(suitable_for_travel.index.tolist())"
   ]
  },
  {
   "cell_type": "code",
   "execution_count": 79,
   "id": "bfc3d1d0",
   "metadata": {},
   "outputs": [
    {
     "name": "stdout",
     "output_type": "stream",
     "text": [
      "Article types suitable for Summer:\n",
      "['Accessory Gift Set', 'Backpacks', 'Bangle', 'Belts', 'Blazers', 'Booties', 'Bracelet', 'Capris', 'Caps', 'Casual Shoes', 'Churidar', 'Clothing Set', 'Clutches', 'Cufflinks', 'Dresses', 'Duffel Bag', 'Dupatta', 'Earrings', 'Flats', 'Flip Flops', 'Formal Shoes', 'Gloves', 'Handbags', 'Headband', 'Heels', 'Jackets', 'Jeans', 'Jeggings', 'Jewellery Set', 'Jumpsuit', 'Key chain', 'Kurta Sets', 'Kurtas', 'Kurtis', 'Laptop Bag', 'Leggings', 'Lehenga Choli', 'Messenger Bag', 'Mobile Pouch', 'Mufflers', 'Necklace and Chains', 'Nehru Jackets', 'Patiala', 'Pendant', 'Rain Jacket', 'Rain Trousers', 'Ring', 'Rompers', 'Rucksacks', 'Salwar', 'Salwar and Dupatta', 'Sandals', 'Sarees', 'Scarves', 'Shirts', 'Shorts', 'Shrug', 'Skirts', 'Socks', 'Sports Sandals', 'Sports Shoes', 'Stockings', 'Stoles', 'Sunglasses', 'Suspenders', 'Sweaters', 'Sweatshirts', 'Swimwear', 'Tablet Sleeve', 'Ties', 'Ties and Cufflinks', 'Tights', 'Tops', 'Track Pants', 'Tracksuits', 'Travel Accessory', 'Trolley Bag', 'Trousers', 'Tshirts', 'Tunics', 'Waist Pouch', 'Waistcoat', 'Wallets', 'Watches', 'Water Bottle', 'Wristbands']\n"
     ]
    }
   ],
   "source": [
    "suitable_for_summer = article_season_usage[article_season_usage['season_Summer'] > 0]\n",
    "print(\"Article types suitable for Summer:\")\n",
    "print(suitable_for_summer.index.tolist())"
   ]
  },
  {
   "cell_type": "code",
   "execution_count": 80,
   "id": "1e9d5f4c",
   "metadata": {
    "scrolled": true
   },
   "outputs": [
    {
     "name": "stdout",
     "output_type": "stream",
     "text": [
      "Article types suitable for Winter:\n",
      "['Accessory Gift Set', 'Backpacks', 'Bangle', 'Belts', 'Bracelet', 'Capris', 'Caps', 'Casual Shoes', 'Clutches', 'Dresses', 'Duffel Bag', 'Dupatta', 'Earrings', 'Flats', 'Flip Flops', 'Formal Shoes', 'Hair Accessory', 'Handbags', 'Heels', 'Jackets', 'Jeans', 'Jewellery Set', 'Jumpsuit', 'Key chain', 'Kurtas', 'Laptop Bag', 'Leggings', 'Messenger Bag', 'Mobile Pouch', 'Necklace and Chains', 'Pendant', 'Ring', 'Rucksacks', 'Sandals', 'Sarees', 'Scarves', 'Shirts', 'Shorts', 'Skirts', 'Socks', 'Sports Sandals', 'Sports Shoes', 'Sunglasses', 'Sweaters', 'Sweatshirts', 'Swimwear', 'Tablet Sleeve', 'Tops', 'Track Pants', 'Travel Accessory', 'Trousers', 'Tshirts', 'Waist Pouch', 'Wallets', 'Watches']\n"
     ]
    }
   ],
   "source": [
    "suitable_for_winter = article_season_usage[article_season_usage['season_Winter'] > 0]\n",
    "print(\"Article types suitable for Winter:\")\n",
    "print(suitable_for_winter.index.tolist())"
   ]
  },
  {
   "cell_type": "code",
   "execution_count": 81,
   "id": "9680520d",
   "metadata": {},
   "outputs": [
    {
     "name": "stdout",
     "output_type": "stream",
     "text": [
      "Article types suitable for Spring:\n",
      "['Backpacks', 'Bangle', 'Belts', 'Caps', 'Casual Shoes', 'Clutches', 'Dresses', 'Duffel Bag', 'Flats', 'Flip Flops', 'Formal Shoes', 'Handbags', 'Heels', 'Jeans', 'Kurtis', 'Laptop Bag', 'Leggings', 'Mobile Pouch', 'Sandals', 'Sarees', 'Shirts', 'Shorts', 'Socks', 'Sports Sandals', 'Sports Shoes', 'Stockings', 'Stoles', 'Sweaters', 'Ties and Cufflinks', 'Tops', 'Track Pants', 'Trousers', 'Tshirts', 'Wallets', 'Watches']\n"
     ]
    }
   ],
   "source": [
    "suitable_for_spring = article_season_usage[article_season_usage['season_Spring'] > 0]\n",
    "print(\"Article types suitable for Spring:\")\n",
    "print(suitable_for_spring.index.tolist())"
   ]
  },
  {
   "cell_type": "code",
   "execution_count": 82,
   "id": "87e19ea6",
   "metadata": {},
   "outputs": [
    {
     "name": "stdout",
     "output_type": "stream",
     "text": [
      "Article types suitable for Fall:\n",
      "['Accessory Gift Set', 'Backpacks', 'Bangle', 'Belts', 'Capris', 'Caps', 'Casual Shoes', 'Churidar', 'Clutches', 'Cufflinks', 'Dresses', 'Duffel Bag', 'Dupatta', 'Earrings', 'Flats', 'Flip Flops', 'Formal Shoes', 'Gloves', 'Handbags', 'Hat', 'Headband', 'Heels', 'Jackets', 'Jeans', 'Jeggings', 'Jewellery Set', 'Jumpsuit', 'Kurta Sets', 'Kurtas', 'Kurtis', 'Laptop Bag', 'Leggings', 'Lehenga Choli', 'Messenger Bag', 'Mobile Pouch', 'Mufflers', 'Necklace and Chains', 'Patiala', 'Pendant', 'Rain Jacket', 'Ring', 'Salwar', 'Salwar and Dupatta', 'Sandals', 'Sarees', 'Scarves', 'Shirts', 'Shorts', 'Shrug', 'Skirts', 'Socks', 'Sports Sandals', 'Sports Shoes', 'Stockings', 'Stoles', 'Sunglasses', 'Sweaters', 'Sweatshirts', 'Swimwear', 'Ties', 'Tights', 'Tops', 'Track Pants', 'Tracksuits', 'Travel Accessory', 'Trousers', 'Tshirts', 'Tunics', 'Waistcoat', 'Wallets', 'Watches', 'Water Bottle', 'Wristbands']\n"
     ]
    }
   ],
   "source": [
    "suitable_for_fall = article_season_usage[article_season_usage['season_Fall'] > 0]\n",
    "print(\"Article types suitable for Fall:\")\n",
    "print(suitable_for_fall.index.tolist())"
   ]
  },
  {
   "cell_type": "code",
   "execution_count": 83,
   "id": "fb541a02",
   "metadata": {},
   "outputs": [
    {
     "name": "stdout",
     "output_type": "stream",
     "text": [
      "['Men' 'Unisex' 'Women' 'Girls' 'Boys']\n"
     ]
    }
   ],
   "source": [
    "#one-hot encoding of gender in relation to articletype\n",
    "print(df['gender'].unique())"
   ]
  },
  {
   "cell_type": "code",
   "execution_count": 84,
   "id": "e884277c",
   "metadata": {},
   "outputs": [
    {
     "name": "stdout",
     "output_type": "stream",
     "text": [
      "Index(['id', 'gender', 'masterCategory', 'subCategory', 'articleType',\n",
      "       'baseColour', 'colorgroup', 'season', 'usage', 'productDisplayName',\n",
      "       'colorgroup_Black', 'colorgroup_Blue', 'colorgroup_Brown',\n",
      "       'colorgroup_Green', 'colorgroup_Grey', 'colorgroup_Metallic',\n",
      "       'colorgroup_Multi', 'colorgroup_Orange', 'colorgroup_Pink',\n",
      "       'colorgroup_Purple', 'colorgroup_Red', 'colorgroup_White',\n",
      "       'colorgroup_Yellow', 'masterCategory_Accessories',\n",
      "       'masterCategory_Apparel', 'masterCategory_Footwear',\n",
      "       'masterCategory_Sporting Goods', 'gender_Boys', 'gender_Girls',\n",
      "       'gender_Men', 'gender_Unisex', 'gender_Women'],\n",
      "      dtype='object')\n"
     ]
    }
   ],
   "source": [
    "gender_encoded = pd.get_dummies(df['gender'], prefix='gender')\n",
    "df = pd.concat([df, gender_encoded], axis=1)\n",
    "print(df.columns)"
   ]
  },
  {
   "cell_type": "code",
   "execution_count": 85,
   "id": "ce893d0a",
   "metadata": {},
   "outputs": [
    {
     "name": "stdout",
     "output_type": "stream",
     "text": [
      "                    gender_Boys  gender_Girls  gender_Men  gender_Unisex  \\\n",
      "articleType                                                                \n",
      "Accessory Gift Set          0.0           0.0       111.0            0.0   \n",
      "Backpacks                   0.0           2.0        55.0          630.0   \n",
      "Bangle                      0.0           0.0        14.0            0.0   \n",
      "Belts                       0.0           0.0       541.0            9.0   \n",
      "Blazers                     1.0           0.0         5.0            0.0   \n",
      "\n",
      "                    gender_Women  \n",
      "articleType                       \n",
      "Accessory Gift Set           0.0  \n",
      "Backpacks                   35.0  \n",
      "Bangle                      71.0  \n",
      "Belts                      263.0  \n",
      "Blazers                      2.0  \n",
      "              gender_Boys  gender_Girls  gender_Men  gender_Unisex  \\\n",
      "articleType                                                          \n",
      "Waistcoat             3.0           0.0         7.0            0.0   \n",
      "Wallets               0.0           0.0       449.0           21.0   \n",
      "Watches               8.0          16.0      1473.0          143.0   \n",
      "Water Bottle          0.0           0.0         3.0            1.0   \n",
      "Wristbands            0.0           0.0         0.0            4.0   \n",
      "\n",
      "              gender_Women  \n",
      "articleType                 \n",
      "Waistcoat              5.0  \n",
      "Wallets              465.0  \n",
      "Watches              902.0  \n",
      "Water Bottle           0.0  \n",
      "Wristbands             0.0  \n"
     ]
    }
   ],
   "source": [
    "one_hot_gender_columns = [col for col in df.columns if col.startswith('gender_')]\n",
    "article_gender_agg = df.groupby('articleType')[one_hot_gender_columns].sum()\n",
    "print(article_gender_agg.head())\n",
    "print(article_gender_agg.tail())"
   ]
  },
  {
   "cell_type": "markdown",
   "id": "3c2fd78b",
   "metadata": {},
   "source": [
    "## Splitting The Dataset"
   ]
  },
  {
   "cell_type": "code",
   "execution_count": 86,
   "id": "b0cee7d3",
   "metadata": {},
   "outputs": [],
   "source": [
    "from sklearn.model_selection import train_test_split\n",
    "\n",
    "# Define features and labels\n",
    "features = df[['colorgroup', 'season', 'usage', 'gender']]\n",
    "labels = df['articleType']\n",
    "\n",
    "# Split the dataset\n",
    "X_train, X_test, y_train, y_test = train_test_split(features, labels, test_size=0.2, random_state=42)"
   ]
  },
  {
   "cell_type": "markdown",
   "id": "7ac7c6d4",
   "metadata": {},
   "source": [
    "## Image Processing"
   ]
  },
  {
   "cell_type": "markdown",
   "id": "6ebfdff8",
   "metadata": {},
   "source": [
    "### Image Path Exist "
   ]
  },
  {
   "cell_type": "code",
   "execution_count": 87,
   "id": "77d8ce09",
   "metadata": {},
   "outputs": [
    {
     "name": "stdout",
     "output_type": "stream",
     "text": [
      "Empty DataFrame\n",
      "Columns: [id, imagePath]\n",
      "Index: []\n",
      "Total invalid paths: 0\n"
     ]
    }
   ],
   "source": [
    "# Construct the image paths\n",
    "df['imagePath'] = './images/' + df['id'].astype(str) + '.jpg'\n",
    "\n",
    "import os\n",
    "def file_exists(path):\n",
    "    return os.path.isfile(path)\n",
    "\n",
    "df['path_exists'] = df['imagePath'].apply(file_exists)\n",
    "\n",
    "# Display rows where the path does not exist\n",
    "invalid_paths = df[df['path_exists'] == False][['id', 'imagePath']]\n",
    "print(invalid_paths.head())\n",
    "print(f\"Total invalid paths: {len(invalid_paths)}\")\n"
   ]
  },
  {
   "cell_type": "code",
   "execution_count": 88,
   "id": "1eafcec7",
   "metadata": {},
   "outputs": [
    {
     "name": "stdout",
     "output_type": "stream",
     "text": [
      "     id          imagePath articleType\n",
      "0  1163  ./images/1163.jpg     Tshirts\n",
      "1  1164  ./images/1164.jpg     Tshirts\n",
      "2  1165  ./images/1165.jpg     Tshirts\n",
      "3  1525  ./images/1525.jpg   Backpacks\n",
      "4  1526  ./images/1526.jpg   Backpacks\n"
     ]
    }
   ],
   "source": [
    "# Print a sample of the DataFrame\n",
    "print(df[['id', 'imagePath', 'articleType']].head())\n"
   ]
  },
  {
   "cell_type": "code",
   "execution_count": 89,
   "id": "a007ec4d",
   "metadata": {},
   "outputs": [
    {
     "name": "stdout",
     "output_type": "stream",
     "text": [
      "id                                int64\n",
      "gender                           object\n",
      "masterCategory                   object\n",
      "subCategory                      object\n",
      "articleType                      object\n",
      "baseColour                       object\n",
      "colorgroup                       object\n",
      "season                           object\n",
      "usage                            object\n",
      "productDisplayName               object\n",
      "colorgroup_Black                  uint8\n",
      "colorgroup_Blue                   uint8\n",
      "colorgroup_Brown                  uint8\n",
      "colorgroup_Green                  uint8\n",
      "colorgroup_Grey                   uint8\n",
      "colorgroup_Metallic               uint8\n",
      "colorgroup_Multi                  uint8\n",
      "colorgroup_Orange                 uint8\n",
      "colorgroup_Pink                   uint8\n",
      "colorgroup_Purple                 uint8\n",
      "colorgroup_Red                    uint8\n",
      "colorgroup_White                  uint8\n",
      "colorgroup_Yellow                 uint8\n",
      "masterCategory_Accessories        uint8\n",
      "masterCategory_Apparel            uint8\n",
      "masterCategory_Footwear           uint8\n",
      "masterCategory_Sporting Goods     uint8\n",
      "gender_Boys                       uint8\n",
      "gender_Girls                      uint8\n",
      "gender_Men                        uint8\n",
      "gender_Unisex                     uint8\n",
      "gender_Women                      uint8\n",
      "imagePath                        object\n",
      "path_exists                        bool\n",
      "dtype: object\n"
     ]
    }
   ],
   "source": [
    "# Ensure articleType is a string\n",
    "df['articleType'] = df['articleType'].astype(str)\n",
    "\n",
    "#data types\n",
    "print(df.dtypes)"
   ]
  },
  {
   "cell_type": "code",
   "execution_count": 90,
   "id": "80fac3a3",
   "metadata": {},
   "outputs": [
    {
     "name": "stdout",
     "output_type": "stream",
     "text": [
      "     id          imagePath articleType\n",
      "0  1163  ./images/1163.jpg     Tshirts\n",
      "1  1164  ./images/1164.jpg     Tshirts\n",
      "2  1165  ./images/1165.jpg     Tshirts\n",
      "3  1525  ./images/1525.jpg   Backpacks\n",
      "4  1526  ./images/1526.jpg   Backpacks\n",
      "5  1528  ./images/1528.jpg     Jackets\n",
      "6  1529  ./images/1529.jpg     Tshirts\n",
      "7  1530  ./images/1530.jpg     Jackets\n",
      "8  1531  ./images/1531.jpg     Tshirts\n",
      "9  1532  ./images/1532.jpg     Tshirts\n"
     ]
    },
    {
     "name": "stderr",
     "output_type": "stream",
     "text": [
      "C:\\Users\\ASHMITA\\AppData\\Local\\Temp\\ipykernel_11772\\3681198928.py:5: SettingWithCopyWarning: \n",
      "A value is trying to be set on a copy of a slice from a DataFrame.\n",
      "Try using .loc[row_indexer,col_indexer] = value instead\n",
      "\n",
      "See the caveats in the documentation: https://pandas.pydata.org/pandas-docs/stable/user_guide/indexing.html#returning-a-view-versus-a-copy\n",
      "  sample_df['articleType'] = sample_df['articleType'].astype(str)\n"
     ]
    }
   ],
   "source": [
    "# Create a minimal example DataFrame\n",
    "sample_df = df.head(10)\n",
    "\n",
    "# Ensure articleType is a string\n",
    "sample_df['articleType'] = sample_df['articleType'].astype(str)\n",
    "\n",
    "print(sample_df[['id', 'imagePath', 'articleType']])\n"
   ]
  },
  {
   "cell_type": "code",
   "execution_count": 91,
   "id": "088fc191",
   "metadata": {},
   "outputs": [
    {
     "name": "stdout",
     "output_type": "stream",
     "text": [
      "     id          imagePath articleType\n",
      "0  1163  ./images/1163.jpg     Tshirts\n",
      "1  1164  ./images/1164.jpg     Tshirts\n",
      "2  1165  ./images/1165.jpg     Tshirts\n",
      "3  1525  ./images/1525.jpg   Backpacks\n",
      "4  1526  ./images/1526.jpg   Backpacks\n",
      "5  1528  ./images/1528.jpg     Jackets\n",
      "6  1529  ./images/1529.jpg     Tshirts\n",
      "7  1530  ./images/1530.jpg     Jackets\n",
      "8  1531  ./images/1531.jpg     Tshirts\n",
      "9  1532  ./images/1532.jpg     Tshirts\n"
     ]
    }
   ],
   "source": [
    "# Create a minimal example DataFrame and an explicit copy\n",
    "# first 10 copies\n",
    "sample_df = df.head(10).copy()\n",
    "\n",
    "# Ensure articleType is a string\n",
    "sample_df['articleType'] = sample_df['articleType'].astype(str)\n",
    "\n",
    "print(sample_df[['id', 'imagePath', 'articleType']])\n"
   ]
  },
  {
   "cell_type": "code",
   "execution_count": 92,
   "id": "c60bf4ac",
   "metadata": {},
   "outputs": [
    {
     "name": "stdout",
     "output_type": "stream",
     "text": [
      "Invalid paths: []\n"
     ]
    }
   ],
   "source": [
    "import os\n",
    "\n",
    "# Function to check if the image paths exist\n",
    "def check_image_paths(dataframe):\n",
    "    invalid_paths = []\n",
    "    for index, row in dataframe.iterrows():\n",
    "        if not os.path.exists(row['imagePath']):\n",
    "            invalid_paths.append(row['imagePath'])\n",
    "    return invalid_paths\n",
    "\n",
    "# Check image paths in the sample DataFrame\n",
    "invalid_paths = check_image_paths(sample_df)\n",
    "print(\"Invalid paths:\", invalid_paths)\n"
   ]
  },
  {
   "cell_type": "markdown",
   "id": "a36e286a",
   "metadata": {},
   "source": [
    "### Image PreProcessing"
   ]
  },
  {
   "cell_type": "code",
   "execution_count": 93,
   "id": "5a7ccd64",
   "metadata": {},
   "outputs": [
    {
     "name": "stdout",
     "output_type": "stream",
     "text": [
      "Found 10 validated image filenames belonging to 3 classes.\n",
      "{'Backpacks': 0, 'Jackets': 1, 'Tshirts': 2}\n"
     ]
    }
   ],
   "source": [
    "from tensorflow.keras.preprocessing.image import ImageDataGenerator\n",
    "\n",
    "# Create an image data generator without validation split\n",
    "datagen = ImageDataGenerator(\n",
    "    rescale=1./255,\n",
    "    horizontal_flip=True,\n",
    "    zoom_range=0.2,\n",
    "    shear_range=0.2\n",
    ")\n",
    "\n",
    "# Create the data generators\n",
    "train_generator = datagen.flow_from_dataframe(\n",
    "    dataframe=sample_df,\n",
    "    directory=None,\n",
    "    x_col='imagePath',\n",
    "    y_col='articleType',\n",
    "    batch_size=32,\n",
    "    seed=42,\n",
    "    shuffle=True,\n",
    "    class_mode='categorical',\n",
    "    target_size=(128, 128)\n",
    ")\n",
    "\n",
    "print(train_generator.class_indices)\n"
   ]
  },
  {
   "cell_type": "code",
   "execution_count": 94,
   "id": "d4077720",
   "metadata": {},
   "outputs": [
    {
     "name": "stdout",
     "output_type": "stream",
     "text": [
      "Found 31673 validated image filenames belonging to 88 classes.\n",
      "Found 7918 validated image filenames belonging to 88 classes.\n",
      "{'Accessory Gift Set': 0, 'Backpacks': 1, 'Bangle': 2, 'Belts': 3, 'Blazers': 4, 'Booties': 5, 'Bracelet': 6, 'Capris': 7, 'Caps': 8, 'Casual Shoes': 9, 'Churidar': 10, 'Clothing Set': 11, 'Clutches': 12, 'Cufflinks': 13, 'Dresses': 14, 'Duffel Bag': 15, 'Dupatta': 16, 'Earrings': 17, 'Flats': 18, 'Flip Flops': 19, 'Formal Shoes': 20, 'Gloves': 21, 'Hair Accessory': 22, 'Handbags': 23, 'Hat': 24, 'Headband': 25, 'Heels': 26, 'Jackets': 27, 'Jeans': 28, 'Jeggings': 29, 'Jewellery Set': 30, 'Jumpsuit': 31, 'Key chain': 32, 'Kurta Sets': 33, 'Kurtas': 34, 'Kurtis': 35, 'Laptop Bag': 36, 'Leggings': 37, 'Lehenga Choli': 38, 'Messenger Bag': 39, 'Mobile Pouch': 40, 'Mufflers': 41, 'Necklace and Chains': 42, 'Nehru Jackets': 43, 'Patiala': 44, 'Pendant': 45, 'Rain Jacket': 46, 'Rain Trousers': 47, 'Ring': 48, 'Rompers': 49, 'Rucksacks': 50, 'Salwar': 51, 'Salwar and Dupatta': 52, 'Sandals': 53, 'Sarees': 54, 'Scarves': 55, 'Shirts': 56, 'Shorts': 57, 'Shrug': 58, 'Skirts': 59, 'Socks': 60, 'Sports Sandals': 61, 'Sports Shoes': 62, 'Stockings': 63, 'Stoles': 64, 'Sunglasses': 65, 'Suspenders': 66, 'Sweaters': 67, 'Sweatshirts': 68, 'Swimwear': 69, 'Tablet Sleeve': 70, 'Ties': 71, 'Ties and Cufflinks': 72, 'Tights': 73, 'Tops': 74, 'Track Pants': 75, 'Tracksuits': 76, 'Travel Accessory': 77, 'Trolley Bag': 78, 'Trousers': 79, 'Tshirts': 80, 'Tunics': 81, 'Waist Pouch': 82, 'Waistcoat': 83, 'Wallets': 84, 'Watches': 85, 'Water Bottle': 86, 'Wristbands': 87}\n",
      "{'Accessory Gift Set': 0, 'Backpacks': 1, 'Bangle': 2, 'Belts': 3, 'Blazers': 4, 'Booties': 5, 'Bracelet': 6, 'Capris': 7, 'Caps': 8, 'Casual Shoes': 9, 'Churidar': 10, 'Clothing Set': 11, 'Clutches': 12, 'Cufflinks': 13, 'Dresses': 14, 'Duffel Bag': 15, 'Dupatta': 16, 'Earrings': 17, 'Flats': 18, 'Flip Flops': 19, 'Formal Shoes': 20, 'Gloves': 21, 'Hair Accessory': 22, 'Handbags': 23, 'Hat': 24, 'Headband': 25, 'Heels': 26, 'Jackets': 27, 'Jeans': 28, 'Jeggings': 29, 'Jewellery Set': 30, 'Jumpsuit': 31, 'Key chain': 32, 'Kurta Sets': 33, 'Kurtas': 34, 'Kurtis': 35, 'Laptop Bag': 36, 'Leggings': 37, 'Lehenga Choli': 38, 'Messenger Bag': 39, 'Mobile Pouch': 40, 'Mufflers': 41, 'Necklace and Chains': 42, 'Nehru Jackets': 43, 'Patiala': 44, 'Pendant': 45, 'Rain Jacket': 46, 'Rain Trousers': 47, 'Ring': 48, 'Rompers': 49, 'Rucksacks': 50, 'Salwar': 51, 'Salwar and Dupatta': 52, 'Sandals': 53, 'Sarees': 54, 'Scarves': 55, 'Shirts': 56, 'Shorts': 57, 'Shrug': 58, 'Skirts': 59, 'Socks': 60, 'Sports Sandals': 61, 'Sports Shoes': 62, 'Stockings': 63, 'Stoles': 64, 'Sunglasses': 65, 'Suspenders': 66, 'Sweaters': 67, 'Sweatshirts': 68, 'Swimwear': 69, 'Tablet Sleeve': 70, 'Ties': 71, 'Ties and Cufflinks': 72, 'Tights': 73, 'Tops': 74, 'Track Pants': 75, 'Tracksuits': 76, 'Travel Accessory': 77, 'Trolley Bag': 78, 'Trousers': 79, 'Tshirts': 80, 'Tunics': 81, 'Waist Pouch': 82, 'Waistcoat': 83, 'Wallets': 84, 'Watches': 85, 'Water Bottle': 86, 'Wristbands': 87}\n"
     ]
    }
   ],
   "source": [
    "from tensorflow.keras.preprocessing.image import ImageDataGenerator\n",
    "\n",
    "# Create an image data generator with validation split\n",
    "datagen = ImageDataGenerator(\n",
    "    rescale=1./255,\n",
    "    validation_split=0.2,\n",
    "    horizontal_flip=True,\n",
    "    zoom_range=0.2,\n",
    "    shear_range=0.2\n",
    ")\n",
    "\n",
    "# Create training data generator\n",
    "train_generator = datagen.flow_from_dataframe(\n",
    "    dataframe=df,\n",
    "    directory=None, \n",
    "    x_col='imagePath',\n",
    "    y_col='articleType',\n",
    "    subset='training',\n",
    "    batch_size=32,\n",
    "    seed=42,\n",
    "    shuffle=True,\n",
    "    class_mode='categorical',\n",
    "    target_size=(128, 128)\n",
    ")\n",
    "\n",
    "# Create validation data generator\n",
    "validation_generator = datagen.flow_from_dataframe(\n",
    "    dataframe=df,\n",
    "    directory=None,\n",
    "    x_col='imagePath',\n",
    "    y_col='articleType',\n",
    "    subset='validation',\n",
    "    batch_size=32,\n",
    "    seed=42,\n",
    "    shuffle=True,\n",
    "    class_mode='categorical',\n",
    "    target_size=(128, 128)\n",
    ")\n",
    "\n",
    "print(train_generator.class_indices)\n",
    "print(validation_generator.class_indices)\n"
   ]
  },
  {
   "cell_type": "markdown",
   "id": "5a47abe2",
   "metadata": {},
   "source": [
    "## Model Selection"
   ]
  },
  {
   "cell_type": "code",
   "execution_count": 95,
   "id": "b6a3a296",
   "metadata": {},
   "outputs": [],
   "source": [
    "from tensorflow.keras.preprocessing.image import ImageDataGenerator\n",
    "from tensorflow.keras.applications import ResNet50, VGG16, InceptionV3\n",
    "from tensorflow.keras.models import Model\n",
    "from tensorflow.keras.layers import GlobalAveragePooling2D, Dense\n",
    "from tensorflow.keras.optimizers import Adam\n",
    "from tensorflow.keras.callbacks import EarlyStopping, ModelCheckpoint\n",
    "from PIL import Image"
   ]
  },
  {
   "cell_type": "code",
   "execution_count": 178,
   "id": "d5045b75",
   "metadata": {},
   "outputs": [],
   "source": [
    "# Constants\n",
    "IMG_WIDTH, IMG_HEIGHT = 224, 224\n",
    "NUM_CLASSES = 4\n",
    "NUM_SAMPLES = 1000\n",
    "\n",
    "# Create a directory for the images\n",
    "os.makedirs('images', exist_ok=True)\n",
    "\n",
    "for i in range(NUM_SAMPLES):\n",
    "    img = Image.fromarray(np.random.randint(0, 255, (IMG_WIDTH, IMG_HEIGHT, 3), dtype=np.uint8))\n",
    "    img.save(f'images/image_{i}.jpg')\n",
    "\n",
    "image_paths = [f'images/image_{i}.jpg' for i in range(NUM_SAMPLES)]\n",
    "article_types = np.random.choice(['shirt', 'pants', 'dress', 'shoes'], size=NUM_SAMPLES)\n",
    "\n",
    "# Create a DataFrame\n",
    "df = pd.DataFrame({'imagePath': image_paths, 'articleType': article_types})"
   ]
  },
  {
   "cell_type": "code",
   "execution_count": 179,
   "id": "fa3883f4",
   "metadata": {},
   "outputs": [
    {
     "name": "stdout",
     "output_type": "stream",
     "text": [
      "Found 800 validated image filenames belonging to 4 classes.\n",
      "Found 200 validated image filenames belonging to 4 classes.\n"
     ]
    }
   ],
   "source": [
    "# Example of setting up data generators\n",
    "datagen = ImageDataGenerator(rescale=1./255, validation_split=0.2)\n",
    "\n",
    "train_generator = datagen.flow_from_dataframe(\n",
    "    dataframe=df,\n",
    "    directory=None,\n",
    "    x_col='imagePath',\n",
    "    y_col='articleType',\n",
    "    subset='training',\n",
    "    batch_size=32,\n",
    "    seed=42,\n",
    "    shuffle=True,\n",
    "    class_mode='categorical',\n",
    "    target_size=(IMG_WIDTH, IMG_HEIGHT)\n",
    ")\n",
    "\n",
    "validation_generator = datagen.flow_from_dataframe(\n",
    "    dataframe=df,\n",
    "    directory=None,\n",
    "    x_col='imagePath',\n",
    "    y_col='articleType',\n",
    "    subset='validation',\n",
    "    batch_size=32,\n",
    "    seed=42,\n",
    "    shuffle=False,\n",
    "    class_mode='categorical',\n",
    "    target_size=(IMG_WIDTH, IMG_HEIGHT)\n",
    ")"
   ]
  },
  {
   "cell_type": "code",
   "execution_count": 180,
   "id": "5f0c5172",
   "metadata": {},
   "outputs": [],
   "source": [
    "# Function to create a ResNet50 model\n",
    "def create_resnet50_model(num_classes):\n",
    "    base_model = ResNet50(weights='imagenet', include_top=False, input_shape=(IMG_WIDTH, IMG_HEIGHT, 3))\n",
    "    x = base_model.output\n",
    "    x = GlobalAveragePooling2D()(x)\n",
    "    x = Dense(1024, activation='relu')(x)\n",
    "    predictions = Dense(num_classes, activation='softmax')(x)\n",
    "    model = Model(inputs=base_model.input, outputs=predictions)\n",
    "    return model"
   ]
  },
  {
   "cell_type": "code",
   "execution_count": 99,
   "id": "77c5845c",
   "metadata": {},
   "outputs": [],
   "source": [
    "# Function to create a VGG16 model\n",
    "def create_vgg16_model(num_classes):\n",
    "    base_model = VGG16(weights='imagenet', include_top=False, input_shape=(IMG_WIDTH, IMG_HEIGHT, 3))\n",
    "    x = base_model.output\n",
    "    x = GlobalAveragePooling2D()(x)\n",
    "    x = Dense(1024, activation='relu')(x)\n",
    "    predictions = Dense(num_classes, activation='softmax')(x)\n",
    "    model = Model(inputs=base_model.input, outputs=predictions)\n",
    "    return model"
   ]
  },
  {
   "cell_type": "code",
   "execution_count": 100,
   "id": "169f30e6",
   "metadata": {},
   "outputs": [],
   "source": [
    "# Function to create a VGG16 model\n",
    "def create_vgg16_model(num_classes):\n",
    "    base_model = VGG16(weights='imagenet', include_top=False, input_shape=(IMG_WIDTH, IMG_HEIGHT, 3))\n",
    "    x = base_model.output\n",
    "    x = GlobalAveragePooling2D()(x)\n",
    "    x = Dense(1024, activation='relu')(x)\n",
    "    predictions = Dense(num_classes, activation='softmax')(x)\n",
    "    model = Model(inputs=base_model.input, outputs=predictions)\n",
    "    return model"
   ]
  },
  {
   "cell_type": "code",
   "execution_count": 101,
   "id": "294c10b0",
   "metadata": {},
   "outputs": [],
   "source": [
    "# Function to create an InceptionV3 model\n",
    "def create_inceptionv3_model(num_classes):\n",
    "    base_model = InceptionV3(weights='imagenet', include_top=False, input_shape=(IMG_WIDTH, IMG_HEIGHT, 3))\n",
    "    x = base_model.output\n",
    "    x = GlobalAveragePooling2D()(x)\n",
    "    x = Dense(1024, activation='relu')(x)\n",
    "    predictions = Dense(num_classes, activation='softmax')(x)\n",
    "    model = Model(inputs=base_model.input, outputs=predictions)\n",
    "    return model"
   ]
  },
  {
   "cell_type": "code",
   "execution_count": 102,
   "id": "748942f6",
   "metadata": {},
   "outputs": [],
   "source": [
    "# Create instances of each model\n",
    "resnet50_model = create_resnet50_model(NUM_CLASSES)\n",
    "vgg16_model = create_vgg16_model(NUM_CLASSES)\n",
    "inceptionv3_model = create_inceptionv3_model(NUM_CLASSES)"
   ]
  },
  {
   "cell_type": "code",
   "execution_count": 103,
   "id": "e67f9405",
   "metadata": {},
   "outputs": [
    {
     "name": "stdout",
     "output_type": "stream",
     "text": [
      "Training samples: 800\n",
      "Validation samples: 200\n"
     ]
    }
   ],
   "source": [
    "# Compile each model\n",
    "resnet50_model.compile(optimizer=Adam(), loss='categorical_crossentropy', metrics=['accuracy'])\n",
    "vgg16_model.compile(optimizer=Adam(), loss='categorical_crossentropy', metrics=['accuracy'])\n",
    "inceptionv3_model.compile(optimizer=Adam(), loss='categorical_crossentropy', metrics=['accuracy'])\n",
    "\n",
    "# Print the number of samples\n",
    "print(f\"Training samples: {train_generator.samples}\")\n",
    "print(f\"Validation samples: {validation_generator.samples}\")"
   ]
  },
  {
   "cell_type": "code",
   "execution_count": 104,
   "id": "8ca2aee3",
   "metadata": {},
   "outputs": [],
   "source": [
    "# Adjust steps_per_epoch and validation_steps\n",
    "steps_per_epoch = train_generator.samples // train_generator.batch_size\n",
    "validation_steps = validation_generator.samples // validation_generator.batch_size\n",
    "\n",
    "# Early stopping callback\n",
    "early_stopping = EarlyStopping(monitor='val_accuracy', patience=2, verbose=1, mode='max', restore_best_weights=True)\n",
    "\n",
    "# Model checkpoint callback\n",
    "model_checkpoint = ModelCheckpoint('best_model.keras', save_best_only=True, monitor='val_accuracy', mode='max', verbose=1)\n",
    "\n",
    "# Epoch\n",
    "epochs = 3"
   ]
  },
  {
   "cell_type": "code",
   "execution_count": 105,
   "id": "cca30c47",
   "metadata": {},
   "outputs": [
    {
     "name": "stdout",
     "output_type": "stream",
     "text": [
      "Epoch 1/3\n"
     ]
    },
    {
     "name": "stderr",
     "output_type": "stream",
     "text": [
      "C:\\Users\\ASHMITA\\AppData\\Local\\Packages\\PythonSoftwareFoundation.Python.3.10_qbz5n2kfra8p0\\LocalCache\\local-packages\\Python310\\site-packages\\keras\\src\\trainers\\data_adapters\\py_dataset_adapter.py:121: UserWarning: Your `PyDataset` class should call `super().__init__(**kwargs)` in its constructor. `**kwargs` can include `workers`, `use_multiprocessing`, `max_queue_size`. Do not pass these arguments to `fit()`, as they will be ignored.\n",
      "  self._warn_if_super_not_called()\n"
     ]
    },
    {
     "name": "stdout",
     "output_type": "stream",
     "text": [
      "\u001b[1m25/25\u001b[0m \u001b[32m━━━━━━━━━━━━━━━━━━━━\u001b[0m\u001b[37m\u001b[0m \u001b[1m0s\u001b[0m 4s/step - accuracy: 0.2512 - loss: 2.4171\n",
      "Epoch 1: val_accuracy improved from -inf to 0.23438, saving model to best_model.keras\n",
      "\u001b[1m25/25\u001b[0m \u001b[32m━━━━━━━━━━━━━━━━━━━━\u001b[0m\u001b[37m\u001b[0m \u001b[1m195s\u001b[0m 5s/step - accuracy: 0.2514 - loss: 2.4001 - val_accuracy: 0.2344 - val_loss: 7918.2622\n",
      "Epoch 2/3\n"
     ]
    },
    {
     "name": "stderr",
     "output_type": "stream",
     "text": [
      "C:\\Program Files\\WindowsApps\\PythonSoftwareFoundation.Python.3.10_3.10.3056.0_x64__qbz5n2kfra8p0\\lib\\contextlib.py:153: UserWarning: Your input ran out of data; interrupting training. Make sure that your dataset or generator can generate at least `steps_per_epoch * epochs` batches. You may need to use the `.repeat()` function when building your dataset.\n",
      "  self.gen.throw(typ, value, traceback)\n"
     ]
    },
    {
     "name": "stdout",
     "output_type": "stream",
     "text": [
      "\n",
      "Epoch 2: val_accuracy did not improve from 0.23438\n",
      "\u001b[1m25/25\u001b[0m \u001b[32m━━━━━━━━━━━━━━━━━━━━\u001b[0m\u001b[37m\u001b[0m \u001b[1m2s\u001b[0m 62ms/step - accuracy: 0.0000e+00 - loss: 0.0000e+00 - val_accuracy: 0.1250 - val_loss: 6299.7930\n",
      "Epoch 3/3\n",
      "\u001b[1m25/25\u001b[0m \u001b[32m━━━━━━━━━━━━━━━━━━━━\u001b[0m\u001b[37m\u001b[0m \u001b[1m0s\u001b[0m 4s/step - accuracy: 0.2579 - loss: 1.4089\n",
      "Epoch 3: val_accuracy did not improve from 0.23438\n",
      "\u001b[1m25/25\u001b[0m \u001b[32m━━━━━━━━━━━━━━━━━━━━\u001b[0m\u001b[37m\u001b[0m \u001b[1m105s\u001b[0m 4s/step - accuracy: 0.2589 - loss: 1.4085 - val_accuracy: 0.2344 - val_loss: 1159.6445\n",
      "Epoch 3: early stopping\n",
      "Restoring model weights from the end of the best epoch: 1.\n"
     ]
    }
   ],
   "source": [
    "# Train ResNet50\n",
    "resnet50_history = resnet50_model.fit(\n",
    "    train_generator,\n",
    "    steps_per_epoch=steps_per_epoch,\n",
    "    epochs=epochs,\n",
    "    validation_data=validation_generator,\n",
    "    validation_steps=validation_steps,\n",
    "    callbacks=[early_stopping, model_checkpoint]\n",
    ")"
   ]
  },
  {
   "cell_type": "code",
   "execution_count": 106,
   "id": "21ee743e",
   "metadata": {},
   "outputs": [
    {
     "name": "stdout",
     "output_type": "stream",
     "text": [
      "Epoch 1/3\n",
      "\u001b[1m25/25\u001b[0m \u001b[32m━━━━━━━━━━━━━━━━━━━━\u001b[0m\u001b[37m\u001b[0m \u001b[1m0s\u001b[0m 7s/step - accuracy: 0.2415 - loss: 1.9394\n",
      "Epoch 1: val_accuracy did not improve from 0.23438\n",
      "\u001b[1m25/25\u001b[0m \u001b[32m━━━━━━━━━━━━━━━━━━━━\u001b[0m\u001b[37m\u001b[0m \u001b[1m190s\u001b[0m 7s/step - accuracy: 0.2413 - loss: 1.9276 - val_accuracy: 0.2031 - val_loss: 1.3870\n",
      "Epoch 2/3\n",
      "\n",
      "Epoch 2: val_accuracy improved from 0.23438 to 0.37500, saving model to best_model.keras\n",
      "\u001b[1m25/25\u001b[0m \u001b[32m━━━━━━━━━━━━━━━━━━━━\u001b[0m\u001b[37m\u001b[0m \u001b[1m2s\u001b[0m 99ms/step - accuracy: 0.0000e+00 - loss: 0.0000e+00 - val_accuracy: 0.3750 - val_loss: 1.4014\n",
      "Epoch 3/3\n",
      "\u001b[1m25/25\u001b[0m \u001b[32m━━━━━━━━━━━━━━━━━━━━\u001b[0m\u001b[37m\u001b[0m \u001b[1m0s\u001b[0m 7s/step - accuracy: 0.2594 - loss: 1.3935\n",
      "Epoch 3: val_accuracy did not improve from 0.37500\n",
      "\u001b[1m25/25\u001b[0m \u001b[32m━━━━━━━━━━━━━━━━━━━━\u001b[0m\u001b[37m\u001b[0m \u001b[1m189s\u001b[0m 8s/step - accuracy: 0.2594 - loss: 1.3935 - val_accuracy: 0.2344 - val_loss: 1.3884\n",
      "Restoring model weights from the end of the best epoch: 2.\n"
     ]
    }
   ],
   "source": [
    "# Train VGG16\n",
    "vgg16_history = vgg16_model.fit(\n",
    "    train_generator,\n",
    "    steps_per_epoch=steps_per_epoch,\n",
    "    epochs=epochs,\n",
    "    validation_data=validation_generator,\n",
    "    validation_steps=validation_steps,\n",
    "    callbacks=[early_stopping, model_checkpoint]\n",
    ")"
   ]
  },
  {
   "cell_type": "code",
   "execution_count": 107,
   "id": "e1418dee",
   "metadata": {
    "scrolled": true
   },
   "outputs": [
    {
     "name": "stdout",
     "output_type": "stream",
     "text": [
      "Epoch 1/3\n",
      "\u001b[1m25/25\u001b[0m \u001b[32m━━━━━━━━━━━━━━━━━━━━\u001b[0m\u001b[37m\u001b[0m \u001b[1m0s\u001b[0m 2s/step - accuracy: 0.2702 - loss: 2.3284\n",
      "Epoch 1: val_accuracy did not improve from 0.37500\n",
      "\u001b[1m25/25\u001b[0m \u001b[32m━━━━━━━━━━━━━━━━━━━━\u001b[0m\u001b[37m\u001b[0m \u001b[1m144s\u001b[0m 3s/step - accuracy: 0.2703 - loss: 2.3125 - val_accuracy: 0.3073 - val_loss: 240895.7031\n",
      "Epoch 2/3\n",
      "\n",
      "Epoch 2: val_accuracy did not improve from 0.37500\n",
      "\u001b[1m25/25\u001b[0m \u001b[32m━━━━━━━━━━━━━━━━━━━━\u001b[0m\u001b[37m\u001b[0m \u001b[1m1s\u001b[0m 40ms/step - accuracy: 0.0000e+00 - loss: 0.0000e+00 - val_accuracy: 0.0000e+00 - val_loss: 403166.1875\n",
      "Epoch 2: early stopping\n",
      "Restoring model weights from the end of the best epoch: 1.\n"
     ]
    }
   ],
   "source": [
    "# Train InceptionV3\n",
    "inceptionv3_history = inceptionv3_model.fit(\n",
    "    train_generator,\n",
    "    steps_per_epoch=steps_per_epoch,\n",
    "    epochs=epochs,\n",
    "    validation_data=validation_generator,\n",
    "    validation_steps=validation_steps,\n",
    "    callbacks=[early_stopping, model_checkpoint]\n",
    ")"
   ]
  },
  {
   "cell_type": "code",
   "execution_count": 108,
   "id": "aacf8b08",
   "metadata": {},
   "outputs": [
    {
     "name": "stdout",
     "output_type": "stream",
     "text": [
      "Best validation accuracy for ResNet50: 0.2344\n",
      "Best validation accuracy for VGG16: 0.3750\n",
      "Best validation accuracy for InceptionV3: 0.3073\n"
     ]
    }
   ],
   "source": [
    "# Extract the best validation accuracy from the training history\n",
    "best_resnet50_val_accuracy = max(resnet50_history.history['val_accuracy'])\n",
    "best_vgg16_val_accuracy = max(vgg16_history.history['val_accuracy'])\n",
    "best_inceptionv3_val_accuracy = max(inceptionv3_history.history['val_accuracy'])\n",
    "\n",
    "# Print the best validation accuracy for each model\n",
    "print(f\"Best validation accuracy for ResNet50: {best_resnet50_val_accuracy:.4f}\")\n",
    "print(f\"Best validation accuracy for VGG16: {best_vgg16_val_accuracy:.4f}\")\n",
    "print(f\"Best validation accuracy for InceptionV3: {best_inceptionv3_val_accuracy:.4f}\")\n"
   ]
  }
 ],
 "metadata": {
  "kernelspec": {
   "display_name": "Python 3 (ipykernel)",
   "language": "python",
   "name": "python3"
  },
  "language_info": {
   "codemirror_mode": {
    "name": "ipython",
    "version": 3
   },
   "file_extension": ".py",
   "mimetype": "text/x-python",
   "name": "python",
   "nbconvert_exporter": "python",
   "pygments_lexer": "ipython3",
   "version": "3.10.11"
  }
 },
 "nbformat": 4,
 "nbformat_minor": 5
}
